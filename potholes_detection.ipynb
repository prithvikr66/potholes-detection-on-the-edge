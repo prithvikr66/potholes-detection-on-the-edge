{
  "cells": [
    {
      "cell_type": "markdown",
      "metadata": {
        "colab_type": "text",
        "id": "view-in-github"
      },
      "source": [
        "<a href=\"https://colab.research.google.com/github/prithvikr66/potholes-detection-on-the-edge/blob/main/potholes_detection.ipynb\" target=\"_parent\"><img src=\"https://colab.research.google.com/assets/colab-badge.svg\" alt=\"Open In Colab\"/></a>"
      ]
    },
    {
      "cell_type": "code",
      "execution_count": null,
      "metadata": {
        "colab": {
          "base_uri": "https://localhost:8080/",
          "height": 373
        },
        "id": "i8AUl_8DAUv7",
        "outputId": "6d95c9b6-251c-463c-e97c-43e9642de4c4"
      },
      "outputs": [
        {
          "ename": "NotImplementedError",
          "evalue": "A UTF-8 locale is required. Got ANSI_X3.4-1968",
          "output_type": "error",
          "traceback": [
            "\u001b[0;31m---------------------------------------------------------------------------\u001b[0m",
            "\u001b[0;31mNotImplementedError\u001b[0m                       Traceback (most recent call last)",
            "\u001b[0;32m<ipython-input-20-4d0ab091062b>\u001b[0m in \u001b[0;36m<cell line: 1>\u001b[0;34m()\u001b[0m\n\u001b[0;32m----> 1\u001b[0;31m \u001b[0mget_ipython\u001b[0m\u001b[0;34m(\u001b[0m\u001b[0;34m)\u001b[0m\u001b[0;34m.\u001b[0m\u001b[0msystem\u001b[0m\u001b[0;34m(\u001b[0m\u001b[0;34m'pip install simple_image_download'\u001b[0m\u001b[0;34m)\u001b[0m\u001b[0;34m\u001b[0m\u001b[0;34m\u001b[0m\u001b[0m\n\u001b[0m",
            "\u001b[0;32m/usr/local/lib/python3.10/dist-packages/google/colab/_shell.py\u001b[0m in \u001b[0;36msystem\u001b[0;34m(self, *args, **kwargs)\u001b[0m\n\u001b[1;32m     97\u001b[0m       \u001b[0mkwargs\u001b[0m\u001b[0;34m.\u001b[0m\u001b[0mupdate\u001b[0m\u001b[0;34m(\u001b[0m\u001b[0;34m{\u001b[0m\u001b[0;34m'also_return_output'\u001b[0m\u001b[0;34m:\u001b[0m \u001b[0;32mTrue\u001b[0m\u001b[0;34m}\u001b[0m\u001b[0;34m)\u001b[0m\u001b[0;34m\u001b[0m\u001b[0;34m\u001b[0m\u001b[0m\n\u001b[1;32m     98\u001b[0m \u001b[0;34m\u001b[0m\u001b[0m\n\u001b[0;32m---> 99\u001b[0;31m     \u001b[0moutput\u001b[0m \u001b[0;34m=\u001b[0m \u001b[0m_system_commands\u001b[0m\u001b[0;34m.\u001b[0m\u001b[0m_system_compat\u001b[0m\u001b[0;34m(\u001b[0m\u001b[0mself\u001b[0m\u001b[0;34m,\u001b[0m \u001b[0;34m*\u001b[0m\u001b[0margs\u001b[0m\u001b[0;34m,\u001b[0m \u001b[0;34m**\u001b[0m\u001b[0mkwargs\u001b[0m\u001b[0;34m)\u001b[0m  \u001b[0;31m# pylint:disable=protected-access\u001b[0m\u001b[0;34m\u001b[0m\u001b[0;34m\u001b[0m\u001b[0m\n\u001b[0m\u001b[1;32m    100\u001b[0m \u001b[0;34m\u001b[0m\u001b[0m\n\u001b[1;32m    101\u001b[0m     \u001b[0;32mif\u001b[0m \u001b[0mpip_warn\u001b[0m\u001b[0;34m:\u001b[0m\u001b[0;34m\u001b[0m\u001b[0;34m\u001b[0m\u001b[0m\n",
            "\u001b[0;32m/usr/local/lib/python3.10/dist-packages/google/colab/_system_commands.py\u001b[0m in \u001b[0;36m_system_compat\u001b[0;34m(shell, cmd, also_return_output)\u001b[0m\n\u001b[1;32m    452\u001b[0m   \u001b[0;31m# is expected to call this function, thus adding one level of nesting to the\u001b[0m\u001b[0;34m\u001b[0m\u001b[0;34m\u001b[0m\u001b[0m\n\u001b[1;32m    453\u001b[0m   \u001b[0;31m# stack.\u001b[0m\u001b[0;34m\u001b[0m\u001b[0;34m\u001b[0m\u001b[0m\n\u001b[0;32m--> 454\u001b[0;31m   result = _run_command(\n\u001b[0m\u001b[1;32m    455\u001b[0m       \u001b[0mshell\u001b[0m\u001b[0;34m.\u001b[0m\u001b[0mvar_expand\u001b[0m\u001b[0;34m(\u001b[0m\u001b[0mcmd\u001b[0m\u001b[0;34m,\u001b[0m \u001b[0mdepth\u001b[0m\u001b[0;34m=\u001b[0m\u001b[0;36m2\u001b[0m\u001b[0;34m)\u001b[0m\u001b[0;34m,\u001b[0m \u001b[0mclear_streamed_output\u001b[0m\u001b[0;34m=\u001b[0m\u001b[0;32mFalse\u001b[0m\u001b[0;34m\u001b[0m\u001b[0;34m\u001b[0m\u001b[0m\n\u001b[1;32m    456\u001b[0m   )\n",
            "\u001b[0;32m/usr/local/lib/python3.10/dist-packages/google/colab/_system_commands.py\u001b[0m in \u001b[0;36m_run_command\u001b[0;34m(cmd, clear_streamed_output)\u001b[0m\n\u001b[1;32m    166\u001b[0m     \u001b[0mlocale_encoding\u001b[0m \u001b[0;34m=\u001b[0m \u001b[0mlocale\u001b[0m\u001b[0;34m.\u001b[0m\u001b[0mgetpreferredencoding\u001b[0m\u001b[0;34m(\u001b[0m\u001b[0;34m)\u001b[0m\u001b[0;34m\u001b[0m\u001b[0;34m\u001b[0m\u001b[0m\n\u001b[1;32m    167\u001b[0m     \u001b[0;32mif\u001b[0m \u001b[0mlocale_encoding\u001b[0m \u001b[0;34m!=\u001b[0m \u001b[0m_ENCODING\u001b[0m\u001b[0;34m:\u001b[0m\u001b[0;34m\u001b[0m\u001b[0;34m\u001b[0m\u001b[0m\n\u001b[0;32m--> 168\u001b[0;31m       raise NotImplementedError(\n\u001b[0m\u001b[1;32m    169\u001b[0m           \u001b[0;34m'A UTF-8 locale is required. Got {}'\u001b[0m\u001b[0;34m.\u001b[0m\u001b[0mformat\u001b[0m\u001b[0;34m(\u001b[0m\u001b[0mlocale_encoding\u001b[0m\u001b[0;34m)\u001b[0m\u001b[0;34m\u001b[0m\u001b[0;34m\u001b[0m\u001b[0m\n\u001b[1;32m    170\u001b[0m       )\n",
            "\u001b[0;31mNotImplementedError\u001b[0m: A UTF-8 locale is required. Got ANSI_X3.4-1968"
          ]
        },
        {
          "name": "stdout",
          "output_type": "stream",
          "text": [
            "WARNING ⚠️ Video stream unresponsive, please check your IP camera connection.\n",
            "WARNING ⚠️ Video stream unresponsive, please check your IP camera connection.\n",
            "WARNING ⚠️ Video stream unresponsive, please check your IP camera connection.\n",
            "WARNING ⚠️ Video stream unresponsive, please check your IP camera connection.\n"
          ]
        }
      ],
      "source": [
        "!pip install simple_image_download"
      ]
    },
    {
      "cell_type": "code",
      "execution_count": null,
      "metadata": {
        "id": "ZDgumASeAbb1"
      },
      "outputs": [],
      "source": [
        "from simple_image_download import simple_image_download as simp"
      ]
    },
    {
      "cell_type": "code",
      "execution_count": null,
      "metadata": {
        "id": "_ssnItvHAc4O"
      },
      "outputs": [],
      "source": [
        "response = simp.simple_image_download"
      ]
    },
    {
      "cell_type": "code",
      "execution_count": null,
      "metadata": {
        "id": "MhoPzeCLAhIm"
      },
      "outputs": [],
      "source": [
        "keyword = \"potholes\"\n",
        "num_images = 10"
      ]
    },
    {
      "cell_type": "code",
      "execution_count": null,
      "metadata": {
        "id": "Vvi2U6hpAle4"
      },
      "outputs": [],
      "source": [
        "response().download(keyword, num_images)"
      ]
    },
    {
      "cell_type": "code",
      "execution_count": null,
      "metadata": {
        "colab": {
          "base_uri": "https://localhost:8080/"
        },
        "id": "bXe34-iTBFZ_",
        "outputId": "391dda44-523e-438f-be2d-0f84c1d9c10f"
      },
      "outputs": [
        {
          "name": "stdout",
          "output_type": "stream",
          "text": [
            "Collecting ultralytics\n",
            "  Downloading ultralytics-8.2.24-py3-none-any.whl (778 kB)\n",
            "\u001b[?25l     \u001b[90m━━━━━━━━━━━━━━━━━━━━━━━━━━━━━━━━━━━━━━━━\u001b[0m \u001b[32m0.0/778.7 kB\u001b[0m \u001b[31m?\u001b[0m eta \u001b[36m-:--:--\u001b[0m\r\u001b[2K     \u001b[91m━━━━━━━━━━━━━━━━\u001b[0m\u001b[90m╺\u001b[0m\u001b[90m━━━━━━━━━━━━━━━━━━━━━━━\u001b[0m \u001b[32m317.4/778.7 kB\u001b[0m \u001b[31m9.3 MB/s\u001b[0m eta \u001b[36m0:00:01\u001b[0m\r\u001b[2K     \u001b[90m━━━━━━━━━━━━━━━━━━━━━━━━━━━━━━━━━━━━━━━━\u001b[0m \u001b[32m778.7/778.7 kB\u001b[0m \u001b[31m14.1 MB/s\u001b[0m eta \u001b[36m0:00:00\u001b[0m\n",
            "\u001b[?25hRequirement already satisfied: matplotlib>=3.3.0 in /usr/local/lib/python3.10/dist-packages (from ultralytics) (3.7.1)\n",
            "Requirement already satisfied: opencv-python>=4.6.0 in /usr/local/lib/python3.10/dist-packages (from ultralytics) (4.8.0.76)\n",
            "Requirement already satisfied: pillow>=7.1.2 in /usr/local/lib/python3.10/dist-packages (from ultralytics) (9.4.0)\n",
            "Requirement already satisfied: pyyaml>=5.3.1 in /usr/local/lib/python3.10/dist-packages (from ultralytics) (6.0.1)\n",
            "Requirement already satisfied: requests>=2.23.0 in /usr/local/lib/python3.10/dist-packages (from ultralytics) (2.31.0)\n",
            "Requirement already satisfied: scipy>=1.4.1 in /usr/local/lib/python3.10/dist-packages (from ultralytics) (1.11.4)\n",
            "Requirement already satisfied: torch>=1.8.0 in /usr/local/lib/python3.10/dist-packages (from ultralytics) (2.3.0+cu121)\n",
            "Requirement already satisfied: torchvision>=0.9.0 in /usr/local/lib/python3.10/dist-packages (from ultralytics) (0.18.0+cu121)\n",
            "Requirement already satisfied: tqdm>=4.64.0 in /usr/local/lib/python3.10/dist-packages (from ultralytics) (4.66.4)\n",
            "Requirement already satisfied: psutil in /usr/local/lib/python3.10/dist-packages (from ultralytics) (5.9.5)\n",
            "Requirement already satisfied: py-cpuinfo in /usr/local/lib/python3.10/dist-packages (from ultralytics) (9.0.0)\n",
            "Collecting thop>=0.1.1 (from ultralytics)\n",
            "  Downloading thop-0.1.1.post2209072238-py3-none-any.whl (15 kB)\n",
            "Requirement already satisfied: pandas>=1.1.4 in /usr/local/lib/python3.10/dist-packages (from ultralytics) (2.0.3)\n",
            "Requirement already satisfied: seaborn>=0.11.0 in /usr/local/lib/python3.10/dist-packages (from ultralytics) (0.13.1)\n",
            "Requirement already satisfied: contourpy>=1.0.1 in /usr/local/lib/python3.10/dist-packages (from matplotlib>=3.3.0->ultralytics) (1.2.1)\n",
            "Requirement already satisfied: cycler>=0.10 in /usr/local/lib/python3.10/dist-packages (from matplotlib>=3.3.0->ultralytics) (0.12.1)\n",
            "Requirement already satisfied: fonttools>=4.22.0 in /usr/local/lib/python3.10/dist-packages (from matplotlib>=3.3.0->ultralytics) (4.51.0)\n",
            "Requirement already satisfied: kiwisolver>=1.0.1 in /usr/local/lib/python3.10/dist-packages (from matplotlib>=3.3.0->ultralytics) (1.4.5)\n",
            "Requirement already satisfied: numpy>=1.20 in /usr/local/lib/python3.10/dist-packages (from matplotlib>=3.3.0->ultralytics) (1.25.2)\n",
            "Requirement already satisfied: packaging>=20.0 in /usr/local/lib/python3.10/dist-packages (from matplotlib>=3.3.0->ultralytics) (24.0)\n",
            "Requirement already satisfied: pyparsing>=2.3.1 in /usr/local/lib/python3.10/dist-packages (from matplotlib>=3.3.0->ultralytics) (3.1.2)\n",
            "Requirement already satisfied: python-dateutil>=2.7 in /usr/local/lib/python3.10/dist-packages (from matplotlib>=3.3.0->ultralytics) (2.8.2)\n",
            "Requirement already satisfied: pytz>=2020.1 in /usr/local/lib/python3.10/dist-packages (from pandas>=1.1.4->ultralytics) (2023.4)\n",
            "Requirement already satisfied: tzdata>=2022.1 in /usr/local/lib/python3.10/dist-packages (from pandas>=1.1.4->ultralytics) (2024.1)\n",
            "Requirement already satisfied: charset-normalizer<4,>=2 in /usr/local/lib/python3.10/dist-packages (from requests>=2.23.0->ultralytics) (3.3.2)\n",
            "Requirement already satisfied: idna<4,>=2.5 in /usr/local/lib/python3.10/dist-packages (from requests>=2.23.0->ultralytics) (3.7)\n",
            "Requirement already satisfied: urllib3<3,>=1.21.1 in /usr/local/lib/python3.10/dist-packages (from requests>=2.23.0->ultralytics) (2.0.7)\n",
            "Requirement already satisfied: certifi>=2017.4.17 in /usr/local/lib/python3.10/dist-packages (from requests>=2.23.0->ultralytics) (2024.2.2)\n",
            "Requirement already satisfied: filelock in /usr/local/lib/python3.10/dist-packages (from torch>=1.8.0->ultralytics) (3.14.0)\n",
            "Requirement already satisfied: typing-extensions>=4.8.0 in /usr/local/lib/python3.10/dist-packages (from torch>=1.8.0->ultralytics) (4.11.0)\n",
            "Requirement already satisfied: sympy in /usr/local/lib/python3.10/dist-packages (from torch>=1.8.0->ultralytics) (1.12)\n",
            "Requirement already satisfied: networkx in /usr/local/lib/python3.10/dist-packages (from torch>=1.8.0->ultralytics) (3.3)\n",
            "Requirement already satisfied: jinja2 in /usr/local/lib/python3.10/dist-packages (from torch>=1.8.0->ultralytics) (3.1.4)\n",
            "Requirement already satisfied: fsspec in /usr/local/lib/python3.10/dist-packages (from torch>=1.8.0->ultralytics) (2023.6.0)\n",
            "Collecting nvidia-cuda-nvrtc-cu12==12.1.105 (from torch>=1.8.0->ultralytics)\n",
            "  Using cached nvidia_cuda_nvrtc_cu12-12.1.105-py3-none-manylinux1_x86_64.whl (23.7 MB)\n",
            "Collecting nvidia-cuda-runtime-cu12==12.1.105 (from torch>=1.8.0->ultralytics)\n",
            "  Using cached nvidia_cuda_runtime_cu12-12.1.105-py3-none-manylinux1_x86_64.whl (823 kB)\n",
            "Collecting nvidia-cuda-cupti-cu12==12.1.105 (from torch>=1.8.0->ultralytics)\n",
            "  Using cached nvidia_cuda_cupti_cu12-12.1.105-py3-none-manylinux1_x86_64.whl (14.1 MB)\n",
            "Collecting nvidia-cudnn-cu12==8.9.2.26 (from torch>=1.8.0->ultralytics)\n",
            "  Using cached nvidia_cudnn_cu12-8.9.2.26-py3-none-manylinux1_x86_64.whl (731.7 MB)\n",
            "Collecting nvidia-cublas-cu12==12.1.3.1 (from torch>=1.8.0->ultralytics)\n",
            "  Using cached nvidia_cublas_cu12-12.1.3.1-py3-none-manylinux1_x86_64.whl (410.6 MB)\n",
            "Collecting nvidia-cufft-cu12==11.0.2.54 (from torch>=1.8.0->ultralytics)\n",
            "  Using cached nvidia_cufft_cu12-11.0.2.54-py3-none-manylinux1_x86_64.whl (121.6 MB)\n",
            "Collecting nvidia-curand-cu12==10.3.2.106 (from torch>=1.8.0->ultralytics)\n",
            "  Using cached nvidia_curand_cu12-10.3.2.106-py3-none-manylinux1_x86_64.whl (56.5 MB)\n",
            "Collecting nvidia-cusolver-cu12==11.4.5.107 (from torch>=1.8.0->ultralytics)\n",
            "  Using cached nvidia_cusolver_cu12-11.4.5.107-py3-none-manylinux1_x86_64.whl (124.2 MB)\n",
            "Collecting nvidia-cusparse-cu12==12.1.0.106 (from torch>=1.8.0->ultralytics)\n",
            "  Using cached nvidia_cusparse_cu12-12.1.0.106-py3-none-manylinux1_x86_64.whl (196.0 MB)\n",
            "Collecting nvidia-nccl-cu12==2.20.5 (from torch>=1.8.0->ultralytics)\n",
            "  Using cached nvidia_nccl_cu12-2.20.5-py3-none-manylinux2014_x86_64.whl (176.2 MB)\n",
            "Collecting nvidia-nvtx-cu12==12.1.105 (from torch>=1.8.0->ultralytics)\n",
            "  Using cached nvidia_nvtx_cu12-12.1.105-py3-none-manylinux1_x86_64.whl (99 kB)\n",
            "Requirement already satisfied: triton==2.3.0 in /usr/local/lib/python3.10/dist-packages (from torch>=1.8.0->ultralytics) (2.3.0)\n",
            "Collecting nvidia-nvjitlink-cu12 (from nvidia-cusolver-cu12==11.4.5.107->torch>=1.8.0->ultralytics)\n",
            "  Downloading nvidia_nvjitlink_cu12-12.5.40-py3-none-manylinux2014_x86_64.whl (21.3 MB)\n",
            "\u001b[2K     \u001b[90m━━━━━━━━━━━━━━━━━━━━━━━━━━━━━━━━━━━━━━━━\u001b[0m \u001b[32m21.3/21.3 MB\u001b[0m \u001b[31m61.2 MB/s\u001b[0m eta \u001b[36m0:00:00\u001b[0m\n",
            "\u001b[?25hRequirement already satisfied: six>=1.5 in /usr/local/lib/python3.10/dist-packages (from python-dateutil>=2.7->matplotlib>=3.3.0->ultralytics) (1.16.0)\n",
            "Requirement already satisfied: MarkupSafe>=2.0 in /usr/local/lib/python3.10/dist-packages (from jinja2->torch>=1.8.0->ultralytics) (2.1.5)\n",
            "Requirement already satisfied: mpmath>=0.19 in /usr/local/lib/python3.10/dist-packages (from sympy->torch>=1.8.0->ultralytics) (1.3.0)\n",
            "Installing collected packages: nvidia-nvtx-cu12, nvidia-nvjitlink-cu12, nvidia-nccl-cu12, nvidia-curand-cu12, nvidia-cufft-cu12, nvidia-cuda-runtime-cu12, nvidia-cuda-nvrtc-cu12, nvidia-cuda-cupti-cu12, nvidia-cublas-cu12, nvidia-cusparse-cu12, nvidia-cudnn-cu12, nvidia-cusolver-cu12, thop, ultralytics\n",
            "Successfully installed nvidia-cublas-cu12-12.1.3.1 nvidia-cuda-cupti-cu12-12.1.105 nvidia-cuda-nvrtc-cu12-12.1.105 nvidia-cuda-runtime-cu12-12.1.105 nvidia-cudnn-cu12-8.9.2.26 nvidia-cufft-cu12-11.0.2.54 nvidia-curand-cu12-10.3.2.106 nvidia-cusolver-cu12-11.4.5.107 nvidia-cusparse-cu12-12.1.0.106 nvidia-nccl-cu12-2.20.5 nvidia-nvjitlink-cu12-12.5.40 nvidia-nvtx-cu12-12.1.105 thop-0.1.1.post2209072238 ultralytics-8.2.24\n"
          ]
        }
      ],
      "source": [
        "!pip install ultralytics"
      ]
    },
    {
      "cell_type": "code",
      "execution_count": null,
      "metadata": {
        "colab": {
          "base_uri": "https://localhost:8080/",
          "height": 35
        },
        "id": "A90vVrvxI943",
        "outputId": "8c91cf05-329b-4d48-e48e-ab0538c1c7fa"
      },
      "outputs": [
        {
          "data": {
            "application/vnd.google.colaboratory.intrinsic+json": {
              "type": "string"
            },
            "text/plain": [
              "'2.3.0+cu121'"
            ]
          },
          "execution_count": 7,
          "metadata": {},
          "output_type": "execute_result"
        }
      ],
      "source": [
        "import torch\n",
        "torch.__version__"
      ]
    },
    {
      "cell_type": "code",
      "execution_count": null,
      "metadata": {
        "colab": {
          "base_uri": "https://localhost:8080/"
        },
        "id": "Y1OS6ZQsJgtK",
        "outputId": "160155da-2573-4e7a-b257-d7a70a4d6522"
      },
      "outputs": [
        {
          "data": {
            "text/plain": [
              "True"
            ]
          },
          "execution_count": 8,
          "metadata": {},
          "output_type": "execute_result"
        }
      ],
      "source": [
        "torch.cuda.is_available()"
      ]
    },
    {
      "cell_type": "code",
      "execution_count": null,
      "metadata": {
        "id": "IEPmR4TwNea8"
      },
      "outputs": [],
      "source": [
        "from ultralytics import YOLO"
      ]
    },
    {
      "cell_type": "code",
      "execution_count": null,
      "metadata": {
        "colab": {
          "base_uri": "https://localhost:8080/"
        },
        "id": "1d-cu_XEQbKz",
        "outputId": "be4724df-4415-4614-be2e-94a8048e220f"
      },
      "outputs": [
        {
          "name": "stdout",
          "output_type": "stream",
          "text": [
            "Downloading https://github.com/ultralytics/assets/releases/download/v8.2.0/yolov8m.pt to 'yolov8m.pt'...\n"
          ]
        },
        {
          "name": "stderr",
          "output_type": "stream",
          "text": [
            "100%|██████████| 49.7M/49.7M [00:00<00:00, 384MB/s]\n"
          ]
        }
      ],
      "source": [
        "model = YOLO(\"yolov8m.pt\")"
      ]
    },
    {
      "cell_type": "code",
      "execution_count": null,
      "metadata": {
        "id": "QzCnl-EtUkUm"
      },
      "outputs": [],
      "source": []
    },
    {
      "cell_type": "code",
      "execution_count": null,
      "metadata": {
        "colab": {
          "base_uri": "https://localhost:8080/"
        },
        "id": "tRmVgPj_d06x",
        "outputId": "f509ea54-5fe2-4bd1-bb12-dd593caf0d03"
      },
      "outputs": [
        {
          "name": "stdout",
          "output_type": "stream",
          "text": [
            "Mounted at /content/drive\n"
          ]
        }
      ],
      "source": [
        "from google.colab import drive\n",
        "drive.mount('/content/drive')"
      ]
    },
    {
      "cell_type": "code",
      "execution_count": null,
      "metadata": {
        "colab": {
          "base_uri": "https://localhost:8080/"
        },
        "id": "z9DM71dMRXoE",
        "outputId": "197b24f1-6aeb-497a-8f1b-486d5c6967a6"
      },
      "outputs": [
        {
          "name": "stdout",
          "output_type": "stream",
          "text": [
            "Ultralytics YOLOv8.2.23 🚀 Python-3.10.12 torch-2.3.0+cu121 CUDA:0 (Tesla T4, 15102MiB)\n",
            "\u001b[34m\u001b[1mengine/trainer: \u001b[0mtask=detect, mode=train, model=yolov8m.pt, data=/content/drive/MyDrive/Pothole.v1-raw.yolov8/data.yaml, epochs=100, time=None, patience=100, batch=8, imgsz=640, save=True, save_period=-1, cache=False, device=None, workers=1, project=None, name=train2, exist_ok=False, pretrained=True, optimizer=auto, verbose=True, seed=0, deterministic=True, single_cls=False, rect=False, cos_lr=False, close_mosaic=10, resume=False, amp=True, fraction=1.0, profile=False, freeze=None, multi_scale=False, overlap_mask=True, mask_ratio=4, dropout=0.0, val=True, split=val, save_json=False, save_hybrid=False, conf=None, iou=0.7, max_det=300, half=False, dnn=False, plots=True, source=None, vid_stride=1, stream_buffer=False, visualize=False, augment=False, agnostic_nms=False, classes=None, retina_masks=False, embed=None, show=False, save_frames=False, save_txt=False, save_conf=False, save_crop=False, show_labels=True, show_conf=True, show_boxes=True, line_width=None, format=torchscript, keras=False, optimize=False, int8=False, dynamic=False, simplify=False, opset=None, workspace=4, nms=False, lr0=0.01, lrf=0.01, momentum=0.937, weight_decay=0.0005, warmup_epochs=3.0, warmup_momentum=0.8, warmup_bias_lr=0.1, box=7.5, cls=0.5, dfl=1.5, pose=12.0, kobj=1.0, label_smoothing=0.0, nbs=64, hsv_h=0.015, hsv_s=0.7, hsv_v=0.4, degrees=0.0, translate=0.1, scale=0.5, shear=0.0, perspective=0.0, flipud=0.0, fliplr=0.5, bgr=0.0, mosaic=1.0, mixup=0.0, copy_paste=0.0, auto_augment=randaugment, erasing=0.4, crop_fraction=1.0, cfg=None, tracker=botsort.yaml, save_dir=runs/detect/train2\n",
            "Downloading https://ultralytics.com/assets/Arial.ttf to '/root/.config/Ultralytics/Arial.ttf'...\n"
          ]
        },
        {
          "name": "stderr",
          "output_type": "stream",
          "text": [
            "100%|██████████| 755k/755k [00:00<00:00, 46.2MB/s]\n"
          ]
        },
        {
          "name": "stdout",
          "output_type": "stream",
          "text": [
            "Overriding model.yaml nc=80 with nc=1\n",
            "\n",
            "                   from  n    params  module                                       arguments                     \n",
            "  0                  -1  1      1392  ultralytics.nn.modules.conv.Conv             [3, 48, 3, 2]                 \n",
            "  1                  -1  1     41664  ultralytics.nn.modules.conv.Conv             [48, 96, 3, 2]                \n",
            "  2                  -1  2    111360  ultralytics.nn.modules.block.C2f             [96, 96, 2, True]             \n",
            "  3                  -1  1    166272  ultralytics.nn.modules.conv.Conv             [96, 192, 3, 2]               \n",
            "  4                  -1  4    813312  ultralytics.nn.modules.block.C2f             [192, 192, 4, True]           \n",
            "  5                  -1  1    664320  ultralytics.nn.modules.conv.Conv             [192, 384, 3, 2]              \n",
            "  6                  -1  4   3248640  ultralytics.nn.modules.block.C2f             [384, 384, 4, True]           \n",
            "  7                  -1  1   1991808  ultralytics.nn.modules.conv.Conv             [384, 576, 3, 2]              \n",
            "  8                  -1  2   3985920  ultralytics.nn.modules.block.C2f             [576, 576, 2, True]           \n",
            "  9                  -1  1    831168  ultralytics.nn.modules.block.SPPF            [576, 576, 5]                 \n",
            " 10                  -1  1         0  torch.nn.modules.upsampling.Upsample         [None, 2, 'nearest']          \n",
            " 11             [-1, 6]  1         0  ultralytics.nn.modules.conv.Concat           [1]                           \n",
            " 12                  -1  2   1993728  ultralytics.nn.modules.block.C2f             [960, 384, 2]                 \n",
            " 13                  -1  1         0  torch.nn.modules.upsampling.Upsample         [None, 2, 'nearest']          \n",
            " 14             [-1, 4]  1         0  ultralytics.nn.modules.conv.Concat           [1]                           \n",
            " 15                  -1  2    517632  ultralytics.nn.modules.block.C2f             [576, 192, 2]                 \n",
            " 16                  -1  1    332160  ultralytics.nn.modules.conv.Conv             [192, 192, 3, 2]              \n",
            " 17            [-1, 12]  1         0  ultralytics.nn.modules.conv.Concat           [1]                           \n",
            " 18                  -1  2   1846272  ultralytics.nn.modules.block.C2f             [576, 384, 2]                 \n",
            " 19                  -1  1   1327872  ultralytics.nn.modules.conv.Conv             [384, 384, 3, 2]              \n",
            " 20             [-1, 9]  1         0  ultralytics.nn.modules.conv.Concat           [1]                           \n",
            " 21                  -1  2   4207104  ultralytics.nn.modules.block.C2f             [960, 576, 2]                 \n",
            " 22        [15, 18, 21]  1   3776275  ultralytics.nn.modules.head.Detect           [1, [192, 384, 576]]          \n",
            "Model summary: 295 layers, 25856899 parameters, 25856883 gradients, 79.1 GFLOPs\n",
            "\n",
            "Transferred 469/475 items from pretrained weights\n",
            "\u001b[34m\u001b[1mTensorBoard: \u001b[0mStart with 'tensorboard --logdir runs/detect/train2', view at http://localhost:6006/\n",
            "Freezing layer 'model.22.dfl.conv.weight'\n",
            "\u001b[34m\u001b[1mAMP: \u001b[0mrunning Automatic Mixed Precision (AMP) checks with YOLOv8n...\n",
            "Downloading https://github.com/ultralytics/assets/releases/download/v8.2.0/yolov8n.pt to 'yolov8n.pt'...\n"
          ]
        },
        {
          "name": "stderr",
          "output_type": "stream",
          "text": [
            "100%|██████████| 6.23M/6.23M [00:00<00:00, 178MB/s]\n",
            "/usr/local/lib/python3.10/dist-packages/torch/nn/modules/conv.py:456: UserWarning: Plan failed with a cudnnException: CUDNN_BACKEND_EXECUTION_PLAN_DESCRIPTOR: cudnnFinalize Descriptor Failed cudnn_status: CUDNN_STATUS_NOT_SUPPORTED (Triggered internally at ../aten/src/ATen/native/cudnn/Conv_v8.cpp:919.)\n",
            "  return F.conv2d(input, weight, bias, self.stride,\n"
          ]
        },
        {
          "name": "stdout",
          "output_type": "stream",
          "text": [
            "\u001b[34m\u001b[1mAMP: \u001b[0mchecks passed ✅\n"
          ]
        },
        {
          "name": "stderr",
          "output_type": "stream",
          "text": [
            "\u001b[34m\u001b[1mtrain: \u001b[0mScanning /content/drive/MyDrive/Pothole.v1-raw.yolov8/train/labels... 465 images, 10 backgrounds, 0 corrupt: 100%|██████████| 475/475 [04:39<00:00,  1.70it/s]\n"
          ]
        },
        {
          "name": "stdout",
          "output_type": "stream",
          "text": [
            "\u001b[34m\u001b[1mtrain: \u001b[0mNew cache created: /content/drive/MyDrive/Pothole.v1-raw.yolov8/train/labels.cache\n",
            "\u001b[34m\u001b[1malbumentations: \u001b[0mBlur(p=0.01, blur_limit=(3, 7)), MedianBlur(p=0.01, blur_limit=(3, 7)), ToGray(p=0.01), CLAHE(p=0.01, clip_limit=(1, 4.0), tile_grid_size=(8, 8))\n"
          ]
        },
        {
          "name": "stderr",
          "output_type": "stream",
          "text": [
            "/usr/lib/python3.10/multiprocessing/popen_fork.py:66: RuntimeWarning: os.fork() was called. os.fork() is incompatible with multithreaded code, and JAX is multithreaded, so this will likely lead to a deadlock.\n",
            "  self.pid = os.fork()\n",
            "\u001b[34m\u001b[1mval: \u001b[0mScanning /content/drive/MyDrive/Pothole.v1-raw.yolov8/valid/labels... 133 images, 0 backgrounds, 0 corrupt: 100%|██████████| 133/133 [01:19<00:00,  1.67it/s]"
          ]
        },
        {
          "name": "stdout",
          "output_type": "stream",
          "text": [
            "\u001b[34m\u001b[1mval: \u001b[0mNew cache created: /content/drive/MyDrive/Pothole.v1-raw.yolov8/valid/labels.cache\n"
          ]
        },
        {
          "name": "stderr",
          "output_type": "stream",
          "text": [
            "\n"
          ]
        },
        {
          "name": "stdout",
          "output_type": "stream",
          "text": [
            "Plotting labels to runs/detect/train2/labels.jpg... \n",
            "\u001b[34m\u001b[1moptimizer:\u001b[0m 'optimizer=auto' found, ignoring 'lr0=0.01' and 'momentum=0.937' and determining best 'optimizer', 'lr0' and 'momentum' automatically... \n",
            "\u001b[34m\u001b[1moptimizer:\u001b[0m AdamW(lr=0.002, momentum=0.9) with parameter groups 77 weight(decay=0.0), 84 weight(decay=0.0005), 83 bias(decay=0.0)\n",
            "\u001b[34m\u001b[1mTensorBoard: \u001b[0mmodel graph visualization added ✅\n",
            "Image sizes 640 train, 640 val\n",
            "Using 1 dataloader workers\n",
            "Logging results to \u001b[1mruns/detect/train2\u001b[0m\n",
            "Starting training for 100 epochs...\n",
            "\n",
            "      Epoch    GPU_mem   box_loss   cls_loss   dfl_loss  Instances       Size\n"
          ]
        },
        {
          "name": "stderr",
          "output_type": "stream",
          "text": [
            "      1/100      4.13G      1.684      2.212      1.626         17        640: 100%|██████████| 60/60 [00:22<00:00,  2.70it/s]\n",
            "                 Class     Images  Instances      Box(P          R      mAP50  mAP50-95): 100%|██████████| 9/9 [00:04<00:00,  1.87it/s]"
          ]
        },
        {
          "name": "stdout",
          "output_type": "stream",
          "text": [
            "                   all        133        330     0.0913      0.291     0.0572     0.0217\n"
          ]
        },
        {
          "name": "stderr",
          "output_type": "stream",
          "text": [
            "\n"
          ]
        },
        {
          "name": "stdout",
          "output_type": "stream",
          "text": [
            "\n",
            "      Epoch    GPU_mem   box_loss   cls_loss   dfl_loss  Instances       Size\n"
          ]
        },
        {
          "name": "stderr",
          "output_type": "stream",
          "text": [
            "      2/100      3.98G      1.728       1.97      1.689         10        640: 100%|██████████| 60/60 [00:18<00:00,  3.25it/s]\n",
            "                 Class     Images  Instances      Box(P          R      mAP50  mAP50-95): 100%|██████████| 9/9 [00:03<00:00,  2.59it/s]"
          ]
        },
        {
          "name": "stdout",
          "output_type": "stream",
          "text": [
            "                   all        133        330     0.0765      0.167     0.0474     0.0185\n"
          ]
        },
        {
          "name": "stderr",
          "output_type": "stream",
          "text": [
            "\n"
          ]
        },
        {
          "name": "stdout",
          "output_type": "stream",
          "text": [
            "\n",
            "      Epoch    GPU_mem   box_loss   cls_loss   dfl_loss  Instances       Size\n"
          ]
        },
        {
          "name": "stderr",
          "output_type": "stream",
          "text": [
            "      3/100      4.08G      1.858      2.019      1.772          6        640: 100%|██████████| 60/60 [00:18<00:00,  3.26it/s]\n",
            "                 Class     Images  Instances      Box(P          R      mAP50  mAP50-95): 100%|██████████| 9/9 [00:02<00:00,  4.26it/s]"
          ]
        },
        {
          "name": "stdout",
          "output_type": "stream",
          "text": [
            "                   all        133        330     0.0594      0.227     0.0407     0.0148\n"
          ]
        },
        {
          "name": "stderr",
          "output_type": "stream",
          "text": [
            "\n"
          ]
        },
        {
          "name": "stdout",
          "output_type": "stream",
          "text": [
            "\n",
            "      Epoch    GPU_mem   box_loss   cls_loss   dfl_loss  Instances       Size\n"
          ]
        },
        {
          "name": "stderr",
          "output_type": "stream",
          "text": [
            "      4/100      4.07G      1.803      1.973      1.749          7        640: 100%|██████████| 60/60 [00:18<00:00,  3.23it/s]\n",
            "                 Class     Images  Instances      Box(P          R      mAP50  mAP50-95): 100%|██████████| 9/9 [00:02<00:00,  4.30it/s]"
          ]
        },
        {
          "name": "stdout",
          "output_type": "stream",
          "text": [
            "                   all        133        330      0.497       0.43      0.412      0.198\n"
          ]
        },
        {
          "name": "stderr",
          "output_type": "stream",
          "text": [
            "\n"
          ]
        },
        {
          "name": "stdout",
          "output_type": "stream",
          "text": [
            "\n",
            "      Epoch    GPU_mem   box_loss   cls_loss   dfl_loss  Instances       Size\n"
          ]
        },
        {
          "name": "stderr",
          "output_type": "stream",
          "text": [
            "      5/100      3.97G      1.752      1.856      1.698          4        640: 100%|██████████| 60/60 [00:18<00:00,  3.25it/s]\n",
            "                 Class     Images  Instances      Box(P          R      mAP50  mAP50-95): 100%|██████████| 9/9 [00:03<00:00,  2.81it/s]\n"
          ]
        },
        {
          "name": "stdout",
          "output_type": "stream",
          "text": [
            "                   all        133        330     0.0209      0.464      0.015    0.00643\n",
            "\n",
            "      Epoch    GPU_mem   box_loss   cls_loss   dfl_loss  Instances       Size\n"
          ]
        },
        {
          "name": "stderr",
          "output_type": "stream",
          "text": [
            "      6/100      4.07G      1.723      1.847       1.69          9        640: 100%|██████████| 60/60 [00:19<00:00,  3.14it/s]\n",
            "                 Class     Images  Instances      Box(P          R      mAP50  mAP50-95): 100%|██████████| 9/9 [00:02<00:00,  3.81it/s]"
          ]
        },
        {
          "name": "stdout",
          "output_type": "stream",
          "text": [
            "                   all        133        330       0.42      0.278      0.252      0.119\n"
          ]
        },
        {
          "name": "stderr",
          "output_type": "stream",
          "text": [
            "\n"
          ]
        },
        {
          "name": "stdout",
          "output_type": "stream",
          "text": [
            "\n",
            "      Epoch    GPU_mem   box_loss   cls_loss   dfl_loss  Instances       Size\n"
          ]
        },
        {
          "name": "stderr",
          "output_type": "stream",
          "text": [
            "      7/100      3.98G      1.688      1.767      1.655         13        640: 100%|██████████| 60/60 [00:18<00:00,  3.31it/s]\n",
            "                 Class     Images  Instances      Box(P          R      mAP50  mAP50-95): 100%|██████████| 9/9 [00:02<00:00,  4.30it/s]"
          ]
        },
        {
          "name": "stdout",
          "output_type": "stream",
          "text": [
            "                   all        133        330      0.379      0.327      0.262      0.125\n"
          ]
        },
        {
          "name": "stderr",
          "output_type": "stream",
          "text": [
            "\n"
          ]
        },
        {
          "name": "stdout",
          "output_type": "stream",
          "text": [
            "\n",
            "      Epoch    GPU_mem   box_loss   cls_loss   dfl_loss  Instances       Size\n"
          ]
        },
        {
          "name": "stderr",
          "output_type": "stream",
          "text": [
            "      8/100      4.05G      1.588      1.673      1.591         17        640: 100%|██████████| 60/60 [00:18<00:00,  3.24it/s]\n",
            "                 Class     Images  Instances      Box(P          R      mAP50  mAP50-95): 100%|██████████| 9/9 [00:02<00:00,  4.15it/s]"
          ]
        },
        {
          "name": "stdout",
          "output_type": "stream",
          "text": [
            "                   all        133        330      0.605      0.376      0.401       0.19\n"
          ]
        },
        {
          "name": "stderr",
          "output_type": "stream",
          "text": [
            "\n"
          ]
        },
        {
          "name": "stdout",
          "output_type": "stream",
          "text": [
            "\n",
            "      Epoch    GPU_mem   box_loss   cls_loss   dfl_loss  Instances       Size\n"
          ]
        },
        {
          "name": "stderr",
          "output_type": "stream",
          "text": [
            "      9/100      3.98G      1.624      1.686      1.606         16        640: 100%|██████████| 60/60 [00:18<00:00,  3.22it/s]\n",
            "                 Class     Images  Instances      Box(P          R      mAP50  mAP50-95): 100%|██████████| 9/9 [00:03<00:00,  2.45it/s]"
          ]
        },
        {
          "name": "stdout",
          "output_type": "stream",
          "text": [
            "                   all        133        330      0.531      0.485      0.487      0.242\n"
          ]
        },
        {
          "name": "stderr",
          "output_type": "stream",
          "text": [
            "\n"
          ]
        },
        {
          "name": "stdout",
          "output_type": "stream",
          "text": [
            "\n",
            "      Epoch    GPU_mem   box_loss   cls_loss   dfl_loss  Instances       Size\n"
          ]
        },
        {
          "name": "stderr",
          "output_type": "stream",
          "text": [
            "     10/100      4.07G      1.598      1.656      1.598         33        640: 100%|██████████| 60/60 [00:18<00:00,  3.19it/s]\n",
            "                 Class     Images  Instances      Box(P          R      mAP50  mAP50-95): 100%|██████████| 9/9 [00:02<00:00,  4.27it/s]"
          ]
        },
        {
          "name": "stdout",
          "output_type": "stream",
          "text": [
            "                   all        133        330      0.573      0.488      0.521      0.276\n"
          ]
        },
        {
          "name": "stderr",
          "output_type": "stream",
          "text": [
            "\n"
          ]
        },
        {
          "name": "stdout",
          "output_type": "stream",
          "text": [
            "\n",
            "      Epoch    GPU_mem   box_loss   cls_loss   dfl_loss  Instances       Size\n"
          ]
        },
        {
          "name": "stderr",
          "output_type": "stream",
          "text": [
            "     11/100      3.98G      1.617      1.646      1.598         11        640: 100%|██████████| 60/60 [00:18<00:00,  3.17it/s]\n",
            "                 Class     Images  Instances      Box(P          R      mAP50  mAP50-95): 100%|██████████| 9/9 [00:02<00:00,  4.20it/s]"
          ]
        },
        {
          "name": "stdout",
          "output_type": "stream",
          "text": [
            "                   all        133        330      0.586      0.521       0.53      0.278\n"
          ]
        },
        {
          "name": "stderr",
          "output_type": "stream",
          "text": [
            "\n"
          ]
        },
        {
          "name": "stdout",
          "output_type": "stream",
          "text": [
            "\n",
            "      Epoch    GPU_mem   box_loss   cls_loss   dfl_loss  Instances       Size\n"
          ]
        },
        {
          "name": "stderr",
          "output_type": "stream",
          "text": [
            "     12/100      4.07G      1.579      1.548      1.574         10        640: 100%|██████████| 60/60 [00:18<00:00,  3.23it/s]\n",
            "                 Class     Images  Instances      Box(P          R      mAP50  mAP50-95): 100%|██████████| 9/9 [00:02<00:00,  4.38it/s]"
          ]
        },
        {
          "name": "stdout",
          "output_type": "stream",
          "text": [
            "                   all        133        330       0.57      0.436      0.472      0.247\n"
          ]
        },
        {
          "name": "stderr",
          "output_type": "stream",
          "text": [
            "\n"
          ]
        },
        {
          "name": "stdout",
          "output_type": "stream",
          "text": [
            "\n",
            "      Epoch    GPU_mem   box_loss   cls_loss   dfl_loss  Instances       Size\n"
          ]
        },
        {
          "name": "stderr",
          "output_type": "stream",
          "text": [
            "     13/100      3.98G      1.576      1.634      1.571         12        640: 100%|██████████| 60/60 [00:18<00:00,  3.25it/s]\n",
            "                 Class     Images  Instances      Box(P          R      mAP50  mAP50-95): 100%|██████████| 9/9 [00:02<00:00,  4.45it/s]"
          ]
        },
        {
          "name": "stdout",
          "output_type": "stream",
          "text": [
            "                   all        133        330      0.619      0.521      0.587      0.317\n"
          ]
        },
        {
          "name": "stderr",
          "output_type": "stream",
          "text": [
            "\n"
          ]
        },
        {
          "name": "stdout",
          "output_type": "stream",
          "text": [
            "\n",
            "      Epoch    GPU_mem   box_loss   cls_loss   dfl_loss  Instances       Size\n"
          ]
        },
        {
          "name": "stderr",
          "output_type": "stream",
          "text": [
            "     14/100      4.05G      1.555      1.546      1.545          4        640: 100%|██████████| 60/60 [00:18<00:00,  3.21it/s]\n",
            "                 Class     Images  Instances      Box(P          R      mAP50  mAP50-95): 100%|██████████| 9/9 [00:03<00:00,  2.95it/s]\n"
          ]
        },
        {
          "name": "stdout",
          "output_type": "stream",
          "text": [
            "                   all        133        330      0.687      0.539      0.596      0.311\n",
            "\n",
            "      Epoch    GPU_mem   box_loss   cls_loss   dfl_loss  Instances       Size\n"
          ]
        },
        {
          "name": "stderr",
          "output_type": "stream",
          "text": [
            "     15/100      3.98G      1.493      1.489      1.509          2        640: 100%|██████████| 60/60 [00:18<00:00,  3.23it/s]\n",
            "                 Class     Images  Instances      Box(P          R      mAP50  mAP50-95): 100%|██████████| 9/9 [00:03<00:00,  2.81it/s]"
          ]
        },
        {
          "name": "stdout",
          "output_type": "stream",
          "text": [
            "                   all        133        330      0.675      0.564      0.614      0.335\n"
          ]
        },
        {
          "name": "stderr",
          "output_type": "stream",
          "text": [
            "\n"
          ]
        },
        {
          "name": "stdout",
          "output_type": "stream",
          "text": [
            "\n",
            "      Epoch    GPU_mem   box_loss   cls_loss   dfl_loss  Instances       Size\n"
          ]
        },
        {
          "name": "stderr",
          "output_type": "stream",
          "text": [
            "     16/100      4.05G      1.485      1.416      1.482         10        640: 100%|██████████| 60/60 [00:18<00:00,  3.29it/s]\n",
            "                 Class     Images  Instances      Box(P          R      mAP50  mAP50-95): 100%|██████████| 9/9 [00:02<00:00,  4.30it/s]"
          ]
        },
        {
          "name": "stdout",
          "output_type": "stream",
          "text": [
            "                   all        133        330      0.623      0.573      0.596      0.337\n"
          ]
        },
        {
          "name": "stderr",
          "output_type": "stream",
          "text": [
            "\n"
          ]
        },
        {
          "name": "stdout",
          "output_type": "stream",
          "text": [
            "\n",
            "      Epoch    GPU_mem   box_loss   cls_loss   dfl_loss  Instances       Size\n"
          ]
        },
        {
          "name": "stderr",
          "output_type": "stream",
          "text": [
            "     17/100      3.98G      1.473      1.411      1.492         13        640: 100%|██████████| 60/60 [00:18<00:00,  3.28it/s]\n",
            "                 Class     Images  Instances      Box(P          R      mAP50  mAP50-95): 100%|██████████| 9/9 [00:02<00:00,  4.41it/s]"
          ]
        },
        {
          "name": "stdout",
          "output_type": "stream",
          "text": [
            "                   all        133        330      0.634      0.585      0.632      0.363\n"
          ]
        },
        {
          "name": "stderr",
          "output_type": "stream",
          "text": [
            "\n"
          ]
        },
        {
          "name": "stdout",
          "output_type": "stream",
          "text": [
            "\n",
            "      Epoch    GPU_mem   box_loss   cls_loss   dfl_loss  Instances       Size\n"
          ]
        },
        {
          "name": "stderr",
          "output_type": "stream",
          "text": [
            "     18/100      4.07G      1.432      1.357       1.42          8        640: 100%|██████████| 60/60 [00:18<00:00,  3.28it/s]\n",
            "                 Class     Images  Instances      Box(P          R      mAP50  mAP50-95): 100%|██████████| 9/9 [00:02<00:00,  3.00it/s]"
          ]
        },
        {
          "name": "stdout",
          "output_type": "stream",
          "text": [
            "                   all        133        330      0.756      0.561      0.663      0.392\n"
          ]
        },
        {
          "name": "stderr",
          "output_type": "stream",
          "text": [
            "\n"
          ]
        },
        {
          "name": "stdout",
          "output_type": "stream",
          "text": [
            "\n",
            "      Epoch    GPU_mem   box_loss   cls_loss   dfl_loss  Instances       Size\n"
          ]
        },
        {
          "name": "stderr",
          "output_type": "stream",
          "text": [
            "     19/100      3.98G      1.426      1.363      1.446         18        640: 100%|██████████| 60/60 [00:18<00:00,  3.19it/s]\n",
            "                 Class     Images  Instances      Box(P          R      mAP50  mAP50-95): 100%|██████████| 9/9 [00:02<00:00,  4.19it/s]"
          ]
        },
        {
          "name": "stdout",
          "output_type": "stream",
          "text": [
            "                   all        133        330      0.673      0.579       0.63      0.348\n"
          ]
        },
        {
          "name": "stderr",
          "output_type": "stream",
          "text": [
            "\n"
          ]
        },
        {
          "name": "stdout",
          "output_type": "stream",
          "text": [
            "\n",
            "      Epoch    GPU_mem   box_loss   cls_loss   dfl_loss  Instances       Size\n"
          ]
        },
        {
          "name": "stderr",
          "output_type": "stream",
          "text": [
            "     20/100      4.08G      1.429      1.292      1.441         31        640: 100%|██████████| 60/60 [00:18<00:00,  3.27it/s]\n",
            "                 Class     Images  Instances      Box(P          R      mAP50  mAP50-95): 100%|██████████| 9/9 [00:02<00:00,  4.19it/s]"
          ]
        },
        {
          "name": "stdout",
          "output_type": "stream",
          "text": [
            "                   all        133        330       0.74      0.558      0.648      0.364\n"
          ]
        },
        {
          "name": "stderr",
          "output_type": "stream",
          "text": [
            "\n"
          ]
        },
        {
          "name": "stdout",
          "output_type": "stream",
          "text": [
            "\n",
            "      Epoch    GPU_mem   box_loss   cls_loss   dfl_loss  Instances       Size\n"
          ]
        },
        {
          "name": "stderr",
          "output_type": "stream",
          "text": [
            "     21/100      3.97G      1.434      1.321      1.455         22        640: 100%|██████████| 60/60 [00:18<00:00,  3.27it/s]\n",
            "                 Class     Images  Instances      Box(P          R      mAP50  mAP50-95): 100%|██████████| 9/9 [00:02<00:00,  3.06it/s]"
          ]
        },
        {
          "name": "stdout",
          "output_type": "stream",
          "text": [
            "                   all        133        330      0.749      0.576      0.651      0.379\n"
          ]
        },
        {
          "name": "stderr",
          "output_type": "stream",
          "text": [
            "\n"
          ]
        },
        {
          "name": "stdout",
          "output_type": "stream",
          "text": [
            "\n",
            "      Epoch    GPU_mem   box_loss   cls_loss   dfl_loss  Instances       Size\n"
          ]
        },
        {
          "name": "stderr",
          "output_type": "stream",
          "text": [
            "     22/100      4.07G      1.421      1.337      1.435         10        640: 100%|██████████| 60/60 [00:18<00:00,  3.22it/s]\n",
            "                 Class     Images  Instances      Box(P          R      mAP50  mAP50-95): 100%|██████████| 9/9 [00:02<00:00,  3.72it/s]"
          ]
        },
        {
          "name": "stdout",
          "output_type": "stream",
          "text": [
            "                   all        133        330       0.68       0.65       0.69      0.395\n"
          ]
        },
        {
          "name": "stderr",
          "output_type": "stream",
          "text": [
            "\n"
          ]
        },
        {
          "name": "stdout",
          "output_type": "stream",
          "text": [
            "\n",
            "      Epoch    GPU_mem   box_loss   cls_loss   dfl_loss  Instances       Size\n"
          ]
        },
        {
          "name": "stderr",
          "output_type": "stream",
          "text": [
            "     23/100      3.97G      1.371      1.256      1.416         14        640: 100%|██████████| 60/60 [00:18<00:00,  3.23it/s]\n",
            "                 Class     Images  Instances      Box(P          R      mAP50  mAP50-95): 100%|██████████| 9/9 [00:02<00:00,  4.37it/s]"
          ]
        },
        {
          "name": "stdout",
          "output_type": "stream",
          "text": [
            "                   all        133        330      0.794      0.558      0.685      0.385\n"
          ]
        },
        {
          "name": "stderr",
          "output_type": "stream",
          "text": [
            "\n"
          ]
        },
        {
          "name": "stdout",
          "output_type": "stream",
          "text": [
            "\n",
            "      Epoch    GPU_mem   box_loss   cls_loss   dfl_loss  Instances       Size\n"
          ]
        },
        {
          "name": "stderr",
          "output_type": "stream",
          "text": [
            "     24/100      4.08G      1.398      1.285      1.445         15        640: 100%|██████████| 60/60 [00:18<00:00,  3.23it/s]\n",
            "                 Class     Images  Instances      Box(P          R      mAP50  mAP50-95): 100%|██████████| 9/9 [00:02<00:00,  3.64it/s]"
          ]
        },
        {
          "name": "stdout",
          "output_type": "stream",
          "text": [
            "                   all        133        330      0.735      0.603       0.68      0.379\n"
          ]
        },
        {
          "name": "stderr",
          "output_type": "stream",
          "text": [
            "\n"
          ]
        },
        {
          "name": "stdout",
          "output_type": "stream",
          "text": [
            "\n",
            "      Epoch    GPU_mem   box_loss   cls_loss   dfl_loss  Instances       Size\n"
          ]
        },
        {
          "name": "stderr",
          "output_type": "stream",
          "text": [
            "     25/100      3.98G       1.34      1.208      1.394         10        640: 100%|██████████| 60/60 [00:18<00:00,  3.21it/s]\n",
            "                 Class     Images  Instances      Box(P          R      mAP50  mAP50-95): 100%|██████████| 9/9 [00:03<00:00,  2.55it/s]\n"
          ]
        },
        {
          "name": "stdout",
          "output_type": "stream",
          "text": [
            "                   all        133        330      0.694      0.624      0.685      0.392\n",
            "\n",
            "      Epoch    GPU_mem   box_loss   cls_loss   dfl_loss  Instances       Size\n"
          ]
        },
        {
          "name": "stderr",
          "output_type": "stream",
          "text": [
            "     26/100      4.07G      1.332      1.231      1.401         10        640: 100%|██████████| 60/60 [00:18<00:00,  3.28it/s]\n",
            "                 Class     Images  Instances      Box(P          R      mAP50  mAP50-95): 100%|██████████| 9/9 [00:02<00:00,  4.39it/s]"
          ]
        },
        {
          "name": "stdout",
          "output_type": "stream",
          "text": [
            "                   all        133        330      0.738      0.572      0.646      0.378\n"
          ]
        },
        {
          "name": "stderr",
          "output_type": "stream",
          "text": [
            "\n"
          ]
        },
        {
          "name": "stdout",
          "output_type": "stream",
          "text": [
            "\n",
            "      Epoch    GPU_mem   box_loss   cls_loss   dfl_loss  Instances       Size\n"
          ]
        },
        {
          "name": "stderr",
          "output_type": "stream",
          "text": [
            "     27/100      3.98G      1.298      1.227      1.363          9        640: 100%|██████████| 60/60 [00:18<00:00,  3.21it/s]\n",
            "                 Class     Images  Instances      Box(P          R      mAP50  mAP50-95): 100%|██████████| 9/9 [00:02<00:00,  4.33it/s]"
          ]
        },
        {
          "name": "stdout",
          "output_type": "stream",
          "text": [
            "                   all        133        330       0.72      0.609      0.664      0.396\n"
          ]
        },
        {
          "name": "stderr",
          "output_type": "stream",
          "text": [
            "\n"
          ]
        },
        {
          "name": "stdout",
          "output_type": "stream",
          "text": [
            "\n",
            "      Epoch    GPU_mem   box_loss   cls_loss   dfl_loss  Instances       Size\n"
          ]
        },
        {
          "name": "stderr",
          "output_type": "stream",
          "text": [
            "     28/100      4.06G      1.319      1.234      1.375         21        640: 100%|██████████| 60/60 [00:18<00:00,  3.29it/s]\n",
            "                 Class     Images  Instances      Box(P          R      mAP50  mAP50-95): 100%|██████████| 9/9 [00:02<00:00,  3.55it/s]"
          ]
        },
        {
          "name": "stdout",
          "output_type": "stream",
          "text": [
            "                   all        133        330      0.669      0.595      0.656      0.363\n"
          ]
        },
        {
          "name": "stderr",
          "output_type": "stream",
          "text": [
            "\n"
          ]
        },
        {
          "name": "stdout",
          "output_type": "stream",
          "text": [
            "\n",
            "      Epoch    GPU_mem   box_loss   cls_loss   dfl_loss  Instances       Size\n"
          ]
        },
        {
          "name": "stderr",
          "output_type": "stream",
          "text": [
            "     29/100      3.98G      1.344      1.228      1.397         32        640: 100%|██████████| 60/60 [00:18<00:00,  3.25it/s]\n",
            "                 Class     Images  Instances      Box(P          R      mAP50  mAP50-95): 100%|██████████| 9/9 [00:03<00:00,  2.50it/s]\n"
          ]
        },
        {
          "name": "stdout",
          "output_type": "stream",
          "text": [
            "                   all        133        330      0.701      0.627      0.668      0.378\n",
            "\n",
            "      Epoch    GPU_mem   box_loss   cls_loss   dfl_loss  Instances       Size\n"
          ]
        },
        {
          "name": "stderr",
          "output_type": "stream",
          "text": [
            "     30/100      4.06G      1.296        1.2      1.364         24        640: 100%|██████████| 60/60 [00:17<00:00,  3.34it/s]\n",
            "                 Class     Images  Instances      Box(P          R      mAP50  mAP50-95): 100%|██████████| 9/9 [00:02<00:00,  4.34it/s]"
          ]
        },
        {
          "name": "stdout",
          "output_type": "stream",
          "text": [
            "                   all        133        330      0.771      0.594      0.676      0.387\n"
          ]
        },
        {
          "name": "stderr",
          "output_type": "stream",
          "text": [
            "\n"
          ]
        },
        {
          "name": "stdout",
          "output_type": "stream",
          "text": [
            "\n",
            "      Epoch    GPU_mem   box_loss   cls_loss   dfl_loss  Instances       Size\n"
          ]
        },
        {
          "name": "stderr",
          "output_type": "stream",
          "text": [
            "     31/100      3.98G      1.308      1.173      1.382          9        640: 100%|██████████| 60/60 [00:18<00:00,  3.25it/s]\n",
            "                 Class     Images  Instances      Box(P          R      mAP50  mAP50-95): 100%|██████████| 9/9 [00:02<00:00,  4.41it/s]"
          ]
        },
        {
          "name": "stdout",
          "output_type": "stream",
          "text": [
            "                   all        133        330      0.723      0.618      0.695       0.42\n"
          ]
        },
        {
          "name": "stderr",
          "output_type": "stream",
          "text": [
            "\n"
          ]
        },
        {
          "name": "stdout",
          "output_type": "stream",
          "text": [
            "\n",
            "      Epoch    GPU_mem   box_loss   cls_loss   dfl_loss  Instances       Size\n"
          ]
        },
        {
          "name": "stderr",
          "output_type": "stream",
          "text": [
            "     32/100      4.07G      1.269      1.113      1.327         20        640: 100%|██████████| 60/60 [00:18<00:00,  3.18it/s]\n",
            "                 Class     Images  Instances      Box(P          R      mAP50  mAP50-95): 100%|██████████| 9/9 [00:02<00:00,  3.09it/s]"
          ]
        },
        {
          "name": "stdout",
          "output_type": "stream",
          "text": [
            "                   all        133        330      0.757      0.633      0.729      0.437\n"
          ]
        },
        {
          "name": "stderr",
          "output_type": "stream",
          "text": [
            "\n"
          ]
        },
        {
          "name": "stdout",
          "output_type": "stream",
          "text": [
            "\n",
            "      Epoch    GPU_mem   box_loss   cls_loss   dfl_loss  Instances       Size\n"
          ]
        },
        {
          "name": "stderr",
          "output_type": "stream",
          "text": [
            "     33/100      3.97G       1.25      1.085      1.321         14        640: 100%|██████████| 60/60 [00:18<00:00,  3.33it/s]\n",
            "                 Class     Images  Instances      Box(P          R      mAP50  mAP50-95): 100%|██████████| 9/9 [00:03<00:00,  2.81it/s]"
          ]
        },
        {
          "name": "stdout",
          "output_type": "stream",
          "text": [
            "                   all        133        330      0.709      0.648      0.709      0.417\n"
          ]
        },
        {
          "name": "stderr",
          "output_type": "stream",
          "text": [
            "\n"
          ]
        },
        {
          "name": "stdout",
          "output_type": "stream",
          "text": [
            "\n",
            "      Epoch    GPU_mem   box_loss   cls_loss   dfl_loss  Instances       Size\n"
          ]
        },
        {
          "name": "stderr",
          "output_type": "stream",
          "text": [
            "     34/100      4.07G      1.251      1.097      1.337         15        640: 100%|██████████| 60/60 [00:18<00:00,  3.25it/s]\n",
            "                 Class     Images  Instances      Box(P          R      mAP50  mAP50-95): 100%|██████████| 9/9 [00:02<00:00,  4.47it/s]"
          ]
        },
        {
          "name": "stdout",
          "output_type": "stream",
          "text": [
            "                   all        133        330       0.73      0.627        0.7      0.402\n"
          ]
        },
        {
          "name": "stderr",
          "output_type": "stream",
          "text": [
            "\n"
          ]
        },
        {
          "name": "stdout",
          "output_type": "stream",
          "text": [
            "\n",
            "      Epoch    GPU_mem   box_loss   cls_loss   dfl_loss  Instances       Size\n"
          ]
        },
        {
          "name": "stderr",
          "output_type": "stream",
          "text": [
            "     35/100      3.98G      1.259      1.112      1.335          8        640: 100%|██████████| 60/60 [00:19<00:00,  3.12it/s]\n",
            "                 Class     Images  Instances      Box(P          R      mAP50  mAP50-95): 100%|██████████| 9/9 [00:02<00:00,  4.26it/s]"
          ]
        },
        {
          "name": "stdout",
          "output_type": "stream",
          "text": [
            "                   all        133        330      0.733      0.641       0.71      0.445\n"
          ]
        },
        {
          "name": "stderr",
          "output_type": "stream",
          "text": [
            "\n"
          ]
        },
        {
          "name": "stdout",
          "output_type": "stream",
          "text": [
            "\n",
            "      Epoch    GPU_mem   box_loss   cls_loss   dfl_loss  Instances       Size\n"
          ]
        },
        {
          "name": "stderr",
          "output_type": "stream",
          "text": [
            "     36/100      4.05G      1.248      1.077      1.331         11        640: 100%|██████████| 60/60 [00:18<00:00,  3.24it/s]\n",
            "                 Class     Images  Instances      Box(P          R      mAP50  mAP50-95): 100%|██████████| 9/9 [00:03<00:00,  2.83it/s]"
          ]
        },
        {
          "name": "stdout",
          "output_type": "stream",
          "text": [
            "                   all        133        330      0.674      0.645      0.691      0.408\n"
          ]
        },
        {
          "name": "stderr",
          "output_type": "stream",
          "text": [
            "\n"
          ]
        },
        {
          "name": "stdout",
          "output_type": "stream",
          "text": [
            "\n",
            "      Epoch    GPU_mem   box_loss   cls_loss   dfl_loss  Instances       Size\n"
          ]
        },
        {
          "name": "stderr",
          "output_type": "stream",
          "text": [
            "     37/100      3.96G      1.211       1.06      1.307          8        640: 100%|██████████| 60/60 [00:18<00:00,  3.20it/s]\n",
            "                 Class     Images  Instances      Box(P          R      mAP50  mAP50-95): 100%|██████████| 9/9 [00:03<00:00,  2.95it/s]"
          ]
        },
        {
          "name": "stdout",
          "output_type": "stream",
          "text": [
            "                   all        133        330      0.741      0.645      0.707       0.43\n"
          ]
        },
        {
          "name": "stderr",
          "output_type": "stream",
          "text": [
            "\n"
          ]
        },
        {
          "name": "stdout",
          "output_type": "stream",
          "text": [
            "\n",
            "      Epoch    GPU_mem   box_loss   cls_loss   dfl_loss  Instances       Size\n"
          ]
        },
        {
          "name": "stderr",
          "output_type": "stream",
          "text": [
            "     38/100      4.08G      1.236      1.042      1.323         11        640: 100%|██████████| 60/60 [00:18<00:00,  3.27it/s]\n",
            "                 Class     Images  Instances      Box(P          R      mAP50  mAP50-95): 100%|██████████| 9/9 [00:02<00:00,  4.45it/s]"
          ]
        },
        {
          "name": "stdout",
          "output_type": "stream",
          "text": [
            "                   all        133        330      0.819      0.591      0.719      0.425\n"
          ]
        },
        {
          "name": "stderr",
          "output_type": "stream",
          "text": [
            "\n"
          ]
        },
        {
          "name": "stdout",
          "output_type": "stream",
          "text": [
            "\n",
            "      Epoch    GPU_mem   box_loss   cls_loss   dfl_loss  Instances       Size\n"
          ]
        },
        {
          "name": "stderr",
          "output_type": "stream",
          "text": [
            "     39/100         4G      1.229      1.017      1.321          6        640: 100%|██████████| 60/60 [00:18<00:00,  3.23it/s]\n",
            "                 Class     Images  Instances      Box(P          R      mAP50  mAP50-95): 100%|██████████| 9/9 [00:02<00:00,  4.25it/s]"
          ]
        },
        {
          "name": "stdout",
          "output_type": "stream",
          "text": [
            "                   all        133        330      0.768      0.606      0.715      0.439\n"
          ]
        },
        {
          "name": "stderr",
          "output_type": "stream",
          "text": [
            "\n"
          ]
        },
        {
          "name": "stdout",
          "output_type": "stream",
          "text": [
            "\n",
            "      Epoch    GPU_mem   box_loss   cls_loss   dfl_loss  Instances       Size\n"
          ]
        },
        {
          "name": "stderr",
          "output_type": "stream",
          "text": [
            "     40/100      4.08G      1.201     0.9757      1.301         12        640: 100%|██████████| 60/60 [00:19<00:00,  3.14it/s]\n",
            "                 Class     Images  Instances      Box(P          R      mAP50  mAP50-95): 100%|██████████| 9/9 [00:03<00:00,  2.52it/s]"
          ]
        },
        {
          "name": "stdout",
          "output_type": "stream",
          "text": [
            "                   all        133        330       0.83      0.618      0.747      0.442\n"
          ]
        },
        {
          "name": "stderr",
          "output_type": "stream",
          "text": [
            "\n"
          ]
        },
        {
          "name": "stdout",
          "output_type": "stream",
          "text": [
            "\n",
            "      Epoch    GPU_mem   box_loss   cls_loss   dfl_loss  Instances       Size\n"
          ]
        },
        {
          "name": "stderr",
          "output_type": "stream",
          "text": [
            "     41/100      3.97G      1.187     0.9828      1.296         12        640: 100%|██████████| 60/60 [00:19<00:00,  3.15it/s]\n",
            "                 Class     Images  Instances      Box(P          R      mAP50  mAP50-95): 100%|██████████| 9/9 [00:02<00:00,  4.30it/s]"
          ]
        },
        {
          "name": "stdout",
          "output_type": "stream",
          "text": [
            "                   all        133        330      0.752      0.624      0.716      0.436\n"
          ]
        },
        {
          "name": "stderr",
          "output_type": "stream",
          "text": [
            "\n"
          ]
        },
        {
          "name": "stdout",
          "output_type": "stream",
          "text": [
            "\n",
            "      Epoch    GPU_mem   box_loss   cls_loss   dfl_loss  Instances       Size\n"
          ]
        },
        {
          "name": "stderr",
          "output_type": "stream",
          "text": [
            "     42/100      4.08G      1.177      1.006      1.275         18        640: 100%|██████████| 60/60 [00:19<00:00,  3.16it/s]\n",
            "                 Class     Images  Instances      Box(P          R      mAP50  mAP50-95): 100%|██████████| 9/9 [00:02<00:00,  4.18it/s]"
          ]
        },
        {
          "name": "stdout",
          "output_type": "stream",
          "text": [
            "                   all        133        330      0.791       0.62      0.714      0.436\n"
          ]
        },
        {
          "name": "stderr",
          "output_type": "stream",
          "text": [
            "\n"
          ]
        },
        {
          "name": "stdout",
          "output_type": "stream",
          "text": [
            "\n",
            "      Epoch    GPU_mem   box_loss   cls_loss   dfl_loss  Instances       Size\n"
          ]
        },
        {
          "name": "stderr",
          "output_type": "stream",
          "text": [
            "     43/100      3.96G      1.195      1.011      1.285         14        640: 100%|██████████| 60/60 [00:18<00:00,  3.28it/s]\n",
            "                 Class     Images  Instances      Box(P          R      mAP50  mAP50-95): 100%|██████████| 9/9 [00:02<00:00,  3.96it/s]"
          ]
        },
        {
          "name": "stdout",
          "output_type": "stream",
          "text": [
            "                   all        133        330      0.739      0.679      0.757       0.46\n"
          ]
        },
        {
          "name": "stderr",
          "output_type": "stream",
          "text": [
            "\n"
          ]
        },
        {
          "name": "stdout",
          "output_type": "stream",
          "text": [
            "\n",
            "      Epoch    GPU_mem   box_loss   cls_loss   dfl_loss  Instances       Size\n"
          ]
        },
        {
          "name": "stderr",
          "output_type": "stream",
          "text": [
            "     44/100      4.08G      1.172     0.9653      1.298         14        640: 100%|██████████| 60/60 [00:18<00:00,  3.21it/s]\n",
            "                 Class     Images  Instances      Box(P          R      mAP50  mAP50-95): 100%|██████████| 9/9 [00:03<00:00,  2.54it/s]"
          ]
        },
        {
          "name": "stdout",
          "output_type": "stream",
          "text": [
            "                   all        133        330      0.776      0.658       0.74      0.429\n"
          ]
        },
        {
          "name": "stderr",
          "output_type": "stream",
          "text": [
            "\n"
          ]
        },
        {
          "name": "stdout",
          "output_type": "stream",
          "text": [
            "\n",
            "      Epoch    GPU_mem   box_loss   cls_loss   dfl_loss  Instances       Size\n"
          ]
        },
        {
          "name": "stderr",
          "output_type": "stream",
          "text": [
            "     45/100      3.96G      1.165     0.9496      1.271         12        640: 100%|██████████| 60/60 [00:18<00:00,  3.32it/s]\n",
            "                 Class     Images  Instances      Box(P          R      mAP50  mAP50-95): 100%|██████████| 9/9 [00:02<00:00,  4.25it/s]"
          ]
        },
        {
          "name": "stdout",
          "output_type": "stream",
          "text": [
            "                   all        133        330      0.808      0.624      0.751      0.448\n"
          ]
        },
        {
          "name": "stderr",
          "output_type": "stream",
          "text": [
            "\n"
          ]
        },
        {
          "name": "stdout",
          "output_type": "stream",
          "text": [
            "\n",
            "      Epoch    GPU_mem   box_loss   cls_loss   dfl_loss  Instances       Size\n"
          ]
        },
        {
          "name": "stderr",
          "output_type": "stream",
          "text": [
            "     46/100      4.07G      1.152     0.9227      1.262         15        640: 100%|██████████| 60/60 [00:18<00:00,  3.16it/s]\n",
            "                 Class     Images  Instances      Box(P          R      mAP50  mAP50-95): 100%|██████████| 9/9 [00:01<00:00,  4.50it/s]"
          ]
        },
        {
          "name": "stdout",
          "output_type": "stream",
          "text": [
            "                   all        133        330      0.771       0.67       0.74      0.452\n"
          ]
        },
        {
          "name": "stderr",
          "output_type": "stream",
          "text": [
            "\n"
          ]
        },
        {
          "name": "stdout",
          "output_type": "stream",
          "text": [
            "\n",
            "      Epoch    GPU_mem   box_loss   cls_loss   dfl_loss  Instances       Size\n"
          ]
        },
        {
          "name": "stderr",
          "output_type": "stream",
          "text": [
            "     47/100      3.97G       1.17     0.9598      1.262         20        640: 100%|██████████| 60/60 [00:18<00:00,  3.21it/s]\n",
            "                 Class     Images  Instances      Box(P          R      mAP50  mAP50-95): 100%|██████████| 9/9 [00:03<00:00,  2.66it/s]"
          ]
        },
        {
          "name": "stdout",
          "output_type": "stream",
          "text": [
            "                   all        133        330      0.714      0.635      0.686      0.412\n"
          ]
        },
        {
          "name": "stderr",
          "output_type": "stream",
          "text": [
            "\n"
          ]
        },
        {
          "name": "stdout",
          "output_type": "stream",
          "text": [
            "\n",
            "      Epoch    GPU_mem   box_loss   cls_loss   dfl_loss  Instances       Size\n"
          ]
        },
        {
          "name": "stderr",
          "output_type": "stream",
          "text": [
            "     48/100      4.07G      1.113     0.9212      1.238         12        640: 100%|██████████| 60/60 [00:18<00:00,  3.17it/s]\n",
            "                 Class     Images  Instances      Box(P          R      mAP50  mAP50-95): 100%|██████████| 9/9 [00:02<00:00,  3.24it/s]"
          ]
        },
        {
          "name": "stdout",
          "output_type": "stream",
          "text": [
            "                   all        133        330      0.778      0.655      0.754      0.473\n"
          ]
        },
        {
          "name": "stderr",
          "output_type": "stream",
          "text": [
            "\n"
          ]
        },
        {
          "name": "stdout",
          "output_type": "stream",
          "text": [
            "\n",
            "      Epoch    GPU_mem   box_loss   cls_loss   dfl_loss  Instances       Size\n"
          ]
        },
        {
          "name": "stderr",
          "output_type": "stream",
          "text": [
            "     49/100      3.97G      1.103     0.8906       1.25         11        640: 100%|██████████| 60/60 [00:18<00:00,  3.29it/s]\n",
            "                 Class     Images  Instances      Box(P          R      mAP50  mAP50-95): 100%|██████████| 9/9 [00:02<00:00,  4.40it/s]"
          ]
        },
        {
          "name": "stdout",
          "output_type": "stream",
          "text": [
            "                   all        133        330      0.819      0.604      0.735      0.442\n"
          ]
        },
        {
          "name": "stderr",
          "output_type": "stream",
          "text": [
            "\n"
          ]
        },
        {
          "name": "stdout",
          "output_type": "stream",
          "text": [
            "\n",
            "      Epoch    GPU_mem   box_loss   cls_loss   dfl_loss  Instances       Size\n"
          ]
        },
        {
          "name": "stderr",
          "output_type": "stream",
          "text": [
            "     50/100      4.07G      1.125     0.9047      1.248         11        640: 100%|██████████| 60/60 [00:18<00:00,  3.16it/s]\n",
            "                 Class     Images  Instances      Box(P          R      mAP50  mAP50-95): 100%|██████████| 9/9 [00:02<00:00,  3.86it/s]"
          ]
        },
        {
          "name": "stdout",
          "output_type": "stream",
          "text": [
            "                   all        133        330      0.771      0.685      0.762      0.477\n"
          ]
        },
        {
          "name": "stderr",
          "output_type": "stream",
          "text": [
            "\n"
          ]
        },
        {
          "name": "stdout",
          "output_type": "stream",
          "text": [
            "\n",
            "      Epoch    GPU_mem   box_loss   cls_loss   dfl_loss  Instances       Size\n"
          ]
        },
        {
          "name": "stderr",
          "output_type": "stream",
          "text": [
            "     51/100      3.98G      1.133     0.9167      1.249         13        640: 100%|██████████| 60/60 [00:18<00:00,  3.20it/s]\n",
            "                 Class     Images  Instances      Box(P          R      mAP50  mAP50-95): 100%|██████████| 9/9 [00:03<00:00,  2.51it/s]"
          ]
        },
        {
          "name": "stdout",
          "output_type": "stream",
          "text": [
            "                   all        133        330      0.853      0.609      0.754      0.474\n"
          ]
        },
        {
          "name": "stderr",
          "output_type": "stream",
          "text": [
            "\n"
          ]
        },
        {
          "name": "stdout",
          "output_type": "stream",
          "text": [
            "\n",
            "      Epoch    GPU_mem   box_loss   cls_loss   dfl_loss  Instances       Size\n"
          ]
        },
        {
          "name": "stderr",
          "output_type": "stream",
          "text": [
            "     52/100      4.06G      1.149      0.884      1.264         12        640: 100%|██████████| 60/60 [00:18<00:00,  3.21it/s]\n",
            "                 Class     Images  Instances      Box(P          R      mAP50  mAP50-95): 100%|██████████| 9/9 [00:01<00:00,  4.51it/s]"
          ]
        },
        {
          "name": "stdout",
          "output_type": "stream",
          "text": [
            "                   all        133        330      0.784      0.658      0.752      0.465\n"
          ]
        },
        {
          "name": "stderr",
          "output_type": "stream",
          "text": [
            "\n"
          ]
        },
        {
          "name": "stdout",
          "output_type": "stream",
          "text": [
            "\n",
            "      Epoch    GPU_mem   box_loss   cls_loss   dfl_loss  Instances       Size\n"
          ]
        },
        {
          "name": "stderr",
          "output_type": "stream",
          "text": [
            "     53/100      3.98G      1.092     0.8714      1.246         13        640: 100%|██████████| 60/60 [00:18<00:00,  3.31it/s]\n",
            "                 Class     Images  Instances      Box(P          R      mAP50  mAP50-95): 100%|██████████| 9/9 [00:02<00:00,  4.36it/s]"
          ]
        },
        {
          "name": "stdout",
          "output_type": "stream",
          "text": [
            "                   all        133        330      0.729      0.685      0.746      0.462\n"
          ]
        },
        {
          "name": "stderr",
          "output_type": "stream",
          "text": [
            "\n"
          ]
        },
        {
          "name": "stdout",
          "output_type": "stream",
          "text": [
            "\n",
            "      Epoch    GPU_mem   box_loss   cls_loss   dfl_loss  Instances       Size\n"
          ]
        },
        {
          "name": "stderr",
          "output_type": "stream",
          "text": [
            "     54/100      4.06G        1.1      0.889      1.238         15        640: 100%|██████████| 60/60 [00:18<00:00,  3.18it/s]\n",
            "                 Class     Images  Instances      Box(P          R      mAP50  mAP50-95): 100%|██████████| 9/9 [00:02<00:00,  3.36it/s]"
          ]
        },
        {
          "name": "stdout",
          "output_type": "stream",
          "text": [
            "                   all        133        330      0.814      0.638      0.746      0.461\n"
          ]
        },
        {
          "name": "stderr",
          "output_type": "stream",
          "text": [
            "\n"
          ]
        },
        {
          "name": "stdout",
          "output_type": "stream",
          "text": [
            "\n",
            "      Epoch    GPU_mem   box_loss   cls_loss   dfl_loss  Instances       Size\n"
          ]
        },
        {
          "name": "stderr",
          "output_type": "stream",
          "text": [
            "     55/100      3.98G      1.092      0.873      1.242          9        640: 100%|██████████| 60/60 [00:18<00:00,  3.25it/s]\n",
            "                 Class     Images  Instances      Box(P          R      mAP50  mAP50-95): 100%|██████████| 9/9 [00:03<00:00,  2.62it/s]"
          ]
        },
        {
          "name": "stdout",
          "output_type": "stream",
          "text": [
            "                   all        133        330      0.772      0.676      0.766      0.478\n"
          ]
        },
        {
          "name": "stderr",
          "output_type": "stream",
          "text": [
            "\n"
          ]
        },
        {
          "name": "stdout",
          "output_type": "stream",
          "text": [
            "\n",
            "      Epoch    GPU_mem   box_loss   cls_loss   dfl_loss  Instances       Size\n"
          ]
        },
        {
          "name": "stderr",
          "output_type": "stream",
          "text": [
            "     56/100      4.07G      1.077     0.8449       1.22         21        640: 100%|██████████| 60/60 [00:18<00:00,  3.18it/s]\n",
            "                 Class     Images  Instances      Box(P          R      mAP50  mAP50-95): 100%|██████████| 9/9 [00:01<00:00,  4.52it/s]"
          ]
        },
        {
          "name": "stdout",
          "output_type": "stream",
          "text": [
            "                   all        133        330      0.762       0.67      0.742      0.473\n"
          ]
        },
        {
          "name": "stderr",
          "output_type": "stream",
          "text": [
            "\n"
          ]
        },
        {
          "name": "stdout",
          "output_type": "stream",
          "text": [
            "\n",
            "      Epoch    GPU_mem   box_loss   cls_loss   dfl_loss  Instances       Size\n"
          ]
        },
        {
          "name": "stderr",
          "output_type": "stream",
          "text": [
            "     57/100      3.96G      1.066     0.8286      1.231         19        640: 100%|██████████| 60/60 [00:18<00:00,  3.26it/s]\n",
            "                 Class     Images  Instances      Box(P          R      mAP50  mAP50-95): 100%|██████████| 9/9 [00:02<00:00,  4.36it/s]"
          ]
        },
        {
          "name": "stdout",
          "output_type": "stream",
          "text": [
            "                   all        133        330      0.682      0.722      0.757      0.471\n"
          ]
        },
        {
          "name": "stderr",
          "output_type": "stream",
          "text": [
            "\n"
          ]
        },
        {
          "name": "stdout",
          "output_type": "stream",
          "text": [
            "\n",
            "      Epoch    GPU_mem   box_loss   cls_loss   dfl_loss  Instances       Size\n"
          ]
        },
        {
          "name": "stderr",
          "output_type": "stream",
          "text": [
            "     58/100      4.06G      1.062     0.8195      1.209         16        640: 100%|██████████| 60/60 [00:18<00:00,  3.24it/s]\n",
            "                 Class     Images  Instances      Box(P          R      mAP50  mAP50-95): 100%|██████████| 9/9 [00:03<00:00,  2.92it/s]"
          ]
        },
        {
          "name": "stdout",
          "output_type": "stream",
          "text": [
            "                   all        133        330      0.772      0.688      0.772      0.484\n"
          ]
        },
        {
          "name": "stderr",
          "output_type": "stream",
          "text": [
            "\n"
          ]
        },
        {
          "name": "stdout",
          "output_type": "stream",
          "text": [
            "\n",
            "      Epoch    GPU_mem   box_loss   cls_loss   dfl_loss  Instances       Size\n"
          ]
        },
        {
          "name": "stderr",
          "output_type": "stream",
          "text": [
            "     59/100      3.98G      1.072     0.8032      1.187         10        640: 100%|██████████| 60/60 [00:18<00:00,  3.24it/s]\n",
            "                 Class     Images  Instances      Box(P          R      mAP50  mAP50-95): 100%|██████████| 9/9 [00:02<00:00,  4.02it/s]"
          ]
        },
        {
          "name": "stdout",
          "output_type": "stream",
          "text": [
            "                   all        133        330       0.82      0.635      0.749      0.467\n"
          ]
        },
        {
          "name": "stderr",
          "output_type": "stream",
          "text": [
            "\n"
          ]
        },
        {
          "name": "stdout",
          "output_type": "stream",
          "text": [
            "\n",
            "      Epoch    GPU_mem   box_loss   cls_loss   dfl_loss  Instances       Size\n"
          ]
        },
        {
          "name": "stderr",
          "output_type": "stream",
          "text": [
            "     60/100      4.07G      1.057     0.8292      1.198         19        640: 100%|██████████| 60/60 [00:18<00:00,  3.18it/s]\n",
            "                 Class     Images  Instances      Box(P          R      mAP50  mAP50-95): 100%|██████████| 9/9 [00:02<00:00,  4.12it/s]"
          ]
        },
        {
          "name": "stdout",
          "output_type": "stream",
          "text": [
            "                   all        133        330       0.77      0.697       0.77       0.47\n"
          ]
        },
        {
          "name": "stderr",
          "output_type": "stream",
          "text": [
            "\n"
          ]
        },
        {
          "name": "stdout",
          "output_type": "stream",
          "text": [
            "\n",
            "      Epoch    GPU_mem   box_loss   cls_loss   dfl_loss  Instances       Size\n"
          ]
        },
        {
          "name": "stderr",
          "output_type": "stream",
          "text": [
            "     61/100      3.96G       1.02     0.7785      1.178         17        640: 100%|██████████| 60/60 [00:18<00:00,  3.25it/s]\n",
            "                 Class     Images  Instances      Box(P          R      mAP50  mAP50-95): 100%|██████████| 9/9 [00:02<00:00,  4.29it/s]"
          ]
        },
        {
          "name": "stdout",
          "output_type": "stream",
          "text": [
            "                   all        133        330      0.798      0.676      0.757      0.477\n"
          ]
        },
        {
          "name": "stderr",
          "output_type": "stream",
          "text": [
            "\n"
          ]
        },
        {
          "name": "stdout",
          "output_type": "stream",
          "text": [
            "\n",
            "      Epoch    GPU_mem   box_loss   cls_loss   dfl_loss  Instances       Size\n"
          ]
        },
        {
          "name": "stderr",
          "output_type": "stream",
          "text": [
            "     62/100      4.07G     0.9954     0.7626      1.168          7        640: 100%|██████████| 60/60 [00:18<00:00,  3.17it/s]\n",
            "                 Class     Images  Instances      Box(P          R      mAP50  mAP50-95): 100%|██████████| 9/9 [00:02<00:00,  3.07it/s]"
          ]
        },
        {
          "name": "stdout",
          "output_type": "stream",
          "text": [
            "                   all        133        330      0.764      0.688      0.753       0.48\n"
          ]
        },
        {
          "name": "stderr",
          "output_type": "stream",
          "text": [
            "\n"
          ]
        },
        {
          "name": "stdout",
          "output_type": "stream",
          "text": [
            "\n",
            "      Epoch    GPU_mem   box_loss   cls_loss   dfl_loss  Instances       Size\n"
          ]
        },
        {
          "name": "stderr",
          "output_type": "stream",
          "text": [
            "     63/100      3.98G      1.041     0.7896      1.209         16        640: 100%|██████████| 60/60 [00:18<00:00,  3.26it/s]\n",
            "                 Class     Images  Instances      Box(P          R      mAP50  mAP50-95): 100%|██████████| 9/9 [00:03<00:00,  2.62it/s]"
          ]
        },
        {
          "name": "stdout",
          "output_type": "stream",
          "text": [
            "                   all        133        330      0.776      0.685      0.753      0.454\n"
          ]
        },
        {
          "name": "stderr",
          "output_type": "stream",
          "text": [
            "\n"
          ]
        },
        {
          "name": "stdout",
          "output_type": "stream",
          "text": [
            "\n",
            "      Epoch    GPU_mem   box_loss   cls_loss   dfl_loss  Instances       Size\n"
          ]
        },
        {
          "name": "stderr",
          "output_type": "stream",
          "text": [
            "     64/100      4.08G      1.022     0.7641      1.178         23        640: 100%|██████████| 60/60 [00:18<00:00,  3.24it/s]\n",
            "                 Class     Images  Instances      Box(P          R      mAP50  mAP50-95): 100%|██████████| 9/9 [00:02<00:00,  4.43it/s]"
          ]
        },
        {
          "name": "stdout",
          "output_type": "stream",
          "text": [
            "                   all        133        330      0.754      0.673       0.74      0.461\n"
          ]
        },
        {
          "name": "stderr",
          "output_type": "stream",
          "text": [
            "\n"
          ]
        },
        {
          "name": "stdout",
          "output_type": "stream",
          "text": [
            "\n",
            "      Epoch    GPU_mem   box_loss   cls_loss   dfl_loss  Instances       Size\n"
          ]
        },
        {
          "name": "stderr",
          "output_type": "stream",
          "text": [
            "     65/100      3.98G     0.9803     0.7778      1.165         14        640: 100%|██████████| 60/60 [00:18<00:00,  3.25it/s]\n",
            "                 Class     Images  Instances      Box(P          R      mAP50  mAP50-95): 100%|██████████| 9/9 [00:02<00:00,  4.33it/s]"
          ]
        },
        {
          "name": "stdout",
          "output_type": "stream",
          "text": [
            "                   all        133        330      0.849      0.646      0.789      0.493\n"
          ]
        },
        {
          "name": "stderr",
          "output_type": "stream",
          "text": [
            "\n"
          ]
        },
        {
          "name": "stdout",
          "output_type": "stream",
          "text": [
            "\n",
            "      Epoch    GPU_mem   box_loss   cls_loss   dfl_loss  Instances       Size\n"
          ]
        },
        {
          "name": "stderr",
          "output_type": "stream",
          "text": [
            "     66/100      4.07G     0.9795     0.7303      1.166         14        640: 100%|██████████| 60/60 [00:18<00:00,  3.18it/s]\n",
            "                 Class     Images  Instances      Box(P          R      mAP50  mAP50-95): 100%|██████████| 9/9 [00:03<00:00,  2.90it/s]"
          ]
        },
        {
          "name": "stdout",
          "output_type": "stream",
          "text": [
            "                   all        133        330      0.781      0.688      0.789        0.5\n"
          ]
        },
        {
          "name": "stderr",
          "output_type": "stream",
          "text": [
            "\n"
          ]
        },
        {
          "name": "stdout",
          "output_type": "stream",
          "text": [
            "\n",
            "      Epoch    GPU_mem   box_loss   cls_loss   dfl_loss  Instances       Size\n"
          ]
        },
        {
          "name": "stderr",
          "output_type": "stream",
          "text": [
            "     67/100      3.97G     0.9634     0.7365      1.155         29        640: 100%|██████████| 60/60 [00:18<00:00,  3.28it/s]\n",
            "                 Class     Images  Instances      Box(P          R      mAP50  mAP50-95): 100%|██████████| 9/9 [00:02<00:00,  4.47it/s]"
          ]
        },
        {
          "name": "stdout",
          "output_type": "stream",
          "text": [
            "                   all        133        330      0.871      0.654      0.796      0.507\n"
          ]
        },
        {
          "name": "stderr",
          "output_type": "stream",
          "text": [
            "\n"
          ]
        },
        {
          "name": "stdout",
          "output_type": "stream",
          "text": [
            "\n",
            "      Epoch    GPU_mem   box_loss   cls_loss   dfl_loss  Instances       Size\n"
          ]
        },
        {
          "name": "stderr",
          "output_type": "stream",
          "text": [
            "     68/100      4.07G     0.9673     0.7353      1.153         10        640: 100%|██████████| 60/60 [00:18<00:00,  3.20it/s]\n",
            "                 Class     Images  Instances      Box(P          R      mAP50  mAP50-95): 100%|██████████| 9/9 [00:01<00:00,  4.50it/s]"
          ]
        },
        {
          "name": "stdout",
          "output_type": "stream",
          "text": [
            "                   all        133        330      0.738      0.697      0.749       0.47\n"
          ]
        },
        {
          "name": "stderr",
          "output_type": "stream",
          "text": [
            "\n"
          ]
        },
        {
          "name": "stdout",
          "output_type": "stream",
          "text": [
            "\n",
            "      Epoch    GPU_mem   box_loss   cls_loss   dfl_loss  Instances       Size\n"
          ]
        },
        {
          "name": "stderr",
          "output_type": "stream",
          "text": [
            "     69/100      3.96G     0.9649     0.7473      1.163         17        640: 100%|██████████| 60/60 [00:18<00:00,  3.19it/s]\n",
            "                 Class     Images  Instances      Box(P          R      mAP50  mAP50-95): 100%|██████████| 9/9 [00:02<00:00,  3.08it/s]"
          ]
        },
        {
          "name": "stdout",
          "output_type": "stream",
          "text": [
            "                   all        133        330      0.719      0.706      0.755      0.477\n"
          ]
        },
        {
          "name": "stderr",
          "output_type": "stream",
          "text": [
            "\n"
          ]
        },
        {
          "name": "stdout",
          "output_type": "stream",
          "text": [
            "\n",
            "      Epoch    GPU_mem   box_loss   cls_loss   dfl_loss  Instances       Size\n"
          ]
        },
        {
          "name": "stderr",
          "output_type": "stream",
          "text": [
            "     70/100      4.07G     0.9459     0.7493      1.158          6        640: 100%|██████████| 60/60 [00:18<00:00,  3.25it/s]\n",
            "                 Class     Images  Instances      Box(P          R      mAP50  mAP50-95): 100%|██████████| 9/9 [00:03<00:00,  2.96it/s]"
          ]
        },
        {
          "name": "stdout",
          "output_type": "stream",
          "text": [
            "                   all        133        330      0.801      0.691      0.784      0.496\n"
          ]
        },
        {
          "name": "stderr",
          "output_type": "stream",
          "text": [
            "\n"
          ]
        },
        {
          "name": "stdout",
          "output_type": "stream",
          "text": [
            "\n",
            "      Epoch    GPU_mem   box_loss   cls_loss   dfl_loss  Instances       Size\n"
          ]
        },
        {
          "name": "stderr",
          "output_type": "stream",
          "text": [
            "     71/100      3.98G     0.9477     0.7072      1.138         23        640: 100%|██████████| 60/60 [00:18<00:00,  3.24it/s]\n",
            "                 Class     Images  Instances      Box(P          R      mAP50  mAP50-95): 100%|██████████| 9/9 [00:02<00:00,  4.44it/s]"
          ]
        },
        {
          "name": "stdout",
          "output_type": "stream",
          "text": [
            "                   all        133        330      0.739       0.72      0.759      0.477\n"
          ]
        },
        {
          "name": "stderr",
          "output_type": "stream",
          "text": [
            "\n"
          ]
        },
        {
          "name": "stdout",
          "output_type": "stream",
          "text": [
            "\n",
            "      Epoch    GPU_mem   box_loss   cls_loss   dfl_loss  Instances       Size\n"
          ]
        },
        {
          "name": "stderr",
          "output_type": "stream",
          "text": [
            "     72/100      4.07G     0.9585     0.7237      1.139         14        640: 100%|██████████| 60/60 [00:18<00:00,  3.28it/s]\n",
            "                 Class     Images  Instances      Box(P          R      mAP50  mAP50-95): 100%|██████████| 9/9 [00:02<00:00,  4.46it/s]"
          ]
        },
        {
          "name": "stdout",
          "output_type": "stream",
          "text": [
            "                   all        133        330       0.79      0.733      0.786      0.505\n"
          ]
        },
        {
          "name": "stderr",
          "output_type": "stream",
          "text": [
            "\n"
          ]
        },
        {
          "name": "stdout",
          "output_type": "stream",
          "text": [
            "\n",
            "      Epoch    GPU_mem   box_loss   cls_loss   dfl_loss  Instances       Size\n"
          ]
        },
        {
          "name": "stderr",
          "output_type": "stream",
          "text": [
            "     73/100      3.98G     0.9372      0.703      1.141          9        640: 100%|██████████| 60/60 [00:18<00:00,  3.17it/s]\n",
            "                 Class     Images  Instances      Box(P          R      mAP50  mAP50-95): 100%|██████████| 9/9 [00:03<00:00,  2.82it/s]"
          ]
        },
        {
          "name": "stdout",
          "output_type": "stream",
          "text": [
            "                   all        133        330      0.788        0.7       0.79      0.506\n"
          ]
        },
        {
          "name": "stderr",
          "output_type": "stream",
          "text": [
            "\n"
          ]
        },
        {
          "name": "stdout",
          "output_type": "stream",
          "text": [
            "\n",
            "      Epoch    GPU_mem   box_loss   cls_loss   dfl_loss  Instances       Size\n"
          ]
        },
        {
          "name": "stderr",
          "output_type": "stream",
          "text": [
            "     74/100      4.07G     0.9213     0.6954      1.134          7        640: 100%|██████████| 60/60 [00:18<00:00,  3.19it/s]\n",
            "                 Class     Images  Instances      Box(P          R      mAP50  mAP50-95): 100%|██████████| 9/9 [00:02<00:00,  3.33it/s]"
          ]
        },
        {
          "name": "stdout",
          "output_type": "stream",
          "text": [
            "                   all        133        330      0.822      0.671      0.773        0.5\n"
          ]
        },
        {
          "name": "stderr",
          "output_type": "stream",
          "text": [
            "\n"
          ]
        },
        {
          "name": "stdout",
          "output_type": "stream",
          "text": [
            "\n",
            "      Epoch    GPU_mem   box_loss   cls_loss   dfl_loss  Instances       Size\n"
          ]
        },
        {
          "name": "stderr",
          "output_type": "stream",
          "text": [
            "     75/100      3.97G      0.905     0.6581      1.114          5        640: 100%|██████████| 60/60 [00:18<00:00,  3.29it/s]\n",
            "                 Class     Images  Instances      Box(P          R      mAP50  mAP50-95): 100%|██████████| 9/9 [00:02<00:00,  4.23it/s]"
          ]
        },
        {
          "name": "stdout",
          "output_type": "stream",
          "text": [
            "                   all        133        330      0.791      0.688      0.759      0.495\n"
          ]
        },
        {
          "name": "stderr",
          "output_type": "stream",
          "text": [
            "\n"
          ]
        },
        {
          "name": "stdout",
          "output_type": "stream",
          "text": [
            "\n",
            "      Epoch    GPU_mem   box_loss   cls_loss   dfl_loss  Instances       Size\n"
          ]
        },
        {
          "name": "stderr",
          "output_type": "stream",
          "text": [
            "     76/100      4.05G     0.9367     0.6938       1.14         32        640: 100%|██████████| 60/60 [00:18<00:00,  3.27it/s]\n",
            "                 Class     Images  Instances      Box(P          R      mAP50  mAP50-95): 100%|██████████| 9/9 [00:01<00:00,  4.53it/s]"
          ]
        },
        {
          "name": "stdout",
          "output_type": "stream",
          "text": [
            "                   all        133        330      0.792      0.694      0.756      0.486\n"
          ]
        },
        {
          "name": "stderr",
          "output_type": "stream",
          "text": [
            "\n"
          ]
        },
        {
          "name": "stdout",
          "output_type": "stream",
          "text": [
            "\n",
            "      Epoch    GPU_mem   box_loss   cls_loss   dfl_loss  Instances       Size\n"
          ]
        },
        {
          "name": "stderr",
          "output_type": "stream",
          "text": [
            "     77/100      3.98G     0.8887     0.6626      1.109         11        640: 100%|██████████| 60/60 [00:18<00:00,  3.22it/s]\n",
            "                 Class     Images  Instances      Box(P          R      mAP50  mAP50-95): 100%|██████████| 9/9 [00:02<00:00,  3.23it/s]"
          ]
        },
        {
          "name": "stdout",
          "output_type": "stream",
          "text": [
            "                   all        133        330      0.809      0.679       0.76      0.495\n"
          ]
        },
        {
          "name": "stderr",
          "output_type": "stream",
          "text": [
            "\n"
          ]
        },
        {
          "name": "stdout",
          "output_type": "stream",
          "text": [
            "\n",
            "      Epoch    GPU_mem   box_loss   cls_loss   dfl_loss  Instances       Size\n"
          ]
        },
        {
          "name": "stderr",
          "output_type": "stream",
          "text": [
            "     78/100      4.07G     0.8731     0.6342      1.098         13        640: 100%|██████████| 60/60 [00:18<00:00,  3.18it/s]\n",
            "                 Class     Images  Instances      Box(P          R      mAP50  mAP50-95): 100%|██████████| 9/9 [00:03<00:00,  2.86it/s]"
          ]
        },
        {
          "name": "stdout",
          "output_type": "stream",
          "text": [
            "                   all        133        330      0.859      0.662      0.789      0.502\n"
          ]
        },
        {
          "name": "stderr",
          "output_type": "stream",
          "text": [
            "\n"
          ]
        },
        {
          "name": "stdout",
          "output_type": "stream",
          "text": [
            "\n",
            "      Epoch    GPU_mem   box_loss   cls_loss   dfl_loss  Instances       Size\n"
          ]
        },
        {
          "name": "stderr",
          "output_type": "stream",
          "text": [
            "     79/100      3.96G     0.8725     0.6579      1.105         11        640: 100%|██████████| 60/60 [00:18<00:00,  3.24it/s]\n",
            "                 Class     Images  Instances      Box(P          R      mAP50  mAP50-95): 100%|██████████| 9/9 [00:02<00:00,  4.42it/s]"
          ]
        },
        {
          "name": "stdout",
          "output_type": "stream",
          "text": [
            "                   all        133        330      0.842      0.679      0.781      0.499\n"
          ]
        },
        {
          "name": "stderr",
          "output_type": "stream",
          "text": [
            "\n"
          ]
        },
        {
          "name": "stdout",
          "output_type": "stream",
          "text": [
            "\n",
            "      Epoch    GPU_mem   box_loss   cls_loss   dfl_loss  Instances       Size\n"
          ]
        },
        {
          "name": "stderr",
          "output_type": "stream",
          "text": [
            "     80/100      4.08G     0.8743     0.6588      1.102          7        640: 100%|██████████| 60/60 [00:18<00:00,  3.24it/s]\n",
            "                 Class     Images  Instances      Box(P          R      mAP50  mAP50-95): 100%|██████████| 9/9 [00:02<00:00,  4.43it/s]"
          ]
        },
        {
          "name": "stdout",
          "output_type": "stream",
          "text": [
            "                   all        133        330      0.811      0.689       0.78      0.502\n"
          ]
        },
        {
          "name": "stderr",
          "output_type": "stream",
          "text": [
            "\n"
          ]
        },
        {
          "name": "stdout",
          "output_type": "stream",
          "text": [
            "\n",
            "      Epoch    GPU_mem   box_loss   cls_loss   dfl_loss  Instances       Size\n"
          ]
        },
        {
          "name": "stderr",
          "output_type": "stream",
          "text": [
            "     81/100      3.98G     0.8726      0.639      1.102         15        640: 100%|██████████| 60/60 [00:18<00:00,  3.25it/s]\n",
            "                 Class     Images  Instances      Box(P          R      mAP50  mAP50-95): 100%|██████████| 9/9 [00:03<00:00,  2.68it/s]\n"
          ]
        },
        {
          "name": "stdout",
          "output_type": "stream",
          "text": [
            "                   all        133        330      0.771       0.73      0.784      0.507\n",
            "\n",
            "      Epoch    GPU_mem   box_loss   cls_loss   dfl_loss  Instances       Size\n"
          ]
        },
        {
          "name": "stderr",
          "output_type": "stream",
          "text": [
            "     82/100      4.06G     0.8709     0.6557      1.112          6        640: 100%|██████████| 60/60 [00:18<00:00,  3.21it/s]\n",
            "                 Class     Images  Instances      Box(P          R      mAP50  mAP50-95): 100%|██████████| 9/9 [00:02<00:00,  3.22it/s]"
          ]
        },
        {
          "name": "stdout",
          "output_type": "stream",
          "text": [
            "                   all        133        330      0.791      0.706      0.795      0.491\n"
          ]
        },
        {
          "name": "stderr",
          "output_type": "stream",
          "text": [
            "\n"
          ]
        },
        {
          "name": "stdout",
          "output_type": "stream",
          "text": [
            "\n",
            "      Epoch    GPU_mem   box_loss   cls_loss   dfl_loss  Instances       Size\n"
          ]
        },
        {
          "name": "stderr",
          "output_type": "stream",
          "text": [
            "     83/100      3.96G     0.8484      0.635      1.092         12        640: 100%|██████████| 60/60 [00:18<00:00,  3.18it/s]\n",
            "                 Class     Images  Instances      Box(P          R      mAP50  mAP50-95): 100%|██████████| 9/9 [00:02<00:00,  4.36it/s]"
          ]
        },
        {
          "name": "stdout",
          "output_type": "stream",
          "text": [
            "                   all        133        330      0.778      0.709      0.787      0.504\n"
          ]
        },
        {
          "name": "stderr",
          "output_type": "stream",
          "text": [
            "\n"
          ]
        },
        {
          "name": "stdout",
          "output_type": "stream",
          "text": [
            "\n",
            "      Epoch    GPU_mem   box_loss   cls_loss   dfl_loss  Instances       Size\n"
          ]
        },
        {
          "name": "stderr",
          "output_type": "stream",
          "text": [
            "     84/100      4.08G     0.8499     0.6058      1.088         11        640: 100%|██████████| 60/60 [00:18<00:00,  3.24it/s]\n",
            "                 Class     Images  Instances      Box(P          R      mAP50  mAP50-95): 100%|██████████| 9/9 [00:02<00:00,  4.42it/s]"
          ]
        },
        {
          "name": "stdout",
          "output_type": "stream",
          "text": [
            "                   all        133        330      0.819      0.682      0.778      0.513\n"
          ]
        },
        {
          "name": "stderr",
          "output_type": "stream",
          "text": [
            "\n"
          ]
        },
        {
          "name": "stdout",
          "output_type": "stream",
          "text": [
            "\n",
            "      Epoch    GPU_mem   box_loss   cls_loss   dfl_loss  Instances       Size\n"
          ]
        },
        {
          "name": "stderr",
          "output_type": "stream",
          "text": [
            "     85/100      3.97G     0.8581     0.6127      1.094         14        640: 100%|██████████| 60/60 [00:18<00:00,  3.22it/s]\n",
            "                 Class     Images  Instances      Box(P          R      mAP50  mAP50-95): 100%|██████████| 9/9 [00:03<00:00,  2.67it/s]"
          ]
        },
        {
          "name": "stdout",
          "output_type": "stream",
          "text": [
            "                   all        133        330      0.818      0.685      0.778      0.504\n"
          ]
        },
        {
          "name": "stderr",
          "output_type": "stream",
          "text": [
            "\n"
          ]
        },
        {
          "name": "stdout",
          "output_type": "stream",
          "text": [
            "\n",
            "      Epoch    GPU_mem   box_loss   cls_loss   dfl_loss  Instances       Size\n"
          ]
        },
        {
          "name": "stderr",
          "output_type": "stream",
          "text": [
            "     86/100      4.07G     0.8464     0.6045      1.092         23        640: 100%|██████████| 60/60 [00:18<00:00,  3.23it/s]\n",
            "                 Class     Images  Instances      Box(P          R      mAP50  mAP50-95): 100%|██████████| 9/9 [00:02<00:00,  4.45it/s]"
          ]
        },
        {
          "name": "stdout",
          "output_type": "stream",
          "text": [
            "                   all        133        330      0.778      0.709      0.779      0.507\n"
          ]
        },
        {
          "name": "stderr",
          "output_type": "stream",
          "text": [
            "\n"
          ]
        },
        {
          "name": "stdout",
          "output_type": "stream",
          "text": [
            "\n",
            "      Epoch    GPU_mem   box_loss   cls_loss   dfl_loss  Instances       Size\n"
          ]
        },
        {
          "name": "stderr",
          "output_type": "stream",
          "text": [
            "     87/100      3.97G     0.8174      0.591      1.061         22        640: 100%|██████████| 60/60 [00:18<00:00,  3.18it/s]\n",
            "                 Class     Images  Instances      Box(P          R      mAP50  mAP50-95): 100%|██████████| 9/9 [00:02<00:00,  4.24it/s]"
          ]
        },
        {
          "name": "stdout",
          "output_type": "stream",
          "text": [
            "                   all        133        330      0.821      0.676      0.769       0.49\n"
          ]
        },
        {
          "name": "stderr",
          "output_type": "stream",
          "text": [
            "\n"
          ]
        },
        {
          "name": "stdout",
          "output_type": "stream",
          "text": [
            "\n",
            "      Epoch    GPU_mem   box_loss   cls_loss   dfl_loss  Instances       Size\n"
          ]
        },
        {
          "name": "stderr",
          "output_type": "stream",
          "text": [
            "     88/100      4.06G      0.803     0.5831      1.074          4        640: 100%|██████████| 60/60 [00:18<00:00,  3.22it/s]\n",
            "                 Class     Images  Instances      Box(P          R      mAP50  mAP50-95): 100%|██████████| 9/9 [00:02<00:00,  3.49it/s]"
          ]
        },
        {
          "name": "stdout",
          "output_type": "stream",
          "text": [
            "                   all        133        330      0.781      0.704      0.773      0.491\n"
          ]
        },
        {
          "name": "stderr",
          "output_type": "stream",
          "text": [
            "\n"
          ]
        },
        {
          "name": "stdout",
          "output_type": "stream",
          "text": [
            "\n",
            "      Epoch    GPU_mem   box_loss   cls_loss   dfl_loss  Instances       Size\n"
          ]
        },
        {
          "name": "stderr",
          "output_type": "stream",
          "text": [
            "     89/100      3.98G     0.8094     0.6008      1.066          9        640: 100%|██████████| 60/60 [00:19<00:00,  3.15it/s]\n",
            "                 Class     Images  Instances      Box(P          R      mAP50  mAP50-95): 100%|██████████| 9/9 [00:03<00:00,  2.61it/s]\n"
          ]
        },
        {
          "name": "stdout",
          "output_type": "stream",
          "text": [
            "                   all        133        330      0.796       0.72       0.78      0.511\n",
            "\n",
            "      Epoch    GPU_mem   box_loss   cls_loss   dfl_loss  Instances       Size\n"
          ]
        },
        {
          "name": "stderr",
          "output_type": "stream",
          "text": [
            "     90/100      4.07G     0.7862     0.5799      1.051          9        640: 100%|██████████| 60/60 [00:18<00:00,  3.30it/s]\n",
            "                 Class     Images  Instances      Box(P          R      mAP50  mAP50-95): 100%|██████████| 9/9 [00:02<00:00,  4.33it/s]"
          ]
        },
        {
          "name": "stdout",
          "output_type": "stream",
          "text": [
            "                   all        133        330      0.794      0.697      0.764      0.505\n"
          ]
        },
        {
          "name": "stderr",
          "output_type": "stream",
          "text": [
            "\n"
          ]
        },
        {
          "name": "stdout",
          "output_type": "stream",
          "text": [
            "Closing dataloader mosaic\n",
            "\u001b[34m\u001b[1malbumentations: \u001b[0mBlur(p=0.01, blur_limit=(3, 7)), MedianBlur(p=0.01, blur_limit=(3, 7)), ToGray(p=0.01), CLAHE(p=0.01, clip_limit=(1, 4.0), tile_grid_size=(8, 8))\n"
          ]
        },
        {
          "name": "stderr",
          "output_type": "stream",
          "text": [
            "/usr/lib/python3.10/multiprocessing/popen_fork.py:66: RuntimeWarning: os.fork() was called. os.fork() is incompatible with multithreaded code, and JAX is multithreaded, so this will likely lead to a deadlock.\n",
            "  self.pid = os.fork()\n"
          ]
        },
        {
          "name": "stdout",
          "output_type": "stream",
          "text": [
            "\n",
            "      Epoch    GPU_mem   box_loss   cls_loss   dfl_loss  Instances       Size\n"
          ]
        },
        {
          "name": "stderr",
          "output_type": "stream",
          "text": [
            "/usr/lib/python3.10/multiprocessing/popen_fork.py:66: RuntimeWarning: os.fork() was called. os.fork() is incompatible with multithreaded code, and JAX is multithreaded, so this will likely lead to a deadlock.\n",
            "  self.pid = os.fork()\n",
            "     91/100      3.98G     0.7314     0.5465     0.9998          4        640: 100%|██████████| 60/60 [00:19<00:00,  3.16it/s]\n",
            "                 Class     Images  Instances      Box(P          R      mAP50  mAP50-95): 100%|██████████| 9/9 [00:01<00:00,  4.57it/s]"
          ]
        },
        {
          "name": "stdout",
          "output_type": "stream",
          "text": [
            "                   all        133        330      0.773      0.697      0.751      0.496\n"
          ]
        },
        {
          "name": "stderr",
          "output_type": "stream",
          "text": [
            "\n"
          ]
        },
        {
          "name": "stdout",
          "output_type": "stream",
          "text": [
            "\n",
            "      Epoch    GPU_mem   box_loss   cls_loss   dfl_loss  Instances       Size\n"
          ]
        },
        {
          "name": "stderr",
          "output_type": "stream",
          "text": [
            "     92/100      4.05G     0.7146      0.502     0.9942          7        640: 100%|██████████| 60/60 [00:18<00:00,  3.25it/s]\n",
            "                 Class     Images  Instances      Box(P          R      mAP50  mAP50-95): 100%|██████████| 9/9 [00:03<00:00,  2.82it/s]"
          ]
        },
        {
          "name": "stdout",
          "output_type": "stream",
          "text": [
            "                   all        133        330      0.773      0.703       0.76      0.493\n"
          ]
        },
        {
          "name": "stderr",
          "output_type": "stream",
          "text": [
            "\n"
          ]
        },
        {
          "name": "stdout",
          "output_type": "stream",
          "text": [
            "\n",
            "      Epoch    GPU_mem   box_loss   cls_loss   dfl_loss  Instances       Size\n"
          ]
        },
        {
          "name": "stderr",
          "output_type": "stream",
          "text": [
            "     93/100      3.98G     0.7022     0.4802     0.9819         19        640: 100%|██████████| 60/60 [00:18<00:00,  3.24it/s]\n",
            "                 Class     Images  Instances      Box(P          R      mAP50  mAP50-95): 100%|██████████| 9/9 [00:02<00:00,  4.31it/s]"
          ]
        },
        {
          "name": "stdout",
          "output_type": "stream",
          "text": [
            "                   all        133        330      0.732      0.742      0.771      0.503\n"
          ]
        },
        {
          "name": "stderr",
          "output_type": "stream",
          "text": [
            "\n"
          ]
        },
        {
          "name": "stdout",
          "output_type": "stream",
          "text": [
            "\n",
            "      Epoch    GPU_mem   box_loss   cls_loss   dfl_loss  Instances       Size\n"
          ]
        },
        {
          "name": "stderr",
          "output_type": "stream",
          "text": [
            "     94/100      4.06G     0.7028     0.4759     0.9796          6        640: 100%|██████████| 60/60 [00:18<00:00,  3.24it/s]\n",
            "                 Class     Images  Instances      Box(P          R      mAP50  mAP50-95): 100%|██████████| 9/9 [00:02<00:00,  4.33it/s]"
          ]
        },
        {
          "name": "stdout",
          "output_type": "stream",
          "text": [
            "                   all        133        330       0.77      0.691      0.776      0.512\n"
          ]
        },
        {
          "name": "stderr",
          "output_type": "stream",
          "text": [
            "\n"
          ]
        },
        {
          "name": "stdout",
          "output_type": "stream",
          "text": [
            "\n",
            "      Epoch    GPU_mem   box_loss   cls_loss   dfl_loss  Instances       Size\n"
          ]
        },
        {
          "name": "stderr",
          "output_type": "stream",
          "text": [
            "     95/100      3.98G      0.685     0.4618     0.9607          4        640: 100%|██████████| 60/60 [00:18<00:00,  3.26it/s]\n",
            "                 Class     Images  Instances      Box(P          R      mAP50  mAP50-95): 100%|██████████| 9/9 [00:02<00:00,  4.48it/s]"
          ]
        },
        {
          "name": "stdout",
          "output_type": "stream",
          "text": [
            "                   all        133        330      0.751      0.712      0.775      0.511\n"
          ]
        },
        {
          "name": "stderr",
          "output_type": "stream",
          "text": [
            "\n"
          ]
        },
        {
          "name": "stdout",
          "output_type": "stream",
          "text": [
            "\n",
            "      Epoch    GPU_mem   box_loss   cls_loss   dfl_loss  Instances       Size\n"
          ]
        },
        {
          "name": "stderr",
          "output_type": "stream",
          "text": [
            "     96/100      4.05G     0.6829     0.4681     0.9712          5        640: 100%|██████████| 60/60 [00:18<00:00,  3.28it/s]\n",
            "                 Class     Images  Instances      Box(P          R      mAP50  mAP50-95): 100%|██████████| 9/9 [00:03<00:00,  2.61it/s]"
          ]
        },
        {
          "name": "stdout",
          "output_type": "stream",
          "text": [
            "                   all        133        330      0.766       0.73      0.784       0.51\n"
          ]
        },
        {
          "name": "stderr",
          "output_type": "stream",
          "text": [
            "\n"
          ]
        },
        {
          "name": "stdout",
          "output_type": "stream",
          "text": [
            "\n",
            "      Epoch    GPU_mem   box_loss   cls_loss   dfl_loss  Instances       Size\n"
          ]
        },
        {
          "name": "stderr",
          "output_type": "stream",
          "text": [
            "     97/100      3.97G     0.6663     0.4533     0.9668          5        640: 100%|██████████| 60/60 [00:18<00:00,  3.18it/s]\n",
            "                 Class     Images  Instances      Box(P          R      mAP50  mAP50-95): 100%|██████████| 9/9 [00:02<00:00,  4.24it/s]"
          ]
        },
        {
          "name": "stdout",
          "output_type": "stream",
          "text": [
            "                   all        133        330       0.77      0.718      0.784      0.517\n"
          ]
        },
        {
          "name": "stderr",
          "output_type": "stream",
          "text": [
            "\n"
          ]
        },
        {
          "name": "stdout",
          "output_type": "stream",
          "text": [
            "\n",
            "      Epoch    GPU_mem   box_loss   cls_loss   dfl_loss  Instances       Size\n"
          ]
        },
        {
          "name": "stderr",
          "output_type": "stream",
          "text": [
            "     98/100      4.07G     0.6783     0.4628     0.9723         13        640: 100%|██████████| 60/60 [00:18<00:00,  3.18it/s]\n",
            "                 Class     Images  Instances      Box(P          R      mAP50  mAP50-95): 100%|██████████| 9/9 [00:02<00:00,  4.36it/s]"
          ]
        },
        {
          "name": "stdout",
          "output_type": "stream",
          "text": [
            "                   all        133        330      0.816      0.703       0.78      0.511\n"
          ]
        },
        {
          "name": "stderr",
          "output_type": "stream",
          "text": [
            "\n"
          ]
        },
        {
          "name": "stdout",
          "output_type": "stream",
          "text": [
            "\n",
            "      Epoch    GPU_mem   box_loss   cls_loss   dfl_loss  Instances       Size\n"
          ]
        },
        {
          "name": "stderr",
          "output_type": "stream",
          "text": [
            "     99/100      3.97G     0.6483     0.4401     0.9583          9        640: 100%|██████████| 60/60 [00:18<00:00,  3.32it/s]\n",
            "                 Class     Images  Instances      Box(P          R      mAP50  mAP50-95): 100%|██████████| 9/9 [00:02<00:00,  4.33it/s]"
          ]
        },
        {
          "name": "stdout",
          "output_type": "stream",
          "text": [
            "                   all        133        330       0.82      0.706      0.785      0.515\n"
          ]
        },
        {
          "name": "stderr",
          "output_type": "stream",
          "text": [
            "\n"
          ]
        },
        {
          "name": "stdout",
          "output_type": "stream",
          "text": [
            "\n",
            "      Epoch    GPU_mem   box_loss   cls_loss   dfl_loss  Instances       Size\n"
          ]
        },
        {
          "name": "stderr",
          "output_type": "stream",
          "text": [
            "    100/100      4.07G     0.6506     0.4417      0.963          5        640: 100%|██████████| 60/60 [00:18<00:00,  3.28it/s]\n",
            "                 Class     Images  Instances      Box(P          R      mAP50  mAP50-95): 100%|██████████| 9/9 [00:03<00:00,  2.62it/s]"
          ]
        },
        {
          "name": "stdout",
          "output_type": "stream",
          "text": [
            "                   all        133        330      0.823      0.688      0.784      0.515\n"
          ]
        },
        {
          "name": "stderr",
          "output_type": "stream",
          "text": [
            "\n"
          ]
        },
        {
          "name": "stdout",
          "output_type": "stream",
          "text": [
            "\n",
            "100 epochs completed in 0.636 hours.\n",
            "Optimizer stripped from runs/detect/train2/weights/last.pt, 52.0MB\n",
            "Optimizer stripped from runs/detect/train2/weights/best.pt, 52.0MB\n",
            "\n",
            "Validating runs/detect/train2/weights/best.pt...\n",
            "Ultralytics YOLOv8.2.23 🚀 Python-3.10.12 torch-2.3.0+cu121 CUDA:0 (Tesla T4, 15102MiB)\n",
            "Model summary (fused): 218 layers, 25840339 parameters, 0 gradients, 78.7 GFLOPs\n"
          ]
        },
        {
          "name": "stderr",
          "output_type": "stream",
          "text": [
            "                 Class     Images  Instances      Box(P          R      mAP50  mAP50-95): 100%|██████████| 9/9 [00:04<00:00,  1.82it/s]\n"
          ]
        },
        {
          "name": "stdout",
          "output_type": "stream",
          "text": [
            "                   all        133        330       0.77      0.719      0.784      0.517\n",
            "Speed: 0.5ms preprocess, 10.5ms inference, 0.0ms loss, 3.4ms postprocess per image\n",
            "Results saved to \u001b[1mruns/detect/train2\u001b[0m\n"
          ]
        },
        {
          "data": {
            "text/plain": [
              "ultralytics.utils.metrics.DetMetrics object with attributes:\n",
              "\n",
              "ap_class_index: array([0])\n",
              "box: ultralytics.utils.metrics.Metric object\n",
              "confusion_matrix: <ultralytics.utils.metrics.ConfusionMatrix object at 0x7d5d83e57100>\n",
              "curves: ['Precision-Recall(B)', 'F1-Confidence(B)', 'Precision-Confidence(B)', 'Recall-Confidence(B)']\n",
              "curves_results: [[array([          0,    0.001001,    0.002002,    0.003003,    0.004004,    0.005005,    0.006006,    0.007007,    0.008008,    0.009009,     0.01001,    0.011011,    0.012012,    0.013013,    0.014014,    0.015015,    0.016016,    0.017017,    0.018018,    0.019019,     0.02002,    0.021021,    0.022022,    0.023023,\n",
              "          0.024024,    0.025025,    0.026026,    0.027027,    0.028028,    0.029029,     0.03003,    0.031031,    0.032032,    0.033033,    0.034034,    0.035035,    0.036036,    0.037037,    0.038038,    0.039039,     0.04004,    0.041041,    0.042042,    0.043043,    0.044044,    0.045045,    0.046046,    0.047047,\n",
              "          0.048048,    0.049049,     0.05005,    0.051051,    0.052052,    0.053053,    0.054054,    0.055055,    0.056056,    0.057057,    0.058058,    0.059059,     0.06006,    0.061061,    0.062062,    0.063063,    0.064064,    0.065065,    0.066066,    0.067067,    0.068068,    0.069069,     0.07007,    0.071071,\n",
              "          0.072072,    0.073073,    0.074074,    0.075075,    0.076076,    0.077077,    0.078078,    0.079079,     0.08008,    0.081081,    0.082082,    0.083083,    0.084084,    0.085085,    0.086086,    0.087087,    0.088088,    0.089089,     0.09009,    0.091091,    0.092092,    0.093093,    0.094094,    0.095095,\n",
              "          0.096096,    0.097097,    0.098098,    0.099099,      0.1001,      0.1011,      0.1021,      0.1031,      0.1041,     0.10511,     0.10611,     0.10711,     0.10811,     0.10911,     0.11011,     0.11111,     0.11211,     0.11311,     0.11411,     0.11512,     0.11612,     0.11712,     0.11812,     0.11912,\n",
              "           0.12012,     0.12112,     0.12212,     0.12312,     0.12412,     0.12513,     0.12613,     0.12713,     0.12813,     0.12913,     0.13013,     0.13113,     0.13213,     0.13313,     0.13413,     0.13514,     0.13614,     0.13714,     0.13814,     0.13914,     0.14014,     0.14114,     0.14214,     0.14314,\n",
              "           0.14414,     0.14515,     0.14615,     0.14715,     0.14815,     0.14915,     0.15015,     0.15115,     0.15215,     0.15315,     0.15415,     0.15516,     0.15616,     0.15716,     0.15816,     0.15916,     0.16016,     0.16116,     0.16216,     0.16316,     0.16416,     0.16517,     0.16617,     0.16717,\n",
              "           0.16817,     0.16917,     0.17017,     0.17117,     0.17217,     0.17317,     0.17417,     0.17518,     0.17618,     0.17718,     0.17818,     0.17918,     0.18018,     0.18118,     0.18218,     0.18318,     0.18418,     0.18519,     0.18619,     0.18719,     0.18819,     0.18919,     0.19019,     0.19119,\n",
              "           0.19219,     0.19319,     0.19419,      0.1952,      0.1962,      0.1972,      0.1982,      0.1992,      0.2002,      0.2012,      0.2022,      0.2032,      0.2042,     0.20521,     0.20621,     0.20721,     0.20821,     0.20921,     0.21021,     0.21121,     0.21221,     0.21321,     0.21421,     0.21522,\n",
              "           0.21622,     0.21722,     0.21822,     0.21922,     0.22022,     0.22122,     0.22222,     0.22322,     0.22422,     0.22523,     0.22623,     0.22723,     0.22823,     0.22923,     0.23023,     0.23123,     0.23223,     0.23323,     0.23423,     0.23524,     0.23624,     0.23724,     0.23824,     0.23924,\n",
              "           0.24024,     0.24124,     0.24224,     0.24324,     0.24424,     0.24525,     0.24625,     0.24725,     0.24825,     0.24925,     0.25025,     0.25125,     0.25225,     0.25325,     0.25425,     0.25526,     0.25626,     0.25726,     0.25826,     0.25926,     0.26026,     0.26126,     0.26226,     0.26326,\n",
              "           0.26426,     0.26527,     0.26627,     0.26727,     0.26827,     0.26927,     0.27027,     0.27127,     0.27227,     0.27327,     0.27427,     0.27528,     0.27628,     0.27728,     0.27828,     0.27928,     0.28028,     0.28128,     0.28228,     0.28328,     0.28428,     0.28529,     0.28629,     0.28729,\n",
              "           0.28829,     0.28929,     0.29029,     0.29129,     0.29229,     0.29329,     0.29429,      0.2953,      0.2963,      0.2973,      0.2983,      0.2993,      0.3003,      0.3013,      0.3023,      0.3033,      0.3043,     0.30531,     0.30631,     0.30731,     0.30831,     0.30931,     0.31031,     0.31131,\n",
              "           0.31231,     0.31331,     0.31431,     0.31532,     0.31632,     0.31732,     0.31832,     0.31932,     0.32032,     0.32132,     0.32232,     0.32332,     0.32432,     0.32533,     0.32633,     0.32733,     0.32833,     0.32933,     0.33033,     0.33133,     0.33233,     0.33333,     0.33433,     0.33534,\n",
              "           0.33634,     0.33734,     0.33834,     0.33934,     0.34034,     0.34134,     0.34234,     0.34334,     0.34434,     0.34535,     0.34635,     0.34735,     0.34835,     0.34935,     0.35035,     0.35135,     0.35235,     0.35335,     0.35435,     0.35536,     0.35636,     0.35736,     0.35836,     0.35936,\n",
              "           0.36036,     0.36136,     0.36236,     0.36336,     0.36436,     0.36537,     0.36637,     0.36737,     0.36837,     0.36937,     0.37037,     0.37137,     0.37237,     0.37337,     0.37437,     0.37538,     0.37638,     0.37738,     0.37838,     0.37938,     0.38038,     0.38138,     0.38238,     0.38338,\n",
              "           0.38438,     0.38539,     0.38639,     0.38739,     0.38839,     0.38939,     0.39039,     0.39139,     0.39239,     0.39339,     0.39439,      0.3954,      0.3964,      0.3974,      0.3984,      0.3994,      0.4004,      0.4014,      0.4024,      0.4034,      0.4044,     0.40541,     0.40641,     0.40741,\n",
              "           0.40841,     0.40941,     0.41041,     0.41141,     0.41241,     0.41341,     0.41441,     0.41542,     0.41642,     0.41742,     0.41842,     0.41942,     0.42042,     0.42142,     0.42242,     0.42342,     0.42442,     0.42543,     0.42643,     0.42743,     0.42843,     0.42943,     0.43043,     0.43143,\n",
              "           0.43243,     0.43343,     0.43443,     0.43544,     0.43644,     0.43744,     0.43844,     0.43944,     0.44044,     0.44144,     0.44244,     0.44344,     0.44444,     0.44545,     0.44645,     0.44745,     0.44845,     0.44945,     0.45045,     0.45145,     0.45245,     0.45345,     0.45445,     0.45546,\n",
              "           0.45646,     0.45746,     0.45846,     0.45946,     0.46046,     0.46146,     0.46246,     0.46346,     0.46446,     0.46547,     0.46647,     0.46747,     0.46847,     0.46947,     0.47047,     0.47147,     0.47247,     0.47347,     0.47447,     0.47548,     0.47648,     0.47748,     0.47848,     0.47948,\n",
              "           0.48048,     0.48148,     0.48248,     0.48348,     0.48448,     0.48549,     0.48649,     0.48749,     0.48849,     0.48949,     0.49049,     0.49149,     0.49249,     0.49349,     0.49449,      0.4955,      0.4965,      0.4975,      0.4985,      0.4995,      0.5005,      0.5015,      0.5025,      0.5035,\n",
              "            0.5045,     0.50551,     0.50651,     0.50751,     0.50851,     0.50951,     0.51051,     0.51151,     0.51251,     0.51351,     0.51451,     0.51552,     0.51652,     0.51752,     0.51852,     0.51952,     0.52052,     0.52152,     0.52252,     0.52352,     0.52452,     0.52553,     0.52653,     0.52753,\n",
              "           0.52853,     0.52953,     0.53053,     0.53153,     0.53253,     0.53353,     0.53453,     0.53554,     0.53654,     0.53754,     0.53854,     0.53954,     0.54054,     0.54154,     0.54254,     0.54354,     0.54454,     0.54555,     0.54655,     0.54755,     0.54855,     0.54955,     0.55055,     0.55155,\n",
              "           0.55255,     0.55355,     0.55455,     0.55556,     0.55656,     0.55756,     0.55856,     0.55956,     0.56056,     0.56156,     0.56256,     0.56356,     0.56456,     0.56557,     0.56657,     0.56757,     0.56857,     0.56957,     0.57057,     0.57157,     0.57257,     0.57357,     0.57457,     0.57558,\n",
              "           0.57658,     0.57758,     0.57858,     0.57958,     0.58058,     0.58158,     0.58258,     0.58358,     0.58458,     0.58559,     0.58659,     0.58759,     0.58859,     0.58959,     0.59059,     0.59159,     0.59259,     0.59359,     0.59459,      0.5956,      0.5966,      0.5976,      0.5986,      0.5996,\n",
              "            0.6006,      0.6016,      0.6026,      0.6036,      0.6046,     0.60561,     0.60661,     0.60761,     0.60861,     0.60961,     0.61061,     0.61161,     0.61261,     0.61361,     0.61461,     0.61562,     0.61662,     0.61762,     0.61862,     0.61962,     0.62062,     0.62162,     0.62262,     0.62362,\n",
              "           0.62462,     0.62563,     0.62663,     0.62763,     0.62863,     0.62963,     0.63063,     0.63163,     0.63263,     0.63363,     0.63463,     0.63564,     0.63664,     0.63764,     0.63864,     0.63964,     0.64064,     0.64164,     0.64264,     0.64364,     0.64464,     0.64565,     0.64665,     0.64765,\n",
              "           0.64865,     0.64965,     0.65065,     0.65165,     0.65265,     0.65365,     0.65465,     0.65566,     0.65666,     0.65766,     0.65866,     0.65966,     0.66066,     0.66166,     0.66266,     0.66366,     0.66466,     0.66567,     0.66667,     0.66767,     0.66867,     0.66967,     0.67067,     0.67167,\n",
              "           0.67267,     0.67367,     0.67467,     0.67568,     0.67668,     0.67768,     0.67868,     0.67968,     0.68068,     0.68168,     0.68268,     0.68368,     0.68468,     0.68569,     0.68669,     0.68769,     0.68869,     0.68969,     0.69069,     0.69169,     0.69269,     0.69369,     0.69469,      0.6957,\n",
              "            0.6967,      0.6977,      0.6987,      0.6997,      0.7007,      0.7017,      0.7027,      0.7037,      0.7047,     0.70571,     0.70671,     0.70771,     0.70871,     0.70971,     0.71071,     0.71171,     0.71271,     0.71371,     0.71471,     0.71572,     0.71672,     0.71772,     0.71872,     0.71972,\n",
              "           0.72072,     0.72172,     0.72272,     0.72372,     0.72472,     0.72573,     0.72673,     0.72773,     0.72873,     0.72973,     0.73073,     0.73173,     0.73273,     0.73373,     0.73473,     0.73574,     0.73674,     0.73774,     0.73874,     0.73974,     0.74074,     0.74174,     0.74274,     0.74374,\n",
              "           0.74474,     0.74575,     0.74675,     0.74775,     0.74875,     0.74975,     0.75075,     0.75175,     0.75275,     0.75375,     0.75475,     0.75576,     0.75676,     0.75776,     0.75876,     0.75976,     0.76076,     0.76176,     0.76276,     0.76376,     0.76476,     0.76577,     0.76677,     0.76777,\n",
              "           0.76877,     0.76977,     0.77077,     0.77177,     0.77277,     0.77377,     0.77477,     0.77578,     0.77678,     0.77778,     0.77878,     0.77978,     0.78078,     0.78178,     0.78278,     0.78378,     0.78478,     0.78579,     0.78679,     0.78779,     0.78879,     0.78979,     0.79079,     0.79179,\n",
              "           0.79279,     0.79379,     0.79479,      0.7958,      0.7968,      0.7978,      0.7988,      0.7998,      0.8008,      0.8018,      0.8028,      0.8038,      0.8048,     0.80581,     0.80681,     0.80781,     0.80881,     0.80981,     0.81081,     0.81181,     0.81281,     0.81381,     0.81481,     0.81582,\n",
              "           0.81682,     0.81782,     0.81882,     0.81982,     0.82082,     0.82182,     0.82282,     0.82382,     0.82482,     0.82583,     0.82683,     0.82783,     0.82883,     0.82983,     0.83083,     0.83183,     0.83283,     0.83383,     0.83483,     0.83584,     0.83684,     0.83784,     0.83884,     0.83984,\n",
              "           0.84084,     0.84184,     0.84284,     0.84384,     0.84484,     0.84585,     0.84685,     0.84785,     0.84885,     0.84985,     0.85085,     0.85185,     0.85285,     0.85385,     0.85485,     0.85586,     0.85686,     0.85786,     0.85886,     0.85986,     0.86086,     0.86186,     0.86286,     0.86386,\n",
              "           0.86486,     0.86587,     0.86687,     0.86787,     0.86887,     0.86987,     0.87087,     0.87187,     0.87287,     0.87387,     0.87487,     0.87588,     0.87688,     0.87788,     0.87888,     0.87988,     0.88088,     0.88188,     0.88288,     0.88388,     0.88488,     0.88589,     0.88689,     0.88789,\n",
              "           0.88889,     0.88989,     0.89089,     0.89189,     0.89289,     0.89389,     0.89489,      0.8959,      0.8969,      0.8979,      0.8989,      0.8999,      0.9009,      0.9019,      0.9029,      0.9039,      0.9049,     0.90591,     0.90691,     0.90791,     0.90891,     0.90991,     0.91091,     0.91191,\n",
              "           0.91291,     0.91391,     0.91491,     0.91592,     0.91692,     0.91792,     0.91892,     0.91992,     0.92092,     0.92192,     0.92292,     0.92392,     0.92492,     0.92593,     0.92693,     0.92793,     0.92893,     0.92993,     0.93093,     0.93193,     0.93293,     0.93393,     0.93493,     0.93594,\n",
              "           0.93694,     0.93794,     0.93894,     0.93994,     0.94094,     0.94194,     0.94294,     0.94394,     0.94494,     0.94595,     0.94695,     0.94795,     0.94895,     0.94995,     0.95095,     0.95195,     0.95295,     0.95395,     0.95495,     0.95596,     0.95696,     0.95796,     0.95896,     0.95996,\n",
              "           0.96096,     0.96196,     0.96296,     0.96396,     0.96496,     0.96597,     0.96697,     0.96797,     0.96897,     0.96997,     0.97097,     0.97197,     0.97297,     0.97397,     0.97497,     0.97598,     0.97698,     0.97798,     0.97898,     0.97998,     0.98098,     0.98198,     0.98298,     0.98398,\n",
              "           0.98498,     0.98599,     0.98699,     0.98799,     0.98899,     0.98999,     0.99099,     0.99199,     0.99299,     0.99399,     0.99499,       0.996,       0.997,       0.998,       0.999,           1]), array([[          1,           1,           1,           1,           1,           1,           1,           1,           1,           1,           1,           1,           1,           1,           1,           1,           1,           1,           1,           1,           1,           1,           1,\n",
              "                  1,           1,           1,           1,           1,           1,           1,           1,           1,           1,           1,           1,           1,           1,           1,           1,           1,           1,           1,           1,           1,           1,           1,\n",
              "                  1,           1,           1,           1,           1,           1,           1,           1,           1,           1,           1,           1,           1,           1,           1,           1,           1,           1,           1,           1,           1,           1,           1,\n",
              "                  1,           1,           1,           1,           1,           1,           1,           1,           1,           1,           1,           1,           1,           1,           1,           1,           1,           1,           1,           1,           1,           1,           1,\n",
              "                  1,           1,           1,           1,           1,           1,           1,           1,           1,           1,           1,           1,           1,           1,           1,           1,           1,           1,           1,           1,           1,           1,           1,\n",
              "                  1,           1,           1,           1,           1,           1,           1,           1,           1,           1,           1,           1,           1,           1,           1,           1,           1,           1,           1,           1,           1,           1,           1,\n",
              "                  1,           1,           1,           1,           1,           1,           1,           1,           1,           1,           1,           1,           1,           1,           1,           1,           1,           1,           1,           1,           1,           1,           1,\n",
              "                  1,           1,           1,           1,           1,           1,           1,           1,           1,           1,           1,           1,           1,           1,           1,           1,           1,           1,      0.9875,      0.9875,      0.9875,      0.9875,      0.9875,\n",
              "             0.9875,      0.9875,      0.9875,      0.9875,      0.9875,      0.9875,      0.9875,      0.9875,      0.9875,      0.9875,      0.9875,      0.9875,      0.9875,      0.9875,      0.9875,      0.9875,      0.9875,      0.9875,      0.9875,      0.9875,      0.9875,      0.9875,      0.9875,\n",
              "             0.9875,      0.9875,      0.9875,      0.9875,      0.9875,      0.9875,      0.9875,      0.9875,      0.9875,      0.9875,      0.9875,      0.9875,      0.9875,      0.9875,      0.9875,      0.9875,      0.9875,      0.9875,      0.9875,      0.9875,      0.9875,      0.9875,      0.9875,\n",
              "             0.9875,      0.9875,      0.9875,      0.9875,      0.9875,      0.9875,      0.9875,      0.9875,      0.9875,      0.9875,     0.98246,     0.98246,     0.98246,     0.98246,     0.98246,     0.98246,     0.98246,     0.98246,     0.98246,     0.98246,     0.98246,     0.98246,     0.98246,\n",
              "            0.98246,     0.98246,     0.98246,     0.98246,     0.98246,     0.98246,     0.98246,     0.98246,     0.98246,     0.98246,     0.98246,     0.98246,     0.98246,     0.98246,     0.98246,     0.98246,     0.98246,     0.98246,     0.98246,     0.98246,     0.98246,     0.98246,     0.98246,\n",
              "            0.98246,     0.98246,     0.98246,     0.98246,     0.98246,     0.98246,     0.98246,     0.98246,     0.98246,     0.98246,     0.98246,     0.98246,     0.98246,     0.98246,     0.98246,     0.98246,     0.98246,     0.98246,     0.98246,     0.98246,     0.98246,     0.98246,     0.98246,\n",
              "            0.98246,     0.98246,     0.98246,     0.98246,     0.98246,     0.98246,     0.98246,     0.98246,     0.98246,     0.98246,     0.98246,     0.98246,     0.98246,     0.98246,     0.98246,     0.98246,     0.98246,     0.98246,     0.98246,     0.98246,     0.98246,     0.98246,     0.98246,\n",
              "            0.98246,     0.98246,     0.98246,     0.98246,     0.98246,     0.98246,     0.98246,     0.98246,     0.98246,     0.98246,     0.98246,     0.98246,     0.98246,     0.98246,     0.98246,     0.98246,     0.98246,     0.98246,     0.97414,     0.97414,     0.97414,     0.97241,     0.97241,\n",
              "            0.97241,     0.97241,     0.97241,     0.97241,     0.97241,     0.97241,     0.97241,     0.97241,     0.97241,     0.97241,     0.97241,     0.97241,     0.97241,     0.97241,     0.97241,     0.97241,     0.97241,     0.97241,     0.97241,     0.97241,     0.97241,     0.97241,     0.97241,\n",
              "            0.97241,     0.97241,     0.97241,     0.97241,     0.97241,     0.97241,     0.97241,     0.97241,     0.97241,     0.97241,     0.97241,     0.97241,     0.97241,     0.97241,     0.97241,     0.97241,     0.97241,     0.97241,     0.97241,     0.97241,     0.97241,     0.97241,     0.97241,\n",
              "            0.97241,     0.97241,     0.97241,     0.97241,     0.97241,     0.97241,     0.97241,     0.97241,     0.97241,     0.97241,     0.97241,     0.97241,     0.97241,     0.97241,     0.97241,     0.97241,     0.97241,     0.97241,     0.97241,     0.97241,     0.97241,     0.97241,     0.97241,\n",
              "            0.97241,     0.97241,     0.97241,     0.97241,     0.97241,     0.97241,     0.97241,     0.97241,     0.97241,     0.97241,     0.97241,     0.97241,     0.97241,     0.96599,     0.96599,     0.96599,     0.94872,     0.94872,     0.94872,     0.94872,     0.94872,     0.94872,     0.94872,\n",
              "            0.94872,     0.94872,     0.94872,     0.94872,     0.94872,     0.94872,     0.94872,     0.94872,     0.94872,     0.94872,     0.94872,     0.94872,     0.94375,     0.94375,     0.94375,     0.94375,     0.94375,     0.94375,     0.94375,     0.94375,     0.94375,     0.93976,     0.93976,\n",
              "            0.93976,     0.93976,     0.93976,     0.93976,     0.93976,     0.93976,     0.93976,     0.93976,     0.93976,     0.93976,     0.93976,     0.93976,     0.93976,     0.93605,     0.93605,     0.93605,     0.93605,     0.93605,     0.93605,     0.93605,     0.93605,     0.93605,     0.93605,\n",
              "            0.93605,     0.93605,     0.93605,     0.93605,     0.93605,     0.93103,     0.93103,     0.93103,     0.92614,     0.92614,     0.92614,      0.9235,      0.9235,      0.9235,      0.9235,      0.9235,      0.9235,      0.9235,      0.9235,      0.9235,      0.9235,      0.9235,      0.9235,\n",
              "             0.9235,      0.9235,      0.9235,      0.9235,      0.9235,      0.9235,     0.91979,     0.91979,     0.91979,     0.91979,     0.91979,     0.91979,     0.91979,     0.91979,     0.91979,     0.91837,     0.91837,     0.91837,     0.91837,     0.91837,     0.91837,     0.91837,     0.91837,\n",
              "            0.91837,     0.91837,     0.91837,     0.91837,     0.91837,     0.91837,     0.91837,     0.91837,     0.91837,     0.91837,     0.91837,     0.91837,     0.91837,     0.91837,     0.91837,     0.91837,     0.91667,     0.91667,     0.91667,     0.91667,     0.91667,     0.91667,     0.91667,\n",
              "            0.91667,     0.91667,     0.91667,     0.91667,     0.91667,     0.91667,     0.91667,     0.91667,     0.91667,     0.91667,     0.91667,     0.91667,     0.91667,     0.91667,     0.91667,     0.91388,     0.91388,     0.91388,     0.91388,     0.91388,     0.91388,     0.91388,     0.91388,\n",
              "            0.91388,     0.91388,     0.91388,     0.91388,      0.9108,      0.9108,      0.9108,      0.9108,      0.9108,      0.9108,      0.9108,      0.9108,      0.9108,     0.90783,     0.90783,     0.90783,     0.90783,     0.90783,     0.90783,     0.90783,     0.90783,     0.90783,     0.90498,\n",
              "            0.90498,     0.90498,     0.90498,     0.90498,     0.90498,     0.90498,     0.90498,     0.90498,     0.89732,     0.89732,     0.89732,     0.89381,     0.89381,     0.89381,     0.88646,     0.88646,     0.88646,     0.87764,     0.87764,     0.87764,     0.87764,     0.87764,     0.87764,\n",
              "            0.87764,     0.87764,     0.87764,     0.87764,     0.87764,     0.87764,     0.87764,     0.87764,     0.87764,     0.87448,     0.87448,     0.87448,      0.8642,      0.8642,      0.8642,     0.85887,     0.85887,     0.85887,     0.85887,     0.85887,     0.85887,     0.85887,     0.85887,\n",
              "            0.85887,     0.85259,     0.85259,     0.85259,     0.85214,     0.85214,     0.85214,     0.85214,     0.85214,     0.85214,     0.85214,     0.85214,     0.85214,     0.85214,     0.85214,     0.85214,     0.85214,     0.85214,     0.85214,     0.84942,     0.84942,     0.84942,      0.8403,\n",
              "             0.8403,      0.8403,      0.8403,     0.82593,     0.82593,     0.82593,     0.82593,     0.82593,     0.82593,     0.82353,     0.82353,     0.82353,     0.82117,     0.82117,     0.82117,     0.80427,     0.80427,     0.80427,     0.80351,     0.80351,     0.80351,     0.80351,     0.80351,\n",
              "            0.80351,     0.80351,     0.80351,     0.80351,     0.80139,     0.80139,     0.80139,     0.79725,     0.79725,     0.79725,     0.79725,     0.79725,     0.79725,     0.78983,     0.78983,     0.78983,     0.78261,     0.78261,     0.78261,     0.78146,     0.78146,     0.78146,     0.78146,\n",
              "            0.78146,     0.78146,     0.77705,     0.77705,     0.77705,     0.77023,     0.77023,     0.77023,     0.76849,     0.76849,     0.76849,     0.76825,     0.76825,     0.76825,     0.76825,     0.76825,     0.76825,     0.76825,     0.76825,     0.76825,     0.75232,     0.75232,     0.75232,\n",
              "            0.74468,     0.74468,     0.74468,     0.74468,     0.74468,     0.74468,     0.73433,     0.73433,     0.73433,     0.70774,     0.70774,     0.70774,     0.68508,     0.68508,     0.68508,      0.6748,      0.6748,      0.6748,     0.66667,     0.66667,     0.66667,     0.66667,     0.66667,\n",
              "            0.66667,     0.66667,     0.66667,     0.66667,     0.66404,     0.66404,     0.66404,     0.65633,     0.65633,     0.65633,     0.63433,     0.63433,     0.63433,     0.63054,     0.63054,     0.63054,     0.62836,     0.62836,     0.62836,     0.62836,     0.61814,     0.61814,     0.61814,\n",
              "            0.61814,     0.61814,     0.61814,     0.60748,     0.60748,     0.60748,         0.6,         0.6,         0.6,     0.59817,     0.59817,     0.59817,     0.59234,     0.59234,     0.59234,     0.57484,     0.57484,     0.57484,     0.57484,     0.57484,     0.57484,     0.57451,     0.57451,\n",
              "            0.57451,     0.56448,     0.56448,     0.56448,     0.56067,     0.56067,     0.56067,     0.54343,     0.54343,     0.54343,     0.52124,     0.52124,     0.52124,     0.51407,     0.51407,     0.51407,     0.51407,     0.51407,     0.51407,     0.51407,     0.51407,     0.51407,     0.51407,\n",
              "            0.51407,     0.51407,     0.51306,     0.51306,     0.51306,     0.51017,     0.51017,     0.51017,     0.49376,     0.49376,     0.49376,     0.46179,     0.46179,     0.46179,     0.45738,     0.45738,     0.45738,     0.45381,     0.45381,     0.45381,      0.4194,      0.4194,      0.4194,\n",
              "            0.34601,     0.34601,     0.34601,     0.34597,     0.34597,     0.34597,     0.34176,     0.34176,     0.34176,     0.32058,     0.32058,     0.32058,     0.30654,     0.30654,     0.30654,     0.29927,     0.29927,     0.29927,     0.29091,     0.29091,     0.29091,     0.27162,     0.27162,\n",
              "            0.27162,     0.25755,     0.25755,     0.25755,     0.20264,     0.20097,      0.1993,     0.19762,     0.19595,     0.19427,      0.1926,     0.19092,     0.18925,     0.18757,      0.1859,     0.18422,     0.18255,     0.18087,      0.1792,     0.17752,     0.17585,     0.17417,      0.1725,\n",
              "            0.17082,     0.16915,     0.16748,      0.1658,     0.16413,     0.16245,     0.16078,      0.1591,     0.15743,     0.15575,     0.15408,      0.1524,     0.15073,     0.14905,     0.14738,      0.1457,     0.14403,     0.14235,     0.14068,       0.139,     0.13733,     0.13565,     0.13398,\n",
              "            0.13231,     0.13063,     0.12896,     0.12728,     0.12561,     0.12393,     0.12226,     0.12058,     0.11891,     0.11723,     0.11556,     0.11388,     0.11221,     0.11053,     0.10886,     0.10718,     0.10551,     0.10383,     0.10216,     0.10049,     0.09881,    0.097136,    0.095461,\n",
              "           0.093786,    0.092111,    0.090437,    0.088762,    0.087087,    0.085412,    0.083738,    0.082063,    0.080388,    0.078713,    0.077039,    0.075364,    0.073689,    0.072014,     0.07034,    0.068665,     0.06699,    0.065315,    0.063641,    0.061966,    0.060291,    0.058616,    0.056942,\n",
              "           0.055267,    0.053592,    0.051917,    0.050243,    0.048568,    0.046893,    0.045218,    0.043544,    0.041869,    0.040194,    0.038519,    0.036845,     0.03517,    0.033495,     0.03182,    0.030146,    0.028471,    0.026796,    0.025121,    0.023447,    0.021772,    0.020097,    0.018422,\n",
              "           0.016748,    0.015073,    0.013398,    0.011723,    0.010049,   0.0083738,    0.006699,   0.0050243,   0.0033495,   0.0016748,           0]]), 'Recall', 'Precision'], [array([          0,    0.001001,    0.002002,    0.003003,    0.004004,    0.005005,    0.006006,    0.007007,    0.008008,    0.009009,     0.01001,    0.011011,    0.012012,    0.013013,    0.014014,    0.015015,    0.016016,    0.017017,    0.018018,    0.019019,     0.02002,    0.021021,    0.022022,    0.023023,\n",
              "          0.024024,    0.025025,    0.026026,    0.027027,    0.028028,    0.029029,     0.03003,    0.031031,    0.032032,    0.033033,    0.034034,    0.035035,    0.036036,    0.037037,    0.038038,    0.039039,     0.04004,    0.041041,    0.042042,    0.043043,    0.044044,    0.045045,    0.046046,    0.047047,\n",
              "          0.048048,    0.049049,     0.05005,    0.051051,    0.052052,    0.053053,    0.054054,    0.055055,    0.056056,    0.057057,    0.058058,    0.059059,     0.06006,    0.061061,    0.062062,    0.063063,    0.064064,    0.065065,    0.066066,    0.067067,    0.068068,    0.069069,     0.07007,    0.071071,\n",
              "          0.072072,    0.073073,    0.074074,    0.075075,    0.076076,    0.077077,    0.078078,    0.079079,     0.08008,    0.081081,    0.082082,    0.083083,    0.084084,    0.085085,    0.086086,    0.087087,    0.088088,    0.089089,     0.09009,    0.091091,    0.092092,    0.093093,    0.094094,    0.095095,\n",
              "          0.096096,    0.097097,    0.098098,    0.099099,      0.1001,      0.1011,      0.1021,      0.1031,      0.1041,     0.10511,     0.10611,     0.10711,     0.10811,     0.10911,     0.11011,     0.11111,     0.11211,     0.11311,     0.11411,     0.11512,     0.11612,     0.11712,     0.11812,     0.11912,\n",
              "           0.12012,     0.12112,     0.12212,     0.12312,     0.12412,     0.12513,     0.12613,     0.12713,     0.12813,     0.12913,     0.13013,     0.13113,     0.13213,     0.13313,     0.13413,     0.13514,     0.13614,     0.13714,     0.13814,     0.13914,     0.14014,     0.14114,     0.14214,     0.14314,\n",
              "           0.14414,     0.14515,     0.14615,     0.14715,     0.14815,     0.14915,     0.15015,     0.15115,     0.15215,     0.15315,     0.15415,     0.15516,     0.15616,     0.15716,     0.15816,     0.15916,     0.16016,     0.16116,     0.16216,     0.16316,     0.16416,     0.16517,     0.16617,     0.16717,\n",
              "           0.16817,     0.16917,     0.17017,     0.17117,     0.17217,     0.17317,     0.17417,     0.17518,     0.17618,     0.17718,     0.17818,     0.17918,     0.18018,     0.18118,     0.18218,     0.18318,     0.18418,     0.18519,     0.18619,     0.18719,     0.18819,     0.18919,     0.19019,     0.19119,\n",
              "           0.19219,     0.19319,     0.19419,      0.1952,      0.1962,      0.1972,      0.1982,      0.1992,      0.2002,      0.2012,      0.2022,      0.2032,      0.2042,     0.20521,     0.20621,     0.20721,     0.20821,     0.20921,     0.21021,     0.21121,     0.21221,     0.21321,     0.21421,     0.21522,\n",
              "           0.21622,     0.21722,     0.21822,     0.21922,     0.22022,     0.22122,     0.22222,     0.22322,     0.22422,     0.22523,     0.22623,     0.22723,     0.22823,     0.22923,     0.23023,     0.23123,     0.23223,     0.23323,     0.23423,     0.23524,     0.23624,     0.23724,     0.23824,     0.23924,\n",
              "           0.24024,     0.24124,     0.24224,     0.24324,     0.24424,     0.24525,     0.24625,     0.24725,     0.24825,     0.24925,     0.25025,     0.25125,     0.25225,     0.25325,     0.25425,     0.25526,     0.25626,     0.25726,     0.25826,     0.25926,     0.26026,     0.26126,     0.26226,     0.26326,\n",
              "           0.26426,     0.26527,     0.26627,     0.26727,     0.26827,     0.26927,     0.27027,     0.27127,     0.27227,     0.27327,     0.27427,     0.27528,     0.27628,     0.27728,     0.27828,     0.27928,     0.28028,     0.28128,     0.28228,     0.28328,     0.28428,     0.28529,     0.28629,     0.28729,\n",
              "           0.28829,     0.28929,     0.29029,     0.29129,     0.29229,     0.29329,     0.29429,      0.2953,      0.2963,      0.2973,      0.2983,      0.2993,      0.3003,      0.3013,      0.3023,      0.3033,      0.3043,     0.30531,     0.30631,     0.30731,     0.30831,     0.30931,     0.31031,     0.31131,\n",
              "           0.31231,     0.31331,     0.31431,     0.31532,     0.31632,     0.31732,     0.31832,     0.31932,     0.32032,     0.32132,     0.32232,     0.32332,     0.32432,     0.32533,     0.32633,     0.32733,     0.32833,     0.32933,     0.33033,     0.33133,     0.33233,     0.33333,     0.33433,     0.33534,\n",
              "           0.33634,     0.33734,     0.33834,     0.33934,     0.34034,     0.34134,     0.34234,     0.34334,     0.34434,     0.34535,     0.34635,     0.34735,     0.34835,     0.34935,     0.35035,     0.35135,     0.35235,     0.35335,     0.35435,     0.35536,     0.35636,     0.35736,     0.35836,     0.35936,\n",
              "           0.36036,     0.36136,     0.36236,     0.36336,     0.36436,     0.36537,     0.36637,     0.36737,     0.36837,     0.36937,     0.37037,     0.37137,     0.37237,     0.37337,     0.37437,     0.37538,     0.37638,     0.37738,     0.37838,     0.37938,     0.38038,     0.38138,     0.38238,     0.38338,\n",
              "           0.38438,     0.38539,     0.38639,     0.38739,     0.38839,     0.38939,     0.39039,     0.39139,     0.39239,     0.39339,     0.39439,      0.3954,      0.3964,      0.3974,      0.3984,      0.3994,      0.4004,      0.4014,      0.4024,      0.4034,      0.4044,     0.40541,     0.40641,     0.40741,\n",
              "           0.40841,     0.40941,     0.41041,     0.41141,     0.41241,     0.41341,     0.41441,     0.41542,     0.41642,     0.41742,     0.41842,     0.41942,     0.42042,     0.42142,     0.42242,     0.42342,     0.42442,     0.42543,     0.42643,     0.42743,     0.42843,     0.42943,     0.43043,     0.43143,\n",
              "           0.43243,     0.43343,     0.43443,     0.43544,     0.43644,     0.43744,     0.43844,     0.43944,     0.44044,     0.44144,     0.44244,     0.44344,     0.44444,     0.44545,     0.44645,     0.44745,     0.44845,     0.44945,     0.45045,     0.45145,     0.45245,     0.45345,     0.45445,     0.45546,\n",
              "           0.45646,     0.45746,     0.45846,     0.45946,     0.46046,     0.46146,     0.46246,     0.46346,     0.46446,     0.46547,     0.46647,     0.46747,     0.46847,     0.46947,     0.47047,     0.47147,     0.47247,     0.47347,     0.47447,     0.47548,     0.47648,     0.47748,     0.47848,     0.47948,\n",
              "           0.48048,     0.48148,     0.48248,     0.48348,     0.48448,     0.48549,     0.48649,     0.48749,     0.48849,     0.48949,     0.49049,     0.49149,     0.49249,     0.49349,     0.49449,      0.4955,      0.4965,      0.4975,      0.4985,      0.4995,      0.5005,      0.5015,      0.5025,      0.5035,\n",
              "            0.5045,     0.50551,     0.50651,     0.50751,     0.50851,     0.50951,     0.51051,     0.51151,     0.51251,     0.51351,     0.51451,     0.51552,     0.51652,     0.51752,     0.51852,     0.51952,     0.52052,     0.52152,     0.52252,     0.52352,     0.52452,     0.52553,     0.52653,     0.52753,\n",
              "           0.52853,     0.52953,     0.53053,     0.53153,     0.53253,     0.53353,     0.53453,     0.53554,     0.53654,     0.53754,     0.53854,     0.53954,     0.54054,     0.54154,     0.54254,     0.54354,     0.54454,     0.54555,     0.54655,     0.54755,     0.54855,     0.54955,     0.55055,     0.55155,\n",
              "           0.55255,     0.55355,     0.55455,     0.55556,     0.55656,     0.55756,     0.55856,     0.55956,     0.56056,     0.56156,     0.56256,     0.56356,     0.56456,     0.56557,     0.56657,     0.56757,     0.56857,     0.56957,     0.57057,     0.57157,     0.57257,     0.57357,     0.57457,     0.57558,\n",
              "           0.57658,     0.57758,     0.57858,     0.57958,     0.58058,     0.58158,     0.58258,     0.58358,     0.58458,     0.58559,     0.58659,     0.58759,     0.58859,     0.58959,     0.59059,     0.59159,     0.59259,     0.59359,     0.59459,      0.5956,      0.5966,      0.5976,      0.5986,      0.5996,\n",
              "            0.6006,      0.6016,      0.6026,      0.6036,      0.6046,     0.60561,     0.60661,     0.60761,     0.60861,     0.60961,     0.61061,     0.61161,     0.61261,     0.61361,     0.61461,     0.61562,     0.61662,     0.61762,     0.61862,     0.61962,     0.62062,     0.62162,     0.62262,     0.62362,\n",
              "           0.62462,     0.62563,     0.62663,     0.62763,     0.62863,     0.62963,     0.63063,     0.63163,     0.63263,     0.63363,     0.63463,     0.63564,     0.63664,     0.63764,     0.63864,     0.63964,     0.64064,     0.64164,     0.64264,     0.64364,     0.64464,     0.64565,     0.64665,     0.64765,\n",
              "           0.64865,     0.64965,     0.65065,     0.65165,     0.65265,     0.65365,     0.65465,     0.65566,     0.65666,     0.65766,     0.65866,     0.65966,     0.66066,     0.66166,     0.66266,     0.66366,     0.66466,     0.66567,     0.66667,     0.66767,     0.66867,     0.66967,     0.67067,     0.67167,\n",
              "           0.67267,     0.67367,     0.67467,     0.67568,     0.67668,     0.67768,     0.67868,     0.67968,     0.68068,     0.68168,     0.68268,     0.68368,     0.68468,     0.68569,     0.68669,     0.68769,     0.68869,     0.68969,     0.69069,     0.69169,     0.69269,     0.69369,     0.69469,      0.6957,\n",
              "            0.6967,      0.6977,      0.6987,      0.6997,      0.7007,      0.7017,      0.7027,      0.7037,      0.7047,     0.70571,     0.70671,     0.70771,     0.70871,     0.70971,     0.71071,     0.71171,     0.71271,     0.71371,     0.71471,     0.71572,     0.71672,     0.71772,     0.71872,     0.71972,\n",
              "           0.72072,     0.72172,     0.72272,     0.72372,     0.72472,     0.72573,     0.72673,     0.72773,     0.72873,     0.72973,     0.73073,     0.73173,     0.73273,     0.73373,     0.73473,     0.73574,     0.73674,     0.73774,     0.73874,     0.73974,     0.74074,     0.74174,     0.74274,     0.74374,\n",
              "           0.74474,     0.74575,     0.74675,     0.74775,     0.74875,     0.74975,     0.75075,     0.75175,     0.75275,     0.75375,     0.75475,     0.75576,     0.75676,     0.75776,     0.75876,     0.75976,     0.76076,     0.76176,     0.76276,     0.76376,     0.76476,     0.76577,     0.76677,     0.76777,\n",
              "           0.76877,     0.76977,     0.77077,     0.77177,     0.77277,     0.77377,     0.77477,     0.77578,     0.77678,     0.77778,     0.77878,     0.77978,     0.78078,     0.78178,     0.78278,     0.78378,     0.78478,     0.78579,     0.78679,     0.78779,     0.78879,     0.78979,     0.79079,     0.79179,\n",
              "           0.79279,     0.79379,     0.79479,      0.7958,      0.7968,      0.7978,      0.7988,      0.7998,      0.8008,      0.8018,      0.8028,      0.8038,      0.8048,     0.80581,     0.80681,     0.80781,     0.80881,     0.80981,     0.81081,     0.81181,     0.81281,     0.81381,     0.81481,     0.81582,\n",
              "           0.81682,     0.81782,     0.81882,     0.81982,     0.82082,     0.82182,     0.82282,     0.82382,     0.82482,     0.82583,     0.82683,     0.82783,     0.82883,     0.82983,     0.83083,     0.83183,     0.83283,     0.83383,     0.83483,     0.83584,     0.83684,     0.83784,     0.83884,     0.83984,\n",
              "           0.84084,     0.84184,     0.84284,     0.84384,     0.84484,     0.84585,     0.84685,     0.84785,     0.84885,     0.84985,     0.85085,     0.85185,     0.85285,     0.85385,     0.85485,     0.85586,     0.85686,     0.85786,     0.85886,     0.85986,     0.86086,     0.86186,     0.86286,     0.86386,\n",
              "           0.86486,     0.86587,     0.86687,     0.86787,     0.86887,     0.86987,     0.87087,     0.87187,     0.87287,     0.87387,     0.87487,     0.87588,     0.87688,     0.87788,     0.87888,     0.87988,     0.88088,     0.88188,     0.88288,     0.88388,     0.88488,     0.88589,     0.88689,     0.88789,\n",
              "           0.88889,     0.88989,     0.89089,     0.89189,     0.89289,     0.89389,     0.89489,      0.8959,      0.8969,      0.8979,      0.8989,      0.8999,      0.9009,      0.9019,      0.9029,      0.9039,      0.9049,     0.90591,     0.90691,     0.90791,     0.90891,     0.90991,     0.91091,     0.91191,\n",
              "           0.91291,     0.91391,     0.91491,     0.91592,     0.91692,     0.91792,     0.91892,     0.91992,     0.92092,     0.92192,     0.92292,     0.92392,     0.92492,     0.92593,     0.92693,     0.92793,     0.92893,     0.92993,     0.93093,     0.93193,     0.93293,     0.93393,     0.93493,     0.93594,\n",
              "           0.93694,     0.93794,     0.93894,     0.93994,     0.94094,     0.94194,     0.94294,     0.94394,     0.94494,     0.94595,     0.94695,     0.94795,     0.94895,     0.94995,     0.95095,     0.95195,     0.95295,     0.95395,     0.95495,     0.95596,     0.95696,     0.95796,     0.95896,     0.95996,\n",
              "           0.96096,     0.96196,     0.96296,     0.96396,     0.96496,     0.96597,     0.96697,     0.96797,     0.96897,     0.96997,     0.97097,     0.97197,     0.97297,     0.97397,     0.97497,     0.97598,     0.97698,     0.97798,     0.97898,     0.97998,     0.98098,     0.98198,     0.98298,     0.98398,\n",
              "           0.98498,     0.98599,     0.98699,     0.98799,     0.98899,     0.98999,     0.99099,     0.99199,     0.99299,     0.99399,     0.99499,       0.996,       0.997,       0.998,       0.999,           1]), array([[    0.32955,     0.32955,     0.40876,     0.44493,      0.4749,     0.49178,     0.51138,     0.52421,     0.53733,     0.54841,     0.55865,     0.56355,     0.57856,     0.58453,     0.59017,     0.59402,     0.59951,     0.60837,     0.61495,      0.6207,     0.62303,     0.62579,     0.63314,\n",
              "            0.63436,     0.63415,     0.63074,     0.63028,     0.63543,     0.63686,      0.6385,     0.64222,     0.64548,     0.64931,     0.65175,     0.65261,     0.65506,     0.65655,     0.65862,     0.66012,     0.66137,     0.66299,     0.66203,     0.66318,     0.66472,     0.66699,      0.6688,\n",
              "            0.67028,     0.67085,     0.66878,     0.67092,     0.67151,     0.67204,     0.67254,     0.67398,     0.67636,     0.67941,     0.67881,     0.68176,     0.68078,     0.68089,     0.68123,     0.68177,     0.68118,     0.68267,     0.68415,     0.68539,     0.68466,     0.68472,      0.6855,\n",
              "            0.68705,      0.6881,     0.68885,     0.68974,     0.69043,      0.6903,     0.68847,     0.68851,      0.6892,     0.69024,     0.69078,     0.69155,     0.69211,     0.69258,     0.69342,     0.69511,     0.69404,     0.69513,     0.69586,     0.69636,     0.69507,     0.69685,      0.6983,\n",
              "            0.69932,     0.70123,     0.70281,     0.70366,     0.70481,     0.70773,     0.70811,      0.7085,     0.70688,     0.70743,     0.71015,     0.70988,      0.7101,     0.71033,     0.71056,     0.71079,     0.71029,     0.70845,     0.70872,     0.70898,     0.70896,      0.7075,     0.70787,\n",
              "            0.70824,     0.70948,     0.70998,     0.71154,     0.71238,     0.71142,     0.71082,     0.71161,     0.71224,     0.71285,     0.71345,     0.71519,     0.71588,     0.71638,     0.71654,     0.71552,     0.71538,      0.7163,     0.71695,     0.71737,     0.71778,     0.71808,     0.71822,\n",
              "            0.71836,      0.7185,     0.71864,     0.71878,     0.71892,     0.71906,     0.72218,     0.72328,     0.72383,     0.72445,     0.72561,     0.72597,     0.72634,      0.7274,      0.7265,     0.72572,     0.72645,     0.72699,     0.72741,     0.72783,     0.72817,     0.72851,     0.72885,\n",
              "            0.72905,     0.72924,     0.72942,     0.72961,     0.72979,     0.72997,     0.73012,     0.73026,      0.7304,     0.73054,     0.73068,     0.73082,     0.73096,     0.73167,     0.73449,     0.73513,      0.7364,     0.73683,     0.73715,     0.73748,     0.73888,     0.73915,     0.73941,\n",
              "            0.73968,     0.73841,       0.738,     0.73805,      0.7381,     0.73815,      0.7382,     0.73825,      0.7383,     0.73835,      0.7384,     0.73845,      0.7385,     0.73855,      0.7386,     0.73865,      0.7387,     0.73875,      0.7388,     0.73885,      0.7389,     0.73895,       0.739,\n",
              "            0.73905,     0.74048,     0.74092,     0.74132,     0.74147,     0.74162,     0.74177,     0.74191,     0.74206,     0.74221,     0.74236,      0.7425,     0.74263,     0.74275,     0.74288,     0.74301,     0.74314,     0.74327,      0.7434,     0.74352,     0.74201,     0.73977,     0.74031,\n",
              "            0.74085,     0.74102,     0.74118,     0.74134,     0.74151,     0.74167,     0.74183,     0.74199,     0.74215,     0.74231,     0.74247,     0.74262,     0.74278,     0.74294,      0.7431,     0.74417,     0.74352,     0.74286,     0.74236,     0.74248,      0.7426,     0.74272,     0.74284,\n",
              "            0.74296,     0.74308,     0.74319,     0.74331,     0.74343,     0.74357,      0.7437,     0.74384,     0.74398,     0.74412,     0.74426,     0.74439,     0.74453,     0.74588,     0.74618,     0.74647,     0.74676,     0.74769,     0.74821,      0.7484,     0.74859,     0.74878,     0.74897,\n",
              "            0.74916,     0.74936,     0.74957,     0.74978,     0.74999,     0.75019,     0.75024,      0.7484,     0.74826,     0.74812,     0.74797,     0.74783,     0.74769,     0.74755,      0.7474,     0.74726,     0.74712,     0.74698,     0.74683,     0.74669,     0.74655,     0.74474,     0.74502,\n",
              "             0.7453,     0.74558,     0.74383,     0.74399,     0.74415,     0.74431,     0.74447,     0.74463,     0.74479,     0.74486,     0.74457,     0.74428,     0.74399,      0.7437,     0.74342,     0.74313,     0.74354,     0.74418,     0.74428,     0.74439,     0.74449,      0.7446,      0.7447,\n",
              "            0.74481,     0.74491,     0.74501,     0.74512,     0.74522,     0.74532,     0.74572,     0.74582,     0.74592,     0.74601,     0.74611,     0.74621,      0.7463,      0.7464,      0.7465,     0.74659,     0.74669,     0.74679,     0.74655,     0.74597,     0.74538,     0.74479,     0.74405,\n",
              "             0.7433,     0.74303,     0.74347,     0.74391,      0.7422,     0.74242,     0.74264,     0.74286,     0.74308,     0.74338,     0.74382,     0.74426,     0.74453,     0.74472,     0.74491,      0.7451,     0.74529,     0.74547,     0.74426,     0.74374,     0.74392,      0.7441,     0.74429,\n",
              "            0.74447,     0.74465,     0.74482,     0.74496,     0.74511,     0.74525,      0.7454,     0.74554,     0.74569,     0.74583,     0.74598,     0.74607,     0.74616,     0.74626,     0.74635,     0.74644,     0.74654,     0.74663,     0.74672,     0.74681,     0.74691,       0.747,     0.74709,\n",
              "            0.74715,     0.74611,     0.74512,     0.74456,     0.74401,     0.74345,     0.74331,     0.74372,     0.74413,     0.74469,      0.7454,     0.74513,     0.74461,     0.74409,     0.74357,     0.74374,       0.744,     0.74426,     0.74452,      0.7446,     0.74416,     0.74372,     0.74328,\n",
              "            0.74284,     0.74261,     0.74251,     0.74241,      0.7423,      0.7422,      0.7421,       0.742,      0.7419,      0.7418,      0.7417,      0.7416,     0.74149,     0.74139,     0.74129,     0.74119,     0.74109,     0.74099,     0.74089,     0.74078,     0.74068,     0.74045,     0.74001,\n",
              "            0.73957,     0.73912,     0.73868,     0.73875,     0.73899,     0.73924,     0.73949,     0.73974,     0.73931,     0.73878,     0.73825,     0.73772,      0.7383,     0.73893,     0.74135,     0.74142,     0.74148,     0.74154,     0.74161,     0.74167,     0.74173,      0.7418,     0.74186,\n",
              "            0.74193,     0.74199,     0.74205,     0.74212,     0.74218,     0.74224,     0.74231,     0.74237,     0.74243,      0.7425,     0.74256,     0.74277,     0.74302,     0.74327,     0.74352,     0.74377,     0.74492,      0.7431,     0.74326,     0.74341,     0.74357,     0.74373,     0.74389,\n",
              "            0.74405,     0.74415,     0.74379,     0.74343,     0.74308,     0.74272,     0.74236,     0.74216,     0.74242,     0.74267,     0.74292,     0.74318,     0.74328,     0.74315,     0.74301,     0.74288,     0.74275,     0.74261,     0.74248,     0.74234,     0.74221,     0.74207,     0.74194,\n",
              "             0.7418,     0.74167,     0.74154,      0.7414,     0.74127,     0.73958,     0.74014,     0.74046,     0.74058,      0.7407,     0.74081,     0.74093,     0.74104,     0.74116,     0.74127,     0.74139,     0.74151,     0.74167,     0.74231,     0.74294,     0.74359,     0.74434,     0.74491,\n",
              "            0.74354,     0.74453,     0.74464,     0.74474,     0.74485,     0.74496,     0.74507,     0.74518,     0.74528,     0.74539,      0.7455,     0.74561,     0.74571,     0.74584,     0.74599,     0.74613,     0.74628,     0.74642,     0.74656,     0.74671,     0.74685,       0.747,     0.74669,\n",
              "            0.74626,     0.74582,     0.74538,     0.74495,     0.74505,     0.74523,      0.7454,     0.74557,     0.74575,     0.74592,     0.74609,     0.74596,     0.74559,     0.74523,     0.74486,      0.7445,     0.74413,     0.74323,     0.74213,     0.73887,     0.73777,      0.7372,     0.73676,\n",
              "            0.73631,     0.73587,     0.73542,     0.73601,     0.73665,     0.73617,     0.73567,     0.73518,     0.73468,     0.73468,       0.735,     0.73533,     0.73565,     0.73586,     0.73601,     0.73617,     0.73632,     0.73647,     0.73663,     0.73678,     0.73693,     0.73612,     0.73459,\n",
              "            0.73403,     0.73347,     0.73291,     0.73224,     0.73149,     0.73074,     0.73054,     0.73071,     0.73089,     0.73106,     0.73124,     0.73141,     0.73158,     0.73183,     0.73227,      0.7327,     0.73266,     0.73175,     0.73084,     0.73101,     0.73127,     0.73154,      0.7318,\n",
              "            0.73206,     0.73221,     0.73237,     0.73252,     0.73268,     0.73283,     0.73299,     0.73314,     0.73329,     0.73432,     0.73435,       0.734,     0.73365,      0.7333,     0.73295,     0.73259,     0.73252,     0.73282,     0.73311,      0.7334,     0.73367,     0.73325,     0.73284,\n",
              "            0.73242,       0.732,     0.73158,     0.73123,      0.7309,     0.73057,     0.73024,     0.72991,     0.72958,     0.72925,     0.72855,     0.72778,     0.72701,     0.72553,     0.72257,      0.7229,     0.72323,     0.72356,     0.72509,     0.72609,     0.72417,     0.72544,     0.72633,\n",
              "            0.72446,     0.72467,     0.72488,     0.72508,     0.72529,     0.72549,     0.72541,     0.72473,     0.72406,     0.72338,     0.72368,     0.72406,     0.72445,     0.72483,     0.72522,      0.7256,     0.72358,      0.7229,     0.72221,     0.72153,       0.719,     0.71912,     0.71925,\n",
              "            0.71937,     0.71949,     0.71961,     0.71974,     0.71986,     0.71998,      0.7201,     0.72023,     0.72007,     0.71959,     0.71911,     0.71863,     0.71815,     0.71532,     0.71483,     0.71435,     0.71387,     0.71338,     0.71132,      0.7101,     0.70776,     0.70854,     0.70793,\n",
              "            0.70731,      0.7067,     0.70594,     0.70495,     0.70397,     0.70082,     0.70011,      0.6994,     0.69954,     0.70026,      0.6986,     0.69642,     0.69496,     0.69412,     0.69328,     0.68986,     0.68884,     0.68794,     0.68738,     0.68681,     0.68625,     0.68568,     0.68486,\n",
              "            0.68401,     0.68316,     0.68437,     0.68066,     0.67665,     0.67621,     0.67578,     0.67535,     0.67491,     0.67448,     0.67402,     0.67355,     0.67307,      0.6726,     0.67212,     0.67154,     0.67066,     0.66979,      0.6686,     0.66685,      0.6643,      0.6649,     0.66417,\n",
              "            0.66023,     0.65931,     0.65842,     0.65761,     0.65799,     0.65836,     0.65874,     0.65712,     0.65552,     0.65444,     0.65319,     0.65139,     0.64888,     0.64724,     0.64588,     0.64313,     0.64351,     0.64388,     0.64425,     0.64353,     0.64274,     0.64195,     0.64205,\n",
              "            0.64248,     0.64111,     0.64056,        0.64,     0.63945,     0.63889,      0.6356,     0.63373,     0.63115,     0.62833,     0.62811,     0.62855,     0.62898,     0.62858,     0.62807,     0.62755,     0.62703,     0.62652,     0.62578,     0.62483,     0.62388,     0.62051,      0.6186,\n",
              "            0.61607,     0.61541,     0.61592,     0.61318,     0.61173,     0.61035,     0.60918,     0.60801,     0.60816,     0.60858,     0.60901,     0.60088,     0.59275,     0.59225,     0.59352,     0.59458,     0.59245,     0.59273,     0.59302,      0.5933,     0.59359,     0.58872,     0.58635,\n",
              "            0.57806,     0.57495,     0.57232,     0.57107,     0.56981,      0.5683,     0.56672,     0.56099,     0.55748,     0.55004,     0.54789,     0.54468,      0.5425,     0.53479,     0.52492,     0.52115,     0.51947,     0.51814,     0.51702,     0.51589,      0.5061,     0.50422,     0.50396,\n",
              "            0.49231,     0.47831,      0.4741,     0.46032,     0.45439,     0.45145,      0.4496,     0.44689,     0.44134,     0.43688,     0.43537,     0.43343,     0.41881,     0.41623,      0.4112,     0.40925,     0.39848,     0.38661,     0.38342,     0.37529,     0.36707,     0.36322,     0.35449,\n",
              "            0.35145,     0.34934,     0.34532,     0.34107,     0.33273,     0.31555,     0.30828,     0.30095,     0.29426,     0.28485,     0.27846,     0.26638,     0.25778,     0.25214,     0.24299,     0.24059,     0.23637,     0.21335,     0.20337,     0.19006,     0.18558,     0.18216,     0.17253,\n",
              "            0.15697,     0.14635,     0.13296,     0.13007,     0.11672,     0.10681,     0.10238,    0.080711,    0.074973,    0.064271,    0.062815,    0.061357,    0.059897,    0.058304,    0.056351,    0.054393,    0.052812,     0.05197,    0.051128,    0.050285,    0.049441,    0.048597,    0.047751,\n",
              "           0.046982,    0.046285,    0.045587,    0.044889,     0.04419,    0.043491,    0.042791,    0.042091,    0.041358,    0.040506,    0.039654,    0.038801,    0.037947,    0.037093,    0.036237,     0.03544,    0.034735,    0.034029,    0.033322,    0.032615,    0.031908,      0.0312,    0.030492,\n",
              "           0.029619,    0.027204,    0.024783,    0.023509,    0.022835,     0.02216,    0.021485,    0.020809,    0.020133,    0.019456,    0.018779,    0.018101,    0.011857,    0.011366,    0.010874,    0.010383,   0.0098907,   0.0093985,   0.0089061,   0.0084134,   0.0079205,   0.0074273,   0.0069339,\n",
              "          0.0064402,           0,           0,           0,           0,           0,           0,           0,           0,           0,           0,           0,           0,           0,           0,           0,           0,           0,           0,           0,           0,           0,           0,\n",
              "                  0,           0,           0,           0,           0,           0,           0,           0,           0,           0,           0]]), 'Confidence', 'F1'], [array([          0,    0.001001,    0.002002,    0.003003,    0.004004,    0.005005,    0.006006,    0.007007,    0.008008,    0.009009,     0.01001,    0.011011,    0.012012,    0.013013,    0.014014,    0.015015,    0.016016,    0.017017,    0.018018,    0.019019,     0.02002,    0.021021,    0.022022,    0.023023,\n",
              "          0.024024,    0.025025,    0.026026,    0.027027,    0.028028,    0.029029,     0.03003,    0.031031,    0.032032,    0.033033,    0.034034,    0.035035,    0.036036,    0.037037,    0.038038,    0.039039,     0.04004,    0.041041,    0.042042,    0.043043,    0.044044,    0.045045,    0.046046,    0.047047,\n",
              "          0.048048,    0.049049,     0.05005,    0.051051,    0.052052,    0.053053,    0.054054,    0.055055,    0.056056,    0.057057,    0.058058,    0.059059,     0.06006,    0.061061,    0.062062,    0.063063,    0.064064,    0.065065,    0.066066,    0.067067,    0.068068,    0.069069,     0.07007,    0.071071,\n",
              "          0.072072,    0.073073,    0.074074,    0.075075,    0.076076,    0.077077,    0.078078,    0.079079,     0.08008,    0.081081,    0.082082,    0.083083,    0.084084,    0.085085,    0.086086,    0.087087,    0.088088,    0.089089,     0.09009,    0.091091,    0.092092,    0.093093,    0.094094,    0.095095,\n",
              "          0.096096,    0.097097,    0.098098,    0.099099,      0.1001,      0.1011,      0.1021,      0.1031,      0.1041,     0.10511,     0.10611,     0.10711,     0.10811,     0.10911,     0.11011,     0.11111,     0.11211,     0.11311,     0.11411,     0.11512,     0.11612,     0.11712,     0.11812,     0.11912,\n",
              "           0.12012,     0.12112,     0.12212,     0.12312,     0.12412,     0.12513,     0.12613,     0.12713,     0.12813,     0.12913,     0.13013,     0.13113,     0.13213,     0.13313,     0.13413,     0.13514,     0.13614,     0.13714,     0.13814,     0.13914,     0.14014,     0.14114,     0.14214,     0.14314,\n",
              "           0.14414,     0.14515,     0.14615,     0.14715,     0.14815,     0.14915,     0.15015,     0.15115,     0.15215,     0.15315,     0.15415,     0.15516,     0.15616,     0.15716,     0.15816,     0.15916,     0.16016,     0.16116,     0.16216,     0.16316,     0.16416,     0.16517,     0.16617,     0.16717,\n",
              "           0.16817,     0.16917,     0.17017,     0.17117,     0.17217,     0.17317,     0.17417,     0.17518,     0.17618,     0.17718,     0.17818,     0.17918,     0.18018,     0.18118,     0.18218,     0.18318,     0.18418,     0.18519,     0.18619,     0.18719,     0.18819,     0.18919,     0.19019,     0.19119,\n",
              "           0.19219,     0.19319,     0.19419,      0.1952,      0.1962,      0.1972,      0.1982,      0.1992,      0.2002,      0.2012,      0.2022,      0.2032,      0.2042,     0.20521,     0.20621,     0.20721,     0.20821,     0.20921,     0.21021,     0.21121,     0.21221,     0.21321,     0.21421,     0.21522,\n",
              "           0.21622,     0.21722,     0.21822,     0.21922,     0.22022,     0.22122,     0.22222,     0.22322,     0.22422,     0.22523,     0.22623,     0.22723,     0.22823,     0.22923,     0.23023,     0.23123,     0.23223,     0.23323,     0.23423,     0.23524,     0.23624,     0.23724,     0.23824,     0.23924,\n",
              "           0.24024,     0.24124,     0.24224,     0.24324,     0.24424,     0.24525,     0.24625,     0.24725,     0.24825,     0.24925,     0.25025,     0.25125,     0.25225,     0.25325,     0.25425,     0.25526,     0.25626,     0.25726,     0.25826,     0.25926,     0.26026,     0.26126,     0.26226,     0.26326,\n",
              "           0.26426,     0.26527,     0.26627,     0.26727,     0.26827,     0.26927,     0.27027,     0.27127,     0.27227,     0.27327,     0.27427,     0.27528,     0.27628,     0.27728,     0.27828,     0.27928,     0.28028,     0.28128,     0.28228,     0.28328,     0.28428,     0.28529,     0.28629,     0.28729,\n",
              "           0.28829,     0.28929,     0.29029,     0.29129,     0.29229,     0.29329,     0.29429,      0.2953,      0.2963,      0.2973,      0.2983,      0.2993,      0.3003,      0.3013,      0.3023,      0.3033,      0.3043,     0.30531,     0.30631,     0.30731,     0.30831,     0.30931,     0.31031,     0.31131,\n",
              "           0.31231,     0.31331,     0.31431,     0.31532,     0.31632,     0.31732,     0.31832,     0.31932,     0.32032,     0.32132,     0.32232,     0.32332,     0.32432,     0.32533,     0.32633,     0.32733,     0.32833,     0.32933,     0.33033,     0.33133,     0.33233,     0.33333,     0.33433,     0.33534,\n",
              "           0.33634,     0.33734,     0.33834,     0.33934,     0.34034,     0.34134,     0.34234,     0.34334,     0.34434,     0.34535,     0.34635,     0.34735,     0.34835,     0.34935,     0.35035,     0.35135,     0.35235,     0.35335,     0.35435,     0.35536,     0.35636,     0.35736,     0.35836,     0.35936,\n",
              "           0.36036,     0.36136,     0.36236,     0.36336,     0.36436,     0.36537,     0.36637,     0.36737,     0.36837,     0.36937,     0.37037,     0.37137,     0.37237,     0.37337,     0.37437,     0.37538,     0.37638,     0.37738,     0.37838,     0.37938,     0.38038,     0.38138,     0.38238,     0.38338,\n",
              "           0.38438,     0.38539,     0.38639,     0.38739,     0.38839,     0.38939,     0.39039,     0.39139,     0.39239,     0.39339,     0.39439,      0.3954,      0.3964,      0.3974,      0.3984,      0.3994,      0.4004,      0.4014,      0.4024,      0.4034,      0.4044,     0.40541,     0.40641,     0.40741,\n",
              "           0.40841,     0.40941,     0.41041,     0.41141,     0.41241,     0.41341,     0.41441,     0.41542,     0.41642,     0.41742,     0.41842,     0.41942,     0.42042,     0.42142,     0.42242,     0.42342,     0.42442,     0.42543,     0.42643,     0.42743,     0.42843,     0.42943,     0.43043,     0.43143,\n",
              "           0.43243,     0.43343,     0.43443,     0.43544,     0.43644,     0.43744,     0.43844,     0.43944,     0.44044,     0.44144,     0.44244,     0.44344,     0.44444,     0.44545,     0.44645,     0.44745,     0.44845,     0.44945,     0.45045,     0.45145,     0.45245,     0.45345,     0.45445,     0.45546,\n",
              "           0.45646,     0.45746,     0.45846,     0.45946,     0.46046,     0.46146,     0.46246,     0.46346,     0.46446,     0.46547,     0.46647,     0.46747,     0.46847,     0.46947,     0.47047,     0.47147,     0.47247,     0.47347,     0.47447,     0.47548,     0.47648,     0.47748,     0.47848,     0.47948,\n",
              "           0.48048,     0.48148,     0.48248,     0.48348,     0.48448,     0.48549,     0.48649,     0.48749,     0.48849,     0.48949,     0.49049,     0.49149,     0.49249,     0.49349,     0.49449,      0.4955,      0.4965,      0.4975,      0.4985,      0.4995,      0.5005,      0.5015,      0.5025,      0.5035,\n",
              "            0.5045,     0.50551,     0.50651,     0.50751,     0.50851,     0.50951,     0.51051,     0.51151,     0.51251,     0.51351,     0.51451,     0.51552,     0.51652,     0.51752,     0.51852,     0.51952,     0.52052,     0.52152,     0.52252,     0.52352,     0.52452,     0.52553,     0.52653,     0.52753,\n",
              "           0.52853,     0.52953,     0.53053,     0.53153,     0.53253,     0.53353,     0.53453,     0.53554,     0.53654,     0.53754,     0.53854,     0.53954,     0.54054,     0.54154,     0.54254,     0.54354,     0.54454,     0.54555,     0.54655,     0.54755,     0.54855,     0.54955,     0.55055,     0.55155,\n",
              "           0.55255,     0.55355,     0.55455,     0.55556,     0.55656,     0.55756,     0.55856,     0.55956,     0.56056,     0.56156,     0.56256,     0.56356,     0.56456,     0.56557,     0.56657,     0.56757,     0.56857,     0.56957,     0.57057,     0.57157,     0.57257,     0.57357,     0.57457,     0.57558,\n",
              "           0.57658,     0.57758,     0.57858,     0.57958,     0.58058,     0.58158,     0.58258,     0.58358,     0.58458,     0.58559,     0.58659,     0.58759,     0.58859,     0.58959,     0.59059,     0.59159,     0.59259,     0.59359,     0.59459,      0.5956,      0.5966,      0.5976,      0.5986,      0.5996,\n",
              "            0.6006,      0.6016,      0.6026,      0.6036,      0.6046,     0.60561,     0.60661,     0.60761,     0.60861,     0.60961,     0.61061,     0.61161,     0.61261,     0.61361,     0.61461,     0.61562,     0.61662,     0.61762,     0.61862,     0.61962,     0.62062,     0.62162,     0.62262,     0.62362,\n",
              "           0.62462,     0.62563,     0.62663,     0.62763,     0.62863,     0.62963,     0.63063,     0.63163,     0.63263,     0.63363,     0.63463,     0.63564,     0.63664,     0.63764,     0.63864,     0.63964,     0.64064,     0.64164,     0.64264,     0.64364,     0.64464,     0.64565,     0.64665,     0.64765,\n",
              "           0.64865,     0.64965,     0.65065,     0.65165,     0.65265,     0.65365,     0.65465,     0.65566,     0.65666,     0.65766,     0.65866,     0.65966,     0.66066,     0.66166,     0.66266,     0.66366,     0.66466,     0.66567,     0.66667,     0.66767,     0.66867,     0.66967,     0.67067,     0.67167,\n",
              "           0.67267,     0.67367,     0.67467,     0.67568,     0.67668,     0.67768,     0.67868,     0.67968,     0.68068,     0.68168,     0.68268,     0.68368,     0.68468,     0.68569,     0.68669,     0.68769,     0.68869,     0.68969,     0.69069,     0.69169,     0.69269,     0.69369,     0.69469,      0.6957,\n",
              "            0.6967,      0.6977,      0.6987,      0.6997,      0.7007,      0.7017,      0.7027,      0.7037,      0.7047,     0.70571,     0.70671,     0.70771,     0.70871,     0.70971,     0.71071,     0.71171,     0.71271,     0.71371,     0.71471,     0.71572,     0.71672,     0.71772,     0.71872,     0.71972,\n",
              "           0.72072,     0.72172,     0.72272,     0.72372,     0.72472,     0.72573,     0.72673,     0.72773,     0.72873,     0.72973,     0.73073,     0.73173,     0.73273,     0.73373,     0.73473,     0.73574,     0.73674,     0.73774,     0.73874,     0.73974,     0.74074,     0.74174,     0.74274,     0.74374,\n",
              "           0.74474,     0.74575,     0.74675,     0.74775,     0.74875,     0.74975,     0.75075,     0.75175,     0.75275,     0.75375,     0.75475,     0.75576,     0.75676,     0.75776,     0.75876,     0.75976,     0.76076,     0.76176,     0.76276,     0.76376,     0.76476,     0.76577,     0.76677,     0.76777,\n",
              "           0.76877,     0.76977,     0.77077,     0.77177,     0.77277,     0.77377,     0.77477,     0.77578,     0.77678,     0.77778,     0.77878,     0.77978,     0.78078,     0.78178,     0.78278,     0.78378,     0.78478,     0.78579,     0.78679,     0.78779,     0.78879,     0.78979,     0.79079,     0.79179,\n",
              "           0.79279,     0.79379,     0.79479,      0.7958,      0.7968,      0.7978,      0.7988,      0.7998,      0.8008,      0.8018,      0.8028,      0.8038,      0.8048,     0.80581,     0.80681,     0.80781,     0.80881,     0.80981,     0.81081,     0.81181,     0.81281,     0.81381,     0.81481,     0.81582,\n",
              "           0.81682,     0.81782,     0.81882,     0.81982,     0.82082,     0.82182,     0.82282,     0.82382,     0.82482,     0.82583,     0.82683,     0.82783,     0.82883,     0.82983,     0.83083,     0.83183,     0.83283,     0.83383,     0.83483,     0.83584,     0.83684,     0.83784,     0.83884,     0.83984,\n",
              "           0.84084,     0.84184,     0.84284,     0.84384,     0.84484,     0.84585,     0.84685,     0.84785,     0.84885,     0.84985,     0.85085,     0.85185,     0.85285,     0.85385,     0.85485,     0.85586,     0.85686,     0.85786,     0.85886,     0.85986,     0.86086,     0.86186,     0.86286,     0.86386,\n",
              "           0.86486,     0.86587,     0.86687,     0.86787,     0.86887,     0.86987,     0.87087,     0.87187,     0.87287,     0.87387,     0.87487,     0.87588,     0.87688,     0.87788,     0.87888,     0.87988,     0.88088,     0.88188,     0.88288,     0.88388,     0.88488,     0.88589,     0.88689,     0.88789,\n",
              "           0.88889,     0.88989,     0.89089,     0.89189,     0.89289,     0.89389,     0.89489,      0.8959,      0.8969,      0.8979,      0.8989,      0.8999,      0.9009,      0.9019,      0.9029,      0.9039,      0.9049,     0.90591,     0.90691,     0.90791,     0.90891,     0.90991,     0.91091,     0.91191,\n",
              "           0.91291,     0.91391,     0.91491,     0.91592,     0.91692,     0.91792,     0.91892,     0.91992,     0.92092,     0.92192,     0.92292,     0.92392,     0.92492,     0.92593,     0.92693,     0.92793,     0.92893,     0.92993,     0.93093,     0.93193,     0.93293,     0.93393,     0.93493,     0.93594,\n",
              "           0.93694,     0.93794,     0.93894,     0.93994,     0.94094,     0.94194,     0.94294,     0.94394,     0.94494,     0.94595,     0.94695,     0.94795,     0.94895,     0.94995,     0.95095,     0.95195,     0.95295,     0.95395,     0.95495,     0.95596,     0.95696,     0.95796,     0.95896,     0.95996,\n",
              "           0.96096,     0.96196,     0.96296,     0.96396,     0.96496,     0.96597,     0.96697,     0.96797,     0.96897,     0.96997,     0.97097,     0.97197,     0.97297,     0.97397,     0.97497,     0.97598,     0.97698,     0.97798,     0.97898,     0.97998,     0.98098,     0.98198,     0.98298,     0.98398,\n",
              "           0.98498,     0.98599,     0.98699,     0.98799,     0.98899,     0.98999,     0.99099,     0.99199,     0.99299,     0.99399,     0.99499,       0.996,       0.997,       0.998,       0.999,           1]), array([[     0.2028,      0.2028,     0.26659,     0.29893,     0.32793,     0.34572,     0.36541,     0.37866,      0.3925,     0.40444,     0.41568,     0.42187,     0.43892,     0.44584,     0.45243,     0.45875,     0.46626,     0.47707,     0.48521,      0.4924,     0.49641,     0.49992,     0.50938,\n",
              "            0.51209,     0.51297,     0.51162,     0.51256,     0.51941,     0.52256,     0.52478,     0.52982,     0.53428,     0.53954,     0.54292,     0.54547,      0.5489,       0.551,     0.55393,     0.55605,     0.55782,     0.56013,     0.55993,     0.56185,     0.56407,     0.56885,     0.57149,\n",
              "            0.57365,     0.57448,     0.57612,      0.5793,     0.58018,     0.58098,     0.58172,     0.58387,     0.58746,     0.59225,     0.59284,     0.59736,     0.59737,     0.59774,     0.59826,     0.59969,     0.59994,     0.60225,     0.60456,     0.60715,     0.60676,     0.60725,     0.60847,\n",
              "            0.61092,     0.61259,     0.61378,     0.61519,     0.61628,     0.61747,     0.61651,     0.61699,     0.61809,     0.61977,     0.62065,     0.62188,      0.6228,     0.62355,     0.62492,     0.62766,     0.62989,     0.63169,      0.6329,     0.63373,     0.63348,      0.6366,     0.63903,\n",
              "            0.64074,     0.64395,     0.64663,     0.64807,     0.65002,       0.655,     0.65566,     0.65632,     0.65574,      0.6567,     0.66139,     0.66319,     0.66359,     0.66399,     0.66438,     0.66478,      0.6659,     0.66531,     0.66578,     0.66625,     0.66654,     0.66598,     0.66663,\n",
              "            0.66728,     0.66949,     0.67039,     0.67318,     0.67467,      0.6743,      0.6743,     0.67574,     0.67686,     0.67797,     0.67906,     0.68221,     0.68346,     0.68438,     0.68498,      0.6845,     0.68509,     0.68676,     0.68797,     0.68874,     0.68949,     0.69005,     0.69031,\n",
              "            0.69057,     0.69083,     0.69109,     0.69135,     0.69161,     0.69186,     0.69766,     0.69972,     0.70074,     0.70192,     0.70409,     0.70478,     0.70547,     0.70768,     0.70727,       0.707,      0.7084,     0.70942,     0.71022,     0.71102,     0.71167,     0.71232,     0.71297,\n",
              "            0.71336,     0.71371,     0.71406,     0.71442,     0.71477,     0.71512,      0.7154,     0.71567,     0.71594,     0.71621,     0.71648,     0.71675,     0.71702,     0.71839,     0.72384,     0.72509,     0.72757,      0.7284,     0.72903,     0.72966,     0.73242,     0.73294,     0.73347,\n",
              "              0.734,     0.73372,     0.73362,     0.73372,     0.73382,     0.73392,     0.73402,     0.73412,     0.73422,     0.73432,     0.73441,     0.73451,     0.73461,     0.73471,     0.73481,     0.73491,     0.73501,     0.73511,     0.73521,     0.73531,     0.73541,     0.73551,     0.73561,\n",
              "             0.7357,     0.73855,     0.73942,     0.74022,     0.74052,     0.74081,     0.74111,     0.74141,      0.7417,       0.742,      0.7423,     0.74257,     0.74283,     0.74308,     0.74334,      0.7436,     0.74385,     0.74411,     0.74437,     0.74463,     0.74405,     0.74321,     0.74431,\n",
              "             0.7454,     0.74573,     0.74606,     0.74639,     0.74672,     0.74705,     0.74738,     0.74771,     0.74803,     0.74835,     0.74867,     0.74899,     0.74931,     0.74963,     0.74995,     0.75229,     0.75203,     0.75176,      0.7516,     0.75185,     0.75209,     0.75234,     0.75259,\n",
              "            0.75283,     0.75308,     0.75333,     0.75357,     0.75382,     0.75409,     0.75437,     0.75466,     0.75494,     0.75523,     0.75551,     0.75579,     0.75608,     0.75886,     0.75947,     0.76009,      0.7607,     0.76263,     0.76371,     0.76411,      0.7645,      0.7649,     0.76529,\n",
              "            0.76569,     0.76611,     0.76654,     0.76698,     0.76741,     0.76784,      0.7682,      0.7675,     0.76744,     0.76739,     0.76734,     0.76728,     0.76723,     0.76717,     0.76712,     0.76706,     0.76701,     0.76695,      0.7669,     0.76685,     0.76679,     0.76642,     0.76702,\n",
              "            0.76761,      0.7682,     0.76792,     0.76826,      0.7686,     0.76894,     0.76928,     0.76962,     0.76996,      0.7702,      0.7701,     0.76999,     0.76988,     0.76977,     0.76966,     0.76955,     0.77076,     0.77213,     0.77236,     0.77258,     0.77281,     0.77303,     0.77326,\n",
              "            0.77348,     0.77371,     0.77393,     0.77416,     0.77438,     0.77663,     0.77902,     0.77924,     0.77945,     0.77966,     0.77987,     0.78008,     0.78029,      0.7805,     0.78072,     0.78093,     0.78114,     0.78135,     0.78135,     0.78114,     0.78093,     0.78071,     0.78044,\n",
              "            0.78016,     0.78039,     0.78136,     0.78233,     0.78223,     0.78272,     0.78321,      0.7837,     0.78419,     0.78486,     0.78585,     0.78683,     0.78744,     0.78786,     0.78828,     0.78871,     0.78913,     0.78955,     0.78935,     0.78946,     0.78987,     0.79028,     0.79069,\n",
              "            0.79109,      0.7915,     0.79189,     0.79222,     0.79255,     0.79287,      0.7932,     0.79353,     0.79385,     0.79418,     0.79451,     0.79472,     0.79493,     0.79515,     0.79536,     0.79557,     0.79578,     0.79599,      0.7962,     0.79641,     0.79662,     0.79684,     0.79705,\n",
              "            0.79724,     0.79688,     0.79654,     0.79634,     0.79615,     0.79596,     0.79625,     0.79719,     0.79814,     0.79942,     0.80105,     0.80125,     0.80108,      0.8009,     0.80072,     0.80124,     0.80184,     0.80245,     0.80306,     0.80347,     0.80332,     0.80317,     0.80302,\n",
              "            0.80287,      0.8028,     0.80276,     0.80273,     0.80269,     0.80266,     0.80262,     0.80259,     0.80255,     0.80252,     0.80249,     0.80245,     0.80242,     0.80238,     0.80235,     0.80231,     0.80228,     0.80224,     0.80221,     0.80218,     0.80214,     0.80206,     0.80191,\n",
              "            0.80176,     0.80161,     0.80146,     0.80185,     0.80244,     0.80302,     0.80361,     0.80419,     0.80412,     0.80394,     0.80376,     0.80358,     0.80499,     0.80648,     0.81228,     0.81243,     0.81259,     0.81274,     0.81289,     0.81304,      0.8132,     0.81335,      0.8135,\n",
              "            0.81365,     0.81381,     0.81396,     0.81411,     0.81427,     0.81442,     0.81457,     0.81472,     0.81488,     0.81503,     0.81518,     0.81568,     0.81629,      0.8169,     0.81751,     0.81811,      0.8209,     0.82087,     0.82125,     0.82164,     0.82203,     0.82241,      0.8228,\n",
              "            0.82319,     0.82352,     0.82341,     0.82329,     0.82318,     0.82307,     0.82296,     0.82304,     0.82366,     0.82429,     0.82491,     0.82554,     0.82591,     0.82587,     0.82583,     0.82579,     0.82574,      0.8257,     0.82566,     0.82562,     0.82558,     0.82554,      0.8255,\n",
              "            0.82545,     0.82541,     0.82537,     0.82533,     0.82529,     0.82477,     0.82714,     0.82795,     0.82824,     0.82853,     0.82882,     0.82911,      0.8294,     0.82969,     0.82998,     0.83027,     0.83056,     0.83097,     0.83257,     0.83418,      0.8358,     0.83772,     0.84017,\n",
              "            0.84046,     0.84298,     0.84326,     0.84354,     0.84381,     0.84409,     0.84437,     0.84464,     0.84492,      0.8452,     0.84548,     0.84575,     0.84603,     0.84636,     0.84673,      0.8471,     0.84747,     0.84785,     0.84822,     0.84859,     0.84896,     0.84934,     0.84933,\n",
              "            0.84921,     0.84909,     0.84897,     0.84885,     0.84924,     0.84969,     0.85014,     0.85059,     0.85105,      0.8515,     0.85195,     0.85208,     0.85198,     0.85189,     0.85179,     0.85169,     0.85159,     0.85135,     0.85105,     0.85016,     0.84986,      0.8497,     0.84958,\n",
              "            0.84946,     0.84934,     0.84921,     0.85084,     0.85257,     0.85246,     0.85232,     0.85219,     0.85205,     0.85253,      0.8534,     0.85428,     0.85516,     0.85571,     0.85613,     0.85654,     0.85696,     0.85738,     0.85779,     0.85821,     0.85862,     0.85863,     0.85824,\n",
              "            0.85809,     0.85794,     0.85779,     0.85762,     0.85742,     0.85722,     0.85743,     0.85791,     0.85839,     0.85887,     0.85935,     0.85983,     0.86031,       0.861,     0.86221,     0.86342,     0.86412,     0.86389,     0.86366,     0.86431,     0.86505,     0.86578,     0.86651,\n",
              "            0.86724,     0.86767,     0.86811,     0.86854,     0.86898,     0.86942,     0.86985,     0.87029,     0.87072,     0.87362,     0.87441,     0.87433,     0.87425,     0.87416,     0.87408,       0.874,     0.87431,     0.87515,     0.87599,     0.87683,     0.87763,     0.87754,     0.87744,\n",
              "            0.87734,     0.87725,     0.87715,     0.87707,     0.87699,     0.87691,     0.87684,     0.87676,     0.87668,     0.87661,     0.87644,     0.87626,     0.87608,     0.87573,     0.87544,     0.87641,     0.87738,     0.87835,     0.88287,     0.88642,     0.88642,     0.89024,     0.89293,\n",
              "            0.89376,     0.89439,     0.89502,     0.89564,     0.89627,      0.8969,     0.89728,     0.89714,     0.89701,     0.89687,     0.89795,     0.89913,     0.90031,      0.9015,      0.9027,     0.90389,     0.90453,     0.90441,     0.90428,     0.90415,     0.90374,     0.90413,     0.90452,\n",
              "            0.90491,     0.90529,     0.90568,     0.90607,     0.90646,     0.90685,     0.90723,     0.90762,     0.90779,     0.90771,     0.90762,     0.90753,     0.90744,     0.90693,     0.90684,     0.90675,     0.90666,     0.90657,     0.91022,     0.91001,     0.91069,     0.91385,     0.91374,\n",
              "            0.91363,     0.91353,      0.9134,     0.91322,     0.91305,      0.9125,     0.91238,     0.91225,     0.91381,     0.91665,     0.91637,       0.916,     0.91575,     0.91561,     0.91547,     0.91488,      0.9147,     0.91455,     0.91445,     0.91435,     0.91425,     0.91415,     0.91401,\n",
              "            0.91386,     0.91371,     0.91822,     0.91774,     0.91706,     0.91699,     0.91691,     0.91684,     0.91677,     0.91669,     0.91661,     0.91653,     0.91645,     0.91637,     0.91629,     0.91619,     0.91604,     0.91589,     0.91568,     0.91538,     0.91493,     0.91797,     0.91958,\n",
              "            0.91892,     0.91877,     0.91862,     0.91858,     0.92005,     0.92152,     0.92299,     0.92322,     0.92296,     0.92278,     0.92258,     0.92229,     0.92188,     0.92161,     0.92138,     0.92146,     0.92299,     0.92452,     0.92605,     0.92602,      0.9259,     0.92577,     0.92765,\n",
              "            0.93098,       0.936,     0.93593,     0.93585,     0.93577,      0.9357,     0.93524,     0.93498,     0.93461,     0.93421,     0.93567,     0.93759,     0.93951,      0.9397,     0.93963,     0.93956,      0.9395,     0.93943,     0.93933,      0.9392,     0.93908,     0.93863,     0.93837,\n",
              "            0.93802,     0.93946,     0.94186,     0.94336,     0.94317,       0.943,     0.94285,      0.9427,     0.94438,     0.94644,     0.94851,     0.94777,      0.9468,     0.94966,     0.95621,     0.96172,     0.96582,     0.96734,     0.96886,     0.97037,     0.97189,     0.97209,     0.97194,\n",
              "            0.97138,     0.97117,     0.97099,      0.9709,     0.97082,     0.97071,      0.9706,      0.9702,     0.96994,      0.9694,     0.96924,     0.96899,     0.96883,     0.96823,     0.96744,     0.96713,     0.96699,     0.96688,     0.96679,     0.96669,      0.9695,     0.97397,     0.97831,\n",
              "            0.98188,      0.9812,     0.98098,     0.98025,     0.97992,     0.97975,     0.97965,     0.97949,     0.97917,      0.9789,     0.97881,     0.97869,     0.97776,     0.97759,     0.97725,     0.97712,     0.97636,     0.97548,     0.98742,     0.98709,     0.98674,     0.98657,     0.98617,\n",
              "            0.98603,     0.98593,     0.98573,     0.98552,     0.98509,     0.98413,     0.98369,           1,           1,           1,           1,           1,           1,           1,           1,           1,           1,           1,           1,           1,           1,           1,           1,\n",
              "                  1,           1,           1,           1,           1,           1,           1,           1,           1,           1,           1,           1,           1,           1,           1,           1,           1,           1,           1,           1,           1,           1,           1,\n",
              "                  1,           1,           1,           1,           1,           1,           1,           1,           1,           1,           1,           1,           1,           1,           1,           1,           1,           1,           1,           1,           1,           1,           1,\n",
              "                  1,           1,           1,           1,           1,           1,           1,           1,           1,           1,           1,           1,           1,           1,           1,           1,           1,           1,           1,           1,           1,           1,           1,\n",
              "                  1,           1,           1,           1,           1,           1,           1,           1,           1,           1,           1,           1,           1,           1,           1,           1,           1,           1,           1,           1,           1,           1,           1,\n",
              "                  1,           1,           1,           1,           1,           1,           1,           1,           1,           1,           1]]), 'Confidence', 'Precision'], [array([          0,    0.001001,    0.002002,    0.003003,    0.004004,    0.005005,    0.006006,    0.007007,    0.008008,    0.009009,     0.01001,    0.011011,    0.012012,    0.013013,    0.014014,    0.015015,    0.016016,    0.017017,    0.018018,    0.019019,     0.02002,    0.021021,    0.022022,    0.023023,\n",
              "          0.024024,    0.025025,    0.026026,    0.027027,    0.028028,    0.029029,     0.03003,    0.031031,    0.032032,    0.033033,    0.034034,    0.035035,    0.036036,    0.037037,    0.038038,    0.039039,     0.04004,    0.041041,    0.042042,    0.043043,    0.044044,    0.045045,    0.046046,    0.047047,\n",
              "          0.048048,    0.049049,     0.05005,    0.051051,    0.052052,    0.053053,    0.054054,    0.055055,    0.056056,    0.057057,    0.058058,    0.059059,     0.06006,    0.061061,    0.062062,    0.063063,    0.064064,    0.065065,    0.066066,    0.067067,    0.068068,    0.069069,     0.07007,    0.071071,\n",
              "          0.072072,    0.073073,    0.074074,    0.075075,    0.076076,    0.077077,    0.078078,    0.079079,     0.08008,    0.081081,    0.082082,    0.083083,    0.084084,    0.085085,    0.086086,    0.087087,    0.088088,    0.089089,     0.09009,    0.091091,    0.092092,    0.093093,    0.094094,    0.095095,\n",
              "          0.096096,    0.097097,    0.098098,    0.099099,      0.1001,      0.1011,      0.1021,      0.1031,      0.1041,     0.10511,     0.10611,     0.10711,     0.10811,     0.10911,     0.11011,     0.11111,     0.11211,     0.11311,     0.11411,     0.11512,     0.11612,     0.11712,     0.11812,     0.11912,\n",
              "           0.12012,     0.12112,     0.12212,     0.12312,     0.12412,     0.12513,     0.12613,     0.12713,     0.12813,     0.12913,     0.13013,     0.13113,     0.13213,     0.13313,     0.13413,     0.13514,     0.13614,     0.13714,     0.13814,     0.13914,     0.14014,     0.14114,     0.14214,     0.14314,\n",
              "           0.14414,     0.14515,     0.14615,     0.14715,     0.14815,     0.14915,     0.15015,     0.15115,     0.15215,     0.15315,     0.15415,     0.15516,     0.15616,     0.15716,     0.15816,     0.15916,     0.16016,     0.16116,     0.16216,     0.16316,     0.16416,     0.16517,     0.16617,     0.16717,\n",
              "           0.16817,     0.16917,     0.17017,     0.17117,     0.17217,     0.17317,     0.17417,     0.17518,     0.17618,     0.17718,     0.17818,     0.17918,     0.18018,     0.18118,     0.18218,     0.18318,     0.18418,     0.18519,     0.18619,     0.18719,     0.18819,     0.18919,     0.19019,     0.19119,\n",
              "           0.19219,     0.19319,     0.19419,      0.1952,      0.1962,      0.1972,      0.1982,      0.1992,      0.2002,      0.2012,      0.2022,      0.2032,      0.2042,     0.20521,     0.20621,     0.20721,     0.20821,     0.20921,     0.21021,     0.21121,     0.21221,     0.21321,     0.21421,     0.21522,\n",
              "           0.21622,     0.21722,     0.21822,     0.21922,     0.22022,     0.22122,     0.22222,     0.22322,     0.22422,     0.22523,     0.22623,     0.22723,     0.22823,     0.22923,     0.23023,     0.23123,     0.23223,     0.23323,     0.23423,     0.23524,     0.23624,     0.23724,     0.23824,     0.23924,\n",
              "           0.24024,     0.24124,     0.24224,     0.24324,     0.24424,     0.24525,     0.24625,     0.24725,     0.24825,     0.24925,     0.25025,     0.25125,     0.25225,     0.25325,     0.25425,     0.25526,     0.25626,     0.25726,     0.25826,     0.25926,     0.26026,     0.26126,     0.26226,     0.26326,\n",
              "           0.26426,     0.26527,     0.26627,     0.26727,     0.26827,     0.26927,     0.27027,     0.27127,     0.27227,     0.27327,     0.27427,     0.27528,     0.27628,     0.27728,     0.27828,     0.27928,     0.28028,     0.28128,     0.28228,     0.28328,     0.28428,     0.28529,     0.28629,     0.28729,\n",
              "           0.28829,     0.28929,     0.29029,     0.29129,     0.29229,     0.29329,     0.29429,      0.2953,      0.2963,      0.2973,      0.2983,      0.2993,      0.3003,      0.3013,      0.3023,      0.3033,      0.3043,     0.30531,     0.30631,     0.30731,     0.30831,     0.30931,     0.31031,     0.31131,\n",
              "           0.31231,     0.31331,     0.31431,     0.31532,     0.31632,     0.31732,     0.31832,     0.31932,     0.32032,     0.32132,     0.32232,     0.32332,     0.32432,     0.32533,     0.32633,     0.32733,     0.32833,     0.32933,     0.33033,     0.33133,     0.33233,     0.33333,     0.33433,     0.33534,\n",
              "           0.33634,     0.33734,     0.33834,     0.33934,     0.34034,     0.34134,     0.34234,     0.34334,     0.34434,     0.34535,     0.34635,     0.34735,     0.34835,     0.34935,     0.35035,     0.35135,     0.35235,     0.35335,     0.35435,     0.35536,     0.35636,     0.35736,     0.35836,     0.35936,\n",
              "           0.36036,     0.36136,     0.36236,     0.36336,     0.36436,     0.36537,     0.36637,     0.36737,     0.36837,     0.36937,     0.37037,     0.37137,     0.37237,     0.37337,     0.37437,     0.37538,     0.37638,     0.37738,     0.37838,     0.37938,     0.38038,     0.38138,     0.38238,     0.38338,\n",
              "           0.38438,     0.38539,     0.38639,     0.38739,     0.38839,     0.38939,     0.39039,     0.39139,     0.39239,     0.39339,     0.39439,      0.3954,      0.3964,      0.3974,      0.3984,      0.3994,      0.4004,      0.4014,      0.4024,      0.4034,      0.4044,     0.40541,     0.40641,     0.40741,\n",
              "           0.40841,     0.40941,     0.41041,     0.41141,     0.41241,     0.41341,     0.41441,     0.41542,     0.41642,     0.41742,     0.41842,     0.41942,     0.42042,     0.42142,     0.42242,     0.42342,     0.42442,     0.42543,     0.42643,     0.42743,     0.42843,     0.42943,     0.43043,     0.43143,\n",
              "           0.43243,     0.43343,     0.43443,     0.43544,     0.43644,     0.43744,     0.43844,     0.43944,     0.44044,     0.44144,     0.44244,     0.44344,     0.44444,     0.44545,     0.44645,     0.44745,     0.44845,     0.44945,     0.45045,     0.45145,     0.45245,     0.45345,     0.45445,     0.45546,\n",
              "           0.45646,     0.45746,     0.45846,     0.45946,     0.46046,     0.46146,     0.46246,     0.46346,     0.46446,     0.46547,     0.46647,     0.46747,     0.46847,     0.46947,     0.47047,     0.47147,     0.47247,     0.47347,     0.47447,     0.47548,     0.47648,     0.47748,     0.47848,     0.47948,\n",
              "           0.48048,     0.48148,     0.48248,     0.48348,     0.48448,     0.48549,     0.48649,     0.48749,     0.48849,     0.48949,     0.49049,     0.49149,     0.49249,     0.49349,     0.49449,      0.4955,      0.4965,      0.4975,      0.4985,      0.4995,      0.5005,      0.5015,      0.5025,      0.5035,\n",
              "            0.5045,     0.50551,     0.50651,     0.50751,     0.50851,     0.50951,     0.51051,     0.51151,     0.51251,     0.51351,     0.51451,     0.51552,     0.51652,     0.51752,     0.51852,     0.51952,     0.52052,     0.52152,     0.52252,     0.52352,     0.52452,     0.52553,     0.52653,     0.52753,\n",
              "           0.52853,     0.52953,     0.53053,     0.53153,     0.53253,     0.53353,     0.53453,     0.53554,     0.53654,     0.53754,     0.53854,     0.53954,     0.54054,     0.54154,     0.54254,     0.54354,     0.54454,     0.54555,     0.54655,     0.54755,     0.54855,     0.54955,     0.55055,     0.55155,\n",
              "           0.55255,     0.55355,     0.55455,     0.55556,     0.55656,     0.55756,     0.55856,     0.55956,     0.56056,     0.56156,     0.56256,     0.56356,     0.56456,     0.56557,     0.56657,     0.56757,     0.56857,     0.56957,     0.57057,     0.57157,     0.57257,     0.57357,     0.57457,     0.57558,\n",
              "           0.57658,     0.57758,     0.57858,     0.57958,     0.58058,     0.58158,     0.58258,     0.58358,     0.58458,     0.58559,     0.58659,     0.58759,     0.58859,     0.58959,     0.59059,     0.59159,     0.59259,     0.59359,     0.59459,      0.5956,      0.5966,      0.5976,      0.5986,      0.5996,\n",
              "            0.6006,      0.6016,      0.6026,      0.6036,      0.6046,     0.60561,     0.60661,     0.60761,     0.60861,     0.60961,     0.61061,     0.61161,     0.61261,     0.61361,     0.61461,     0.61562,     0.61662,     0.61762,     0.61862,     0.61962,     0.62062,     0.62162,     0.62262,     0.62362,\n",
              "           0.62462,     0.62563,     0.62663,     0.62763,     0.62863,     0.62963,     0.63063,     0.63163,     0.63263,     0.63363,     0.63463,     0.63564,     0.63664,     0.63764,     0.63864,     0.63964,     0.64064,     0.64164,     0.64264,     0.64364,     0.64464,     0.64565,     0.64665,     0.64765,\n",
              "           0.64865,     0.64965,     0.65065,     0.65165,     0.65265,     0.65365,     0.65465,     0.65566,     0.65666,     0.65766,     0.65866,     0.65966,     0.66066,     0.66166,     0.66266,     0.66366,     0.66466,     0.66567,     0.66667,     0.66767,     0.66867,     0.66967,     0.67067,     0.67167,\n",
              "           0.67267,     0.67367,     0.67467,     0.67568,     0.67668,     0.67768,     0.67868,     0.67968,     0.68068,     0.68168,     0.68268,     0.68368,     0.68468,     0.68569,     0.68669,     0.68769,     0.68869,     0.68969,     0.69069,     0.69169,     0.69269,     0.69369,     0.69469,      0.6957,\n",
              "            0.6967,      0.6977,      0.6987,      0.6997,      0.7007,      0.7017,      0.7027,      0.7037,      0.7047,     0.70571,     0.70671,     0.70771,     0.70871,     0.70971,     0.71071,     0.71171,     0.71271,     0.71371,     0.71471,     0.71572,     0.71672,     0.71772,     0.71872,     0.71972,\n",
              "           0.72072,     0.72172,     0.72272,     0.72372,     0.72472,     0.72573,     0.72673,     0.72773,     0.72873,     0.72973,     0.73073,     0.73173,     0.73273,     0.73373,     0.73473,     0.73574,     0.73674,     0.73774,     0.73874,     0.73974,     0.74074,     0.74174,     0.74274,     0.74374,\n",
              "           0.74474,     0.74575,     0.74675,     0.74775,     0.74875,     0.74975,     0.75075,     0.75175,     0.75275,     0.75375,     0.75475,     0.75576,     0.75676,     0.75776,     0.75876,     0.75976,     0.76076,     0.76176,     0.76276,     0.76376,     0.76476,     0.76577,     0.76677,     0.76777,\n",
              "           0.76877,     0.76977,     0.77077,     0.77177,     0.77277,     0.77377,     0.77477,     0.77578,     0.77678,     0.77778,     0.77878,     0.77978,     0.78078,     0.78178,     0.78278,     0.78378,     0.78478,     0.78579,     0.78679,     0.78779,     0.78879,     0.78979,     0.79079,     0.79179,\n",
              "           0.79279,     0.79379,     0.79479,      0.7958,      0.7968,      0.7978,      0.7988,      0.7998,      0.8008,      0.8018,      0.8028,      0.8038,      0.8048,     0.80581,     0.80681,     0.80781,     0.80881,     0.80981,     0.81081,     0.81181,     0.81281,     0.81381,     0.81481,     0.81582,\n",
              "           0.81682,     0.81782,     0.81882,     0.81982,     0.82082,     0.82182,     0.82282,     0.82382,     0.82482,     0.82583,     0.82683,     0.82783,     0.82883,     0.82983,     0.83083,     0.83183,     0.83283,     0.83383,     0.83483,     0.83584,     0.83684,     0.83784,     0.83884,     0.83984,\n",
              "           0.84084,     0.84184,     0.84284,     0.84384,     0.84484,     0.84585,     0.84685,     0.84785,     0.84885,     0.84985,     0.85085,     0.85185,     0.85285,     0.85385,     0.85485,     0.85586,     0.85686,     0.85786,     0.85886,     0.85986,     0.86086,     0.86186,     0.86286,     0.86386,\n",
              "           0.86486,     0.86587,     0.86687,     0.86787,     0.86887,     0.86987,     0.87087,     0.87187,     0.87287,     0.87387,     0.87487,     0.87588,     0.87688,     0.87788,     0.87888,     0.87988,     0.88088,     0.88188,     0.88288,     0.88388,     0.88488,     0.88589,     0.88689,     0.88789,\n",
              "           0.88889,     0.88989,     0.89089,     0.89189,     0.89289,     0.89389,     0.89489,      0.8959,      0.8969,      0.8979,      0.8989,      0.8999,      0.9009,      0.9019,      0.9029,      0.9039,      0.9049,     0.90591,     0.90691,     0.90791,     0.90891,     0.90991,     0.91091,     0.91191,\n",
              "           0.91291,     0.91391,     0.91491,     0.91592,     0.91692,     0.91792,     0.91892,     0.91992,     0.92092,     0.92192,     0.92292,     0.92392,     0.92492,     0.92593,     0.92693,     0.92793,     0.92893,     0.92993,     0.93093,     0.93193,     0.93293,     0.93393,     0.93493,     0.93594,\n",
              "           0.93694,     0.93794,     0.93894,     0.93994,     0.94094,     0.94194,     0.94294,     0.94394,     0.94494,     0.94595,     0.94695,     0.94795,     0.94895,     0.94995,     0.95095,     0.95195,     0.95295,     0.95395,     0.95495,     0.95596,     0.95696,     0.95796,     0.95896,     0.95996,\n",
              "           0.96096,     0.96196,     0.96296,     0.96396,     0.96496,     0.96597,     0.96697,     0.96797,     0.96897,     0.96997,     0.97097,     0.97197,     0.97297,     0.97397,     0.97497,     0.97598,     0.97698,     0.97798,     0.97898,     0.97998,     0.98098,     0.98198,     0.98298,     0.98398,\n",
              "           0.98498,     0.98599,     0.98699,     0.98799,     0.98899,     0.98999,     0.99099,     0.99199,     0.99299,     0.99399,     0.99499,       0.996,       0.997,       0.998,       0.999,           1]), array([[    0.87879,     0.87879,     0.87576,      0.8697,     0.86061,     0.85152,     0.85152,     0.85152,     0.85152,     0.85152,     0.85152,     0.84848,     0.84848,     0.84848,     0.84848,     0.84242,     0.83939,     0.83939,     0.83939,     0.83939,     0.83636,     0.83636,     0.83636,\n",
              "            0.83333,      0.8303,     0.82219,     0.81818,     0.81818,     0.81515,     0.81515,     0.81515,     0.81515,     0.81515,     0.81515,     0.81212,     0.81212,     0.81212,     0.81212,     0.81212,     0.81212,     0.81212,     0.80967,     0.80909,     0.80909,     0.80606,     0.80606,\n",
              "            0.80606,     0.80606,     0.79697,     0.79697,     0.79697,     0.79697,     0.79697,     0.79697,     0.79697,     0.79666,     0.79394,     0.79394,     0.79128,     0.79091,     0.79091,     0.78988,     0.78788,     0.78788,     0.78788,     0.78679,     0.78551,     0.78485,     0.78485,\n",
              "            0.78485,     0.78485,     0.78485,     0.78485,     0.78485,     0.78262,     0.77946,     0.77879,     0.77879,     0.77879,     0.77879,     0.77879,     0.77879,     0.77879,     0.77879,     0.77879,     0.77273,     0.77273,     0.77273,     0.77273,     0.76992,      0.7697,      0.7697,\n",
              "             0.7697,      0.7697,      0.7697,      0.7697,      0.7697,      0.7697,      0.7697,      0.7697,     0.76667,     0.76667,     0.76667,     0.76364,     0.76364,     0.76364,     0.76364,     0.76364,     0.76102,     0.75758,     0.75758,     0.75758,     0.75715,     0.75455,     0.75455,\n",
              "            0.75455,     0.75455,     0.75455,     0.75455,     0.75455,     0.75286,     0.75152,     0.75152,     0.75152,     0.75152,     0.75152,     0.75152,     0.75152,     0.75152,     0.75115,     0.74949,     0.74848,     0.74848,     0.74848,     0.74848,     0.74848,     0.74848,     0.74848,\n",
              "            0.74848,     0.74848,     0.74848,     0.74848,     0.74848,     0.74848,     0.74848,     0.74848,     0.74848,     0.74848,     0.74848,     0.74848,     0.74848,     0.74827,      0.7468,     0.74545,     0.74545,     0.74545,     0.74545,     0.74545,     0.74545,     0.74545,     0.74545,\n",
              "            0.74545,     0.74545,     0.74545,     0.74545,     0.74545,     0.74545,     0.74545,     0.74545,     0.74545,     0.74545,     0.74545,     0.74545,     0.74545,     0.74545,     0.74545,     0.74545,     0.74545,     0.74545,     0.74545,     0.74545,     0.74545,     0.74545,     0.74545,\n",
              "            0.74545,     0.74315,     0.74242,     0.74242,     0.74242,     0.74242,     0.74242,     0.74242,     0.74242,     0.74242,     0.74242,     0.74242,     0.74242,     0.74242,     0.74242,     0.74242,     0.74242,     0.74242,     0.74242,     0.74242,     0.74242,     0.74242,     0.74242,\n",
              "            0.74242,     0.74242,     0.74242,     0.74242,     0.74242,     0.74242,     0.74242,     0.74242,     0.74242,     0.74242,     0.74242,     0.74242,     0.74242,     0.74242,     0.74242,     0.74242,     0.74242,     0.74242,     0.74242,     0.74242,     0.73998,     0.73636,     0.73636,\n",
              "            0.73636,     0.73636,     0.73636,     0.73636,     0.73636,     0.73636,     0.73636,     0.73636,     0.73636,     0.73636,     0.73636,     0.73636,     0.73636,     0.73636,     0.73636,     0.73623,      0.7352,     0.73416,     0.73333,     0.73333,     0.73333,     0.73333,     0.73333,\n",
              "            0.73333,     0.73333,     0.73333,     0.73333,     0.73333,     0.73333,     0.73333,     0.73333,     0.73333,     0.73333,     0.73333,     0.73333,     0.73333,     0.73333,     0.73333,     0.73333,     0.73333,     0.73333,     0.73333,     0.73333,     0.73333,     0.73333,     0.73333,\n",
              "            0.73333,     0.73333,     0.73333,     0.73333,     0.73333,     0.73333,      0.7331,     0.73023,     0.73001,     0.72979,     0.72957,     0.72934,     0.72912,      0.7289,     0.72868,     0.72846,     0.72823,     0.72801,     0.72779,     0.72757,     0.72735,     0.72424,     0.72424,\n",
              "            0.72424,     0.72424,     0.72121,     0.72121,     0.72121,     0.72121,     0.72121,     0.72121,     0.72121,     0.72112,     0.72068,     0.72023,     0.71979,     0.71935,      0.7189,     0.71846,     0.71818,     0.71818,     0.71818,     0.71818,     0.71818,     0.71818,     0.71818,\n",
              "            0.71818,     0.71818,     0.71818,     0.71818,     0.71818,     0.71643,     0.71515,     0.71515,     0.71515,     0.71515,     0.71515,     0.71515,     0.71515,     0.71515,     0.71515,     0.71515,     0.71515,     0.71515,     0.71471,     0.71382,     0.71294,     0.71203,      0.7109,\n",
              "            0.70977,     0.70909,     0.70909,     0.70909,     0.70606,     0.70606,     0.70606,     0.70606,     0.70606,     0.70606,     0.70606,     0.70606,     0.70606,     0.70606,     0.70606,     0.70606,     0.70606,     0.70606,     0.70404,     0.70303,     0.70303,     0.70303,     0.70303,\n",
              "            0.70303,     0.70303,     0.70303,     0.70303,     0.70303,     0.70303,     0.70303,     0.70303,     0.70303,     0.70303,     0.70303,     0.70303,     0.70303,     0.70303,     0.70303,     0.70303,     0.70303,     0.70303,     0.70303,     0.70303,     0.70303,     0.70303,     0.70303,\n",
              "            0.70298,     0.70142,     0.69993,      0.6991,     0.69827,     0.69745,     0.69697,     0.69697,     0.69697,     0.69697,     0.69697,     0.69636,     0.69558,      0.6948,     0.69403,     0.69394,     0.69394,     0.69394,     0.69394,     0.69377,     0.69312,     0.69247,     0.69181,\n",
              "            0.69116,     0.69082,     0.69067,     0.69052,     0.69037,     0.69022,     0.69007,     0.68992,     0.68977,     0.68962,     0.68947,     0.68932,     0.68917,     0.68902,     0.68887,     0.68872,     0.68857,     0.68842,     0.68827,     0.68812,     0.68797,     0.68763,     0.68698,\n",
              "            0.68632,     0.68567,     0.68502,     0.68485,     0.68485,     0.68485,     0.68485,     0.68485,     0.68418,      0.6834,     0.68262,     0.68185,     0.68182,     0.68182,     0.68182,     0.68182,     0.68182,     0.68182,     0.68182,     0.68182,     0.68182,     0.68182,     0.68182,\n",
              "            0.68182,     0.68182,     0.68182,     0.68182,     0.68182,     0.68182,     0.68182,     0.68182,     0.68182,     0.68182,     0.68182,     0.68182,     0.68182,     0.68182,     0.68182,     0.68182,     0.68182,     0.67879,     0.67879,     0.67879,     0.67879,     0.67879,     0.67879,\n",
              "            0.67879,     0.67873,     0.67821,      0.6777,     0.67718,     0.67666,     0.67614,     0.67576,     0.67576,     0.67576,     0.67576,     0.67576,     0.67568,     0.67549,      0.6753,      0.6751,     0.67491,     0.67471,     0.67452,     0.67433,     0.67413,     0.67394,     0.67374,\n",
              "            0.67355,     0.67335,     0.67316,     0.67297,     0.67277,     0.67034,      0.6697,      0.6697,      0.6697,      0.6697,      0.6697,      0.6697,      0.6697,      0.6697,      0.6697,      0.6697,      0.6697,      0.6697,      0.6697,      0.6697,      0.6697,      0.6697,     0.66905,\n",
              "            0.66667,     0.66667,     0.66667,     0.66667,     0.66667,     0.66667,     0.66667,     0.66667,     0.66667,     0.66667,     0.66667,     0.66667,     0.66667,     0.66667,     0.66667,     0.66667,     0.66667,     0.66667,     0.66667,     0.66667,     0.66667,     0.66667,     0.66619,\n",
              "            0.66557,     0.66495,     0.66432,      0.6637,     0.66364,     0.66364,     0.66364,     0.66364,     0.66364,     0.66364,     0.66364,     0.66334,     0.66282,      0.6623,     0.66179,     0.66127,     0.66075,     0.65949,     0.65793,     0.65335,      0.6518,     0.65101,     0.65039,\n",
              "            0.64976,     0.64914,     0.64852,     0.64848,     0.64848,      0.6478,     0.64711,     0.64642,     0.64573,     0.64545,     0.64545,     0.64545,     0.64545,     0.64545,     0.64545,     0.64545,     0.64545,     0.64545,     0.64545,     0.64545,     0.64545,      0.6442,     0.64209,\n",
              "            0.64131,     0.64054,     0.63976,     0.63885,     0.63781,     0.63678,     0.63636,     0.63636,     0.63636,     0.63636,     0.63636,     0.63636,     0.63636,     0.63636,     0.63636,     0.63636,     0.63592,     0.63468,     0.63344,     0.63333,     0.63333,     0.63333,     0.63333,\n",
              "            0.63333,     0.63333,     0.63333,     0.63333,     0.63333,     0.63333,     0.63333,     0.63333,     0.63333,     0.63333,     0.63296,     0.63249,     0.63201,     0.63153,     0.63105,     0.63058,      0.6303,      0.6303,      0.6303,      0.6303,     0.63028,     0.62972,     0.62915,\n",
              "            0.62859,     0.62802,     0.62746,     0.62697,     0.62653,     0.62609,     0.62564,      0.6252,     0.62475,     0.62431,     0.62337,     0.62233,      0.6213,     0.61931,     0.61515,     0.61515,     0.61515,     0.61515,     0.61515,     0.61487,     0.61212,     0.61212,     0.61212,\n",
              "            0.60909,     0.60909,     0.60909,     0.60909,     0.60909,     0.60909,     0.60879,     0.60791,     0.60702,     0.60613,     0.60606,     0.60606,     0.60606,     0.60606,     0.60606,     0.60606,     0.60295,     0.60206,     0.60118,     0.60029,     0.59697,     0.59697,     0.59697,\n",
              "            0.59697,     0.59697,     0.59697,     0.59697,     0.59697,     0.59697,     0.59697,     0.59697,     0.59669,     0.59607,     0.59544,     0.59482,      0.5942,     0.59055,     0.58993,     0.58931,     0.58869,     0.58807,     0.58376,     0.58221,     0.57879,     0.57857,     0.57779,\n",
              "            0.57701,     0.57624,     0.57528,     0.57404,      0.5728,     0.56886,     0.56797,     0.56708,     0.56667,     0.56653,     0.56446,     0.56176,     0.55996,     0.55892,     0.55789,     0.55367,     0.55243,     0.55133,     0.55064,     0.54995,     0.54926,     0.54857,     0.54758,\n",
              "            0.54655,     0.54551,     0.54545,     0.54093,      0.5361,     0.53558,     0.53507,     0.53455,     0.53403,     0.53351,     0.53296,      0.5324,     0.53184,     0.53127,     0.53071,     0.53001,     0.52897,     0.52794,     0.52653,     0.52446,     0.52146,     0.52121,     0.51979,\n",
              "            0.51519,     0.51412,     0.51309,     0.51212,     0.51212,     0.51212,     0.51212,     0.51009,     0.50825,     0.50701,     0.50557,      0.5035,     0.50062,     0.49876,     0.49721,     0.49394,     0.49394,     0.49394,     0.49394,      0.4931,     0.49221,     0.49133,     0.49091,\n",
              "            0.49049,     0.48752,      0.4869,     0.48628,     0.48565,     0.48503,     0.48137,      0.4793,     0.47646,     0.47335,     0.47273,     0.47273,     0.47273,     0.47223,     0.47167,      0.4711,     0.47054,     0.46998,     0.46917,     0.46814,      0.4671,     0.46344,     0.46137,\n",
              "            0.45865,     0.45758,     0.45758,     0.45421,     0.45266,     0.45119,     0.44995,      0.4487,     0.44848,     0.44848,     0.44848,     0.43988,     0.43142,      0.4303,      0.4303,      0.4303,     0.42727,     0.42727,     0.42727,     0.42727,     0.42727,     0.42221,     0.41981,\n",
              "            0.41145,     0.40835,     0.40573,     0.40449,     0.40325,     0.40175,      0.4002,     0.39457,     0.39115,     0.38395,     0.38188,      0.3788,     0.37673,     0.36942,     0.36018,     0.35667,     0.35512,     0.35389,     0.35286,     0.35182,     0.34242,     0.34016,     0.33939,\n",
              "            0.32851,     0.31623,     0.31259,     0.30078,     0.29577,      0.2933,     0.29175,     0.28948,     0.28487,     0.28119,     0.27994,     0.27835,     0.26647,      0.2644,     0.26038,     0.25883,     0.25032,     0.24108,      0.2379,     0.23169,     0.22547,     0.22258,     0.21608,\n",
              "            0.21383,     0.21228,     0.20933,     0.20622,     0.20017,      0.1879,     0.18278,     0.17713,     0.17251,     0.16608,     0.16175,     0.15365,     0.14796,     0.14426,      0.1383,     0.13675,     0.13402,     0.11941,      0.1132,     0.10501,     0.10228,     0.10021,     0.09441,\n",
              "           0.085167,    0.078955,    0.071216,     0.06956,    0.061977,    0.056419,    0.053954,    0.042053,    0.038947,    0.033203,    0.032426,    0.031649,    0.030873,    0.030028,    0.028992,    0.027957,    0.027122,    0.026678,    0.026235,    0.025791,    0.025347,    0.024903,     0.02446,\n",
              "           0.024056,    0.023691,    0.023325,     0.02296,    0.022594,    0.022229,    0.021863,    0.021498,    0.021115,    0.020672,    0.020228,    0.019784,    0.019341,    0.018897,    0.018453,     0.01804,    0.017674,    0.017309,    0.016944,    0.016578,    0.016213,    0.015847,    0.015482,\n",
              "           0.015032,     0.01379,    0.012547,    0.011894,    0.011549,    0.011204,    0.010859,    0.010514,    0.010169,   0.0098236,   0.0094785,   0.0091334,   0.0059639,   0.0057154,   0.0054669,   0.0052184,   0.0049699,   0.0047214,    0.004473,   0.0042245,    0.003976,   0.0037275,    0.003479,\n",
              "          0.0032305,           0,           0,           0,           0,           0,           0,           0,           0,           0,           0,           0,           0,           0,           0,           0,           0,           0,           0,           0,           0,           0,           0,\n",
              "                  0,           0,           0,           0,           0,           0,           0,           0,           0,           0,           0]]), 'Confidence', 'Recall']]\n",
              "fitness: 0.5433904969422363\n",
              "keys: ['metrics/precision(B)', 'metrics/recall(B)', 'metrics/mAP50(B)', 'metrics/mAP50-95(B)']\n",
              "maps: array([    0.51666])\n",
              "names: {0: 'pothole'}\n",
              "plot: True\n",
              "results_dict: {'metrics/precision(B)': 0.7696581960913906, 'metrics/recall(B)': 0.7189035355702023, 'metrics/mAP50(B)': 0.7839382808377844, 'metrics/mAP50-95(B)': 0.5166629653982865, 'fitness': 0.5433904969422363}\n",
              "save_dir: PosixPath('runs/detect/train2')\n",
              "speed: {'preprocess': 0.45027051653180805, 'inference': 10.46023512245121, 'loss': 0.001118595438792293, 'postprocess': 3.3756628968661886}\n",
              "task: 'detect'"
            ]
          },
          "execution_count": 13,
          "metadata": {},
          "output_type": "execute_result"
        }
      ],
      "source": [
        "model.train(data=\"/content/drive/MyDrive/Pothole.v1-raw.yolov8/data.yaml\", batch = 8 , imgsz = 640 , epochs = 100 , workers =1)"
      ]
    },
    {
      "cell_type": "code",
      "execution_count": null,
      "metadata": {
        "id": "1pB8neI6qqpi"
      },
      "outputs": [],
      "source": [
        "trained_model = YOLO(\"/content/drive/MyDrive/Pothole.v1-raw.yolov8/best.pt\")\n"
      ]
    },
    {
      "cell_type": "code",
      "execution_count": null,
      "metadata": {
        "colab": {
          "base_uri": "https://localhost:8080/"
        },
        "id": "fFw3aasBq5fd",
        "outputId": "dd0597e7-6a90-4a53-c598-c4a48f9edf17"
      },
      "outputs": [
        {
          "name": "stdout",
          "output_type": "stream",
          "text": [
            "\n",
            "image 1/1 /content/img-43_jpg.rf.a63cf022f8ba7dbadc62c5d274547b79.jpg: 640x640 4 potholes, 37.2ms\n",
            "Speed: 16.6ms preprocess, 37.2ms inference, 2.5ms postprocess per image at shape (1, 3, 640, 640)\n",
            "Results saved to \u001b[1mruns/detect/train22\u001b[0m\n"
          ]
        }
      ],
      "source": [
        "image_path = \"/content/img-43_jpg.rf.a63cf022f8ba7dbadc62c5d274547b79.jpg\"\n",
        "results = model.predict(source=image_path, save=True)\n"
      ]
    },
    {
      "cell_type": "code",
      "execution_count": null,
      "metadata": {
        "colab": {
          "base_uri": "https://localhost:8080/"
        },
        "id": "J29c66tnr0wO",
        "outputId": "d12bab1c-9f79-4876-f91f-cb57d143f3e6"
      },
      "outputs": [
        {
          "name": "stdout",
          "output_type": "stream",
          "text": [
            "\n",
            "Downloading https://t3.ftcdn.net/jpg/02/01/41/92/360_F_201419293_4CQG3pEVyRltQzy7ImZMJvWntCsMS4TM.jpg to '360_F_201419293_4CQG3pEVyRltQzy7ImZMJvWntCsMS4TM.jpg'...\n"
          ]
        },
        {
          "name": "stderr",
          "output_type": "stream",
          "text": [
            "100%|██████████| 72.1k/72.1k [00:00<00:00, 15.4MB/s]\n"
          ]
        },
        {
          "name": "stdout",
          "output_type": "stream",
          "text": [
            "image 1/1 /content/360_F_201419293_4CQG3pEVyRltQzy7ImZMJvWntCsMS4TM.jpg: 448x640 1 pothole, 199.8ms\n",
            "Speed: 3.0ms preprocess, 199.8ms inference, 2.1ms postprocess per image at shape (1, 3, 448, 640)\n",
            "Results saved to \u001b[1mruns/detect/train23\u001b[0m\n"
          ]
        }
      ],
      "source": [
        "image_path = \"https://t3.ftcdn.net/jpg/02/01/41/92/360_F_201419293_4CQG3pEVyRltQzy7ImZMJvWntCsMS4TM.jpg\"\n",
        "results = model.predict(source=image_path, save=True)\n"
      ]
    },
    {
      "cell_type": "code",
      "execution_count": null,
      "metadata": {
        "colab": {
          "base_uri": "https://localhost:8080/"
        },
        "id": "WWgvIcbGshP4",
        "outputId": "6511dfc3-705d-4f95-b65a-32b95767675d"
      },
      "outputs": [
        {
          "name": "stdout",
          "output_type": "stream",
          "text": [
            "\n",
            "Downloading https://imageio.forbes.com/blogs-images/laurenfix/files/2018/04/Pothole-damage.png to 'Pothole-damage.png'...\n",
            "WARNING ⚠️ Video stream unresponsive, please check your IP camera connection.\n",
            "WARNING ⚠️ Video stream unresponsive, please check your IP camera connection.\n",
            "WARNING ⚠️ Video stream unresponsive, please check your IP camera connection.\n"
          ]
        },
        {
          "name": "stderr",
          "output_type": "stream",
          "text": [
            "100%|██████████| 922k/922k [00:00<00:00, 54.0MB/s]"
          ]
        },
        {
          "name": "stdout",
          "output_type": "stream",
          "text": [
            "WARNING ⚠️ Video stream unresponsive, please check your IP camera connection.\n",
            "image 1/1 /content/Pothole-damage.png: 448x640 16 potholes, 27.4ms\n",
            "Speed: 3.2ms preprocess, 27.4ms inference, 2.1ms postprocess per image at shape (1, 3, 448, 640)\n",
            "Results saved to \u001b[1mruns/detect/train25\u001b[0m\n"
          ]
        },
        {
          "name": "stderr",
          "output_type": "stream",
          "text": [
            "\n"
          ]
        },
        {
          "name": "stdout",
          "output_type": "stream",
          "text": [
            "WARNING ⚠️ Video stream unresponsive, please check your IP camera connection.\n",
            "WARNING ⚠️ Video stream unresponsive, please check your IP camera connection.\n",
            "WARNING ⚠️ Video stream unresponsive, please check your IP camera connection.\n",
            "WARNING ⚠️ Video stream unresponsive, please check your IP camera connection.\n",
            "WARNING ⚠️ Video stream unresponsive, please check your IP camera connection.\n",
            "WARNING ⚠️ Video stream unresponsive, please check your IP camera connection.\n"
          ]
        }
      ],
      "source": [
        "image_path = \"https://imageio.forbes.com/blogs-images/laurenfix/files/2018/04/Pothole-damage.png\"\n",
        "results = model.predict(source=image_path, save=True)"
      ]
    },
    {
      "cell_type": "markdown",
      "metadata": {
        "id": "ZpaWn-q_Kqda"
      },
      "source": []
    },
    {
      "cell_type": "code",
      "execution_count": null,
      "metadata": {
        "colab": {
          "base_uri": "https://localhost:8080/"
        },
        "id": "Nm5SEisSu4h5",
        "outputId": "3f177a05-0211-4726-8cd5-494f78061d35"
      },
      "outputs": [
        {
          "name": "stdout",
          "output_type": "stream",
          "text": [
            "\n",
            "Found https://www.shutterstock.com/image-photo/car-wheel-closeup-near-pothole-260nw-1892815027.jpg locally at car-wheel-closeup-near-pothole-260nw-1892815027.jpg\n",
            "image 1/1 /content/car-wheel-closeup-near-pothole-260nw-1892815027.jpg: 480x640 1 pothole, 39.4ms\n",
            "Speed: 3.9ms preprocess, 39.4ms inference, 7.0ms postprocess per image at shape (1, 3, 480, 640)\n",
            "Results saved to \u001b[1mruns/detect/train28\u001b[0m\n",
            "WARNING ⚠️ Video stream unresponsive, please check your IP camera connection.\n",
            "WARNING ⚠️ Video stream unresponsive, please check your IP camera connection.\n",
            "WARNING ⚠️ Video stream unresponsive, please check your IP camera connection.\n",
            "WARNING ⚠️ Video stream unresponsive, please check your IP camera connection.\n",
            "WARNING ⚠️ Video stream unresponsive, please check your IP camera connection.\n"
          ]
        }
      ],
      "source": [
        "image_path = \"https://www.shutterstock.com/image-photo/car-wheel-closeup-near-pothole-260nw-1892815027.jpg\"\n",
        "results = model.predict(source=image_path, save=True)"
      ]
    },
    {
      "cell_type": "code",
      "execution_count": null,
      "metadata": {
        "colab": {
          "base_uri": "https://localhost:8080/"
        },
        "id": "7SNN2LfRvRGO",
        "outputId": "0717c6af-cd9c-4d4e-c86e-4d3abec368b6"
      },
      "outputs": [
        {
          "name": "stdout",
          "output_type": "stream",
          "text": [
            "\n",
            "\n",
            "WARNING ⚠️ inference results will accumulate in RAM unless `stream=True` is passed, causing potential out-of-memory\n",
            "errors for large sources or long-running streams and videos. See https://docs.ultralytics.com/modes/predict/ for help.\n",
            "\n",
            "Example:\n",
            "    results = model(source=..., stream=True)  # generator of Results objects\n",
            "    for r in results:\n",
            "        boxes = r.boxes  # Boxes object for bbox outputs\n",
            "        masks = r.masks  # Masks object for segment masks outputs\n",
            "        probs = r.probs  # Class probabilities for classification outputs\n",
            "\n",
            "WARNING ⚠️ Video stream unresponsive, please check your IP camera connection.\n",
            "WARNING ⚠️ Video stream unresponsive, please check your IP camera connection.\n",
            "WARNING ⚠️ Video stream unresponsive, please check your IP camera connection.\n",
            "WARNING ⚠️ Video stream unresponsive, please check your IP camera connection.\n",
            "WARNING ⚠️ Video stream unresponsive, please check your IP camera connection.\n",
            "WARNING ⚠️ Video stream unresponsive, please check your IP camera connection.\n",
            "WARNING ⚠️ Video stream unresponsive, please check your IP camera connection.\n",
            "WARNING ⚠️ Video stream unresponsive, please check your IP camera connection.\n",
            "WARNING ⚠️ Video stream unresponsive, please check your IP camera connection.\n",
            "WARNING ⚠️ Video stream unresponsive, please check your IP camera connection.\n",
            "WARNING ⚠️ Video stream unresponsive, please check your IP camera connection.\n",
            "WARNING ⚠️ Video stream unresponsive, please check your IP camera connection.\n",
            "WARNING ⚠️ Video stream unresponsive, please check your IP camera connection.\n",
            "WARNING ⚠️ Video stream unresponsive, please check your IP camera connection.\n",
            "WARNING ⚠️ Video stream unresponsive, please check your IP camera connection.\n",
            "WARNING ⚠️ Video stream unresponsive, please check your IP camera connection.\n",
            "WARNING ⚠️ Video stream unresponsive, please check your IP camera connection.\n",
            "WARNING ⚠️ Video stream unresponsive, please check your IP camera connection.\n",
            "WARNING ⚠️ Video stream unresponsive, please check your IP camera connection.\n",
            "WARNING ⚠️ Video stream unresponsive, please check your IP camera connection.\n",
            "WARNING ⚠️ Video stream unresponsive, please check your IP camera connection.\n",
            "WARNING ⚠️ Video stream unresponsive, please check your IP camera connection.\n",
            "WARNING ⚠️ Video stream unresponsive, please check your IP camera connection.\n",
            "WARNING ⚠️ Video stream unresponsive, please check your IP camera connection.\n",
            "WARNING ⚠️ Video stream unresponsive, please check your IP camera connection.\n",
            "video 1/1 (frame 1/692) /content/potholes_video.mp4: 384x640 7 potholes, 2675.4ms\n",
            "video 1/1 (frame 2/692) /content/potholes_video.mp4: 384x640 8 potholes, 11.7ms\n",
            "video 1/1 (frame 3/692) /content/potholes_video.mp4: 384x640 7 potholes, 12.3ms\n",
            "video 1/1 (frame 4/692) /content/potholes_video.mp4: 384x640 8 potholes, 11.5ms\n",
            "WARNING ⚠️ Video stream unresponsive, please check your IP camera connection.\n",
            "video 1/1 (frame 5/692) /content/potholes_video.mp4: 384x640 8 potholes, 14.3ms\n",
            "video 1/1 (frame 6/692) /content/potholes_video.mp4: 384x640 8 potholes, 11.0ms\n",
            "video 1/1 (frame 7/692) /content/potholes_video.mp4: 384x640 6 potholes, 11.4ms\n",
            "WARNING ⚠️ Video stream unresponsive, please check your IP camera connection.\n",
            "video 1/1 (frame 8/692) /content/potholes_video.mp4: 384x640 8 potholes, 11.7ms\n",
            "video 1/1 (frame 9/692) /content/potholes_video.mp4: 384x640 9 potholes, 11.5ms\n",
            "video 1/1 (frame 10/692) /content/potholes_video.mp4: 384x640 9 potholes, 12.1ms\n",
            "video 1/1 (frame 11/692) /content/potholes_video.mp4: 384x640 9 potholes, 11.3ms\n",
            "WARNING ⚠️ Video stream unresponsive, please check your IP camera connection.\n",
            "video 1/1 (frame 12/692) /content/potholes_video.mp4: 384x640 9 potholes, 14.4ms\n",
            "video 1/1 (frame 13/692) /content/potholes_video.mp4: 384x640 10 potholes, 11.1ms\n",
            "video 1/1 (frame 14/692) /content/potholes_video.mp4: 384x640 10 potholes, 11.6ms\n",
            "WARNING ⚠️ Video stream unresponsive, please check your IP camera connection.\n",
            "video 1/1 (frame 15/692) /content/potholes_video.mp4: 384x640 8 potholes, 13.7ms\n",
            "video 1/1 (frame 16/692) /content/potholes_video.mp4: 384x640 8 potholes, 11.2ms\n",
            "video 1/1 (frame 17/692) /content/potholes_video.mp4: 384x640 9 potholes, 11.9ms\n",
            "WARNING ⚠️ Video stream unresponsive, please check your IP camera connection.\n",
            "video 1/1 (frame 18/692) /content/potholes_video.mp4: 384x640 9 potholes, 16.0ms\n",
            "video 1/1 (frame 19/692) /content/potholes_video.mp4: 384x640 10 potholes, 11.0ms\n",
            "video 1/1 (frame 20/692) /content/potholes_video.mp4: 384x640 9 potholes, 11.0ms\n",
            "video 1/1 (frame 21/692) /content/potholes_video.mp4: 384x640 10 potholes, 11.7ms\n",
            "WARNING ⚠️ Video stream unresponsive, please check your IP camera connection.\n",
            "video 1/1 (frame 22/692) /content/potholes_video.mp4: 384x640 8 potholes, 14.7ms\n",
            "video 1/1 (frame 23/692) /content/potholes_video.mp4: 384x640 8 potholes, 11.2ms\n",
            "video 1/1 (frame 24/692) /content/potholes_video.mp4: 384x640 8 potholes, 11.1ms\n",
            "WARNING ⚠️ Video stream unresponsive, please check your IP camera connection.\n",
            "video 1/1 (frame 25/692) /content/potholes_video.mp4: 384x640 9 potholes, 13.3ms\n",
            "video 1/1 (frame 26/692) /content/potholes_video.mp4: 384x640 7 potholes, 11.5ms\n",
            "video 1/1 (frame 27/692) /content/potholes_video.mp4: 384x640 8 potholes, 11.1ms\n",
            "WARNING ⚠️ Video stream unresponsive, please check your IP camera connection.\n",
            "video 1/1 (frame 28/692) /content/potholes_video.mp4: 384x640 9 potholes, 15.2ms\n",
            "video 1/1 (frame 29/692) /content/potholes_video.mp4: 384x640 12 potholes, 11.2ms\n",
            "video 1/1 (frame 30/692) /content/potholes_video.mp4: 384x640 11 potholes, 11.0ms\n",
            "video 1/1 (frame 31/692) /content/potholes_video.mp4: 384x640 13 potholes, 11.4ms\n",
            "WARNING ⚠️ Video stream unresponsive, please check your IP camera connection.\n",
            "video 1/1 (frame 32/692) /content/potholes_video.mp4: 384x640 11 potholes, 15.0ms\n",
            "video 1/1 (frame 33/692) /content/potholes_video.mp4: 384x640 10 potholes, 11.2ms\n",
            "video 1/1 (frame 34/692) /content/potholes_video.mp4: 384x640 11 potholes, 11.2ms\n",
            "WARNING ⚠️ Video stream unresponsive, please check your IP camera connection.\n",
            "video 1/1 (frame 35/692) /content/potholes_video.mp4: 384x640 11 potholes, 11.5ms\n",
            "video 1/1 (frame 36/692) /content/potholes_video.mp4: 384x640 9 potholes, 11.4ms\n",
            "video 1/1 (frame 37/692) /content/potholes_video.mp4: 384x640 9 potholes, 11.5ms\n",
            "video 1/1 (frame 38/692) /content/potholes_video.mp4: 384x640 9 potholes, 11.2ms\n",
            "WARNING ⚠️ Video stream unresponsive, please check your IP camera connection.\n",
            "video 1/1 (frame 39/692) /content/potholes_video.mp4: 384x640 10 potholes, 14.7ms\n",
            "video 1/1 (frame 40/692) /content/potholes_video.mp4: 384x640 7 potholes, 11.6ms\n",
            "video 1/1 (frame 41/692) /content/potholes_video.mp4: 384x640 9 potholes, 11.3ms\n",
            "WARNING ⚠️ Video stream unresponsive, please check your IP camera connection.\n",
            "video 1/1 (frame 42/692) /content/potholes_video.mp4: 384x640 8 potholes, 14.0ms\n",
            "video 1/1 (frame 43/692) /content/potholes_video.mp4: 384x640 9 potholes, 11.9ms\n",
            "video 1/1 (frame 44/692) /content/potholes_video.mp4: 384x640 10 potholes, 11.3ms\n",
            "WARNING ⚠️ Video stream unresponsive, please check your IP camera connection.\n",
            "video 1/1 (frame 45/692) /content/potholes_video.mp4: 384x640 8 potholes, 11.4ms\n",
            "video 1/1 (frame 46/692) /content/potholes_video.mp4: 384x640 9 potholes, 11.1ms\n",
            "video 1/1 (frame 47/692) /content/potholes_video.mp4: 384x640 9 potholes, 11.8ms\n",
            "WARNING ⚠️ Video stream unresponsive, please check your IP camera connection.\n",
            "video 1/1 (frame 48/692) /content/potholes_video.mp4: 384x640 10 potholes, 11.8ms\n",
            "video 1/1 (frame 49/692) /content/potholes_video.mp4: 384x640 10 potholes, 11.1ms\n",
            "video 1/1 (frame 50/692) /content/potholes_video.mp4: 384x640 10 potholes, 11.0ms\n",
            "video 1/1 (frame 51/692) /content/potholes_video.mp4: 384x640 9 potholes, 12.1ms\n",
            "WARNING ⚠️ Video stream unresponsive, please check your IP camera connection.\n",
            "video 1/1 (frame 52/692) /content/potholes_video.mp4: 384x640 12 potholes, 14.8ms\n",
            "video 1/1 (frame 53/692) /content/potholes_video.mp4: 384x640 11 potholes, 11.1ms\n",
            "video 1/1 (frame 54/692) /content/potholes_video.mp4: 384x640 11 potholes, 11.9ms\n",
            "WARNING ⚠️ Video stream unresponsive, please check your IP camera connection.\n",
            "video 1/1 (frame 55/692) /content/potholes_video.mp4: 384x640 9 potholes, 13.6ms\n",
            "video 1/1 (frame 56/692) /content/potholes_video.mp4: 384x640 9 potholes, 11.0ms\n",
            "video 1/1 (frame 57/692) /content/potholes_video.mp4: 384x640 8 potholes, 11.2ms\n",
            "video 1/1 (frame 58/692) /content/potholes_video.mp4: 384x640 8 potholes, 14.3ms\n",
            "WARNING ⚠️ Video stream unresponsive, please check your IP camera connection.\n",
            "video 1/1 (frame 59/692) /content/potholes_video.mp4: 384x640 8 potholes, 13.9ms\n",
            "video 1/1 (frame 60/692) /content/potholes_video.mp4: 384x640 9 potholes, 12.5ms\n",
            "video 1/1 (frame 61/692) /content/potholes_video.mp4: 384x640 11 potholes, 12.4ms\n",
            "WARNING ⚠️ Video stream unresponsive, please check your IP camera connection.\n",
            "video 1/1 (frame 62/692) /content/potholes_video.mp4: 384x640 9 potholes, 13.5ms\n",
            "video 1/1 (frame 63/692) /content/potholes_video.mp4: 384x640 10 potholes, 12.6ms\n",
            "video 1/1 (frame 64/692) /content/potholes_video.mp4: 384x640 9 potholes, 12.4ms\n",
            "WARNING ⚠️ Video stream unresponsive, please check your IP camera connection.\n",
            "video 1/1 (frame 65/692) /content/potholes_video.mp4: 384x640 11 potholes, 12.6ms\n",
            "video 1/1 (frame 66/692) /content/potholes_video.mp4: 384x640 10 potholes, 12.5ms\n",
            "video 1/1 (frame 67/692) /content/potholes_video.mp4: 384x640 9 potholes, 12.6ms\n",
            "video 1/1 (frame 68/692) /content/potholes_video.mp4: 384x640 14 potholes, 12.6ms\n",
            "WARNING ⚠️ Video stream unresponsive, please check your IP camera connection.\n",
            "video 1/1 (frame 69/692) /content/potholes_video.mp4: 384x640 9 potholes, 15.2ms\n",
            "video 1/1 (frame 70/692) /content/potholes_video.mp4: 384x640 10 potholes, 19.4ms\n",
            "video 1/1 (frame 71/692) /content/potholes_video.mp4: 384x640 13 potholes, 12.7ms\n",
            "WARNING ⚠️ Video stream unresponsive, please check your IP camera connection.\n",
            "video 1/1 (frame 72/692) /content/potholes_video.mp4: 384x640 12 potholes, 12.9ms\n",
            "video 1/1 (frame 73/692) /content/potholes_video.mp4: 384x640 10 potholes, 12.7ms\n",
            "video 1/1 (frame 74/692) /content/potholes_video.mp4: 384x640 10 potholes, 12.7ms\n",
            "WARNING ⚠️ Video stream unresponsive, please check your IP camera connection.\n",
            "video 1/1 (frame 75/692) /content/potholes_video.mp4: 384x640 12 potholes, 12.6ms\n",
            "video 1/1 (frame 76/692) /content/potholes_video.mp4: 384x640 10 potholes, 12.8ms\n",
            "video 1/1 (frame 77/692) /content/potholes_video.mp4: 384x640 10 potholes, 13.3ms\n",
            "WARNING ⚠️ Video stream unresponsive, please check your IP camera connection.\n",
            "video 1/1 (frame 78/692) /content/potholes_video.mp4: 384x640 11 potholes, 12.8ms\n",
            "video 1/1 (frame 79/692) /content/potholes_video.mp4: 384x640 11 potholes, 12.7ms\n",
            "video 1/1 (frame 80/692) /content/potholes_video.mp4: 384x640 15 potholes, 12.6ms\n",
            "video 1/1 (frame 81/692) /content/potholes_video.mp4: 384x640 11 potholes, 12.7ms\n",
            "WARNING ⚠️ Video stream unresponsive, please check your IP camera connection.\n",
            "video 1/1 (frame 82/692) /content/potholes_video.mp4: 384x640 11 potholes, 12.6ms\n",
            "video 1/1 (frame 83/692) /content/potholes_video.mp4: 384x640 11 potholes, 12.7ms\n",
            "video 1/1 (frame 84/692) /content/potholes_video.mp4: 384x640 11 potholes, 12.7ms\n",
            "WARNING ⚠️ Video stream unresponsive, please check your IP camera connection.\n",
            "video 1/1 (frame 85/692) /content/potholes_video.mp4: 384x640 13 potholes, 14.7ms\n",
            "video 1/1 (frame 86/692) /content/potholes_video.mp4: 384x640 10 potholes, 14.4ms\n",
            "video 1/1 (frame 87/692) /content/potholes_video.mp4: 384x640 12 potholes, 14.9ms\n",
            "WARNING ⚠️ Video stream unresponsive, please check your IP camera connection.\n",
            "video 1/1 (frame 88/692) /content/potholes_video.mp4: 384x640 15 potholes, 14.2ms\n",
            "video 1/1 (frame 89/692) /content/potholes_video.mp4: 384x640 11 potholes, 13.0ms\n",
            "video 1/1 (frame 90/692) /content/potholes_video.mp4: 384x640 11 potholes, 13.0ms\n",
            "WARNING ⚠️ Video stream unresponsive, please check your IP camera connection.\n",
            "video 1/1 (frame 91/692) /content/potholes_video.mp4: 384x640 12 potholes, 12.8ms\n",
            "video 1/1 (frame 92/692) /content/potholes_video.mp4: 384x640 9 potholes, 13.7ms\n",
            "video 1/1 (frame 93/692) /content/potholes_video.mp4: 384x640 10 potholes, 13.1ms\n",
            "video 1/1 (frame 94/692) /content/potholes_video.mp4: 384x640 12 potholes, 13.2ms\n",
            "WARNING ⚠️ Video stream unresponsive, please check your IP camera connection.\n",
            "video 1/1 (frame 95/692) /content/potholes_video.mp4: 384x640 13 potholes, 17.2ms\n",
            "video 1/1 (frame 96/692) /content/potholes_video.mp4: 384x640 13 potholes, 14.9ms\n",
            "video 1/1 (frame 97/692) /content/potholes_video.mp4: 384x640 9 potholes, 13.3ms\n",
            "video 1/1 (frame 98/692) /content/potholes_video.mp4: 384x640 10 potholes, 24.6ms\n",
            "WARNING ⚠️ Video stream unresponsive, please check your IP camera connection.\n",
            "video 1/1 (frame 99/692) /content/potholes_video.mp4: 384x640 11 potholes, 13.2ms\n",
            "video 1/1 (frame 100/692) /content/potholes_video.mp4: 384x640 7 potholes, 13.1ms\n",
            "video 1/1 (frame 101/692) /content/potholes_video.mp4: 384x640 12 potholes, 14.7ms\n",
            "video 1/1 (frame 102/692) /content/potholes_video.mp4: 384x640 9 potholes, 23.7ms\n",
            "WARNING ⚠️ Video stream unresponsive, please check your IP camera connection.\n",
            "video 1/1 (frame 103/692) /content/potholes_video.mp4: 384x640 15 potholes, 13.6ms\n",
            "video 1/1 (frame 104/692) /content/potholes_video.mp4: 384x640 12 potholes, 13.3ms\n",
            "WARNING ⚠️ Video stream unresponsive, please check your IP camera connection.\n",
            "video 1/1 (frame 105/692) /content/potholes_video.mp4: 384x640 11 potholes, 25.0ms\n",
            "video 1/1 (frame 106/692) /content/potholes_video.mp4: 384x640 9 potholes, 13.8ms\n",
            "video 1/1 (frame 107/692) /content/potholes_video.mp4: 384x640 10 potholes, 27.7ms\n",
            "WARNING ⚠️ Video stream unresponsive, please check your IP camera connection.\n",
            "video 1/1 (frame 108/692) /content/potholes_video.mp4: 384x640 11 potholes, 17.6ms\n",
            "video 1/1 (frame 109/692) /content/potholes_video.mp4: 384x640 10 potholes, 17.7ms\n",
            "video 1/1 (frame 110/692) /content/potholes_video.mp4: 384x640 13 potholes, 14.2ms\n",
            "video 1/1 (frame 111/692) /content/potholes_video.mp4: 384x640 10 potholes, 14.2ms\n",
            "WARNING ⚠️ Video stream unresponsive, please check your IP camera connection.\n",
            "video 1/1 (frame 112/692) /content/potholes_video.mp4: 384x640 12 potholes, 14.0ms\n",
            "video 1/1 (frame 113/692) /content/potholes_video.mp4: 384x640 9 potholes, 15.1ms\n",
            "video 1/1 (frame 114/692) /content/potholes_video.mp4: 384x640 9 potholes, 14.4ms\n",
            "video 1/1 (frame 115/692) /content/potholes_video.mp4: 384x640 10 potholes, 14.4ms\n",
            "WARNING ⚠️ Video stream unresponsive, please check your IP camera connection.\n",
            "video 1/1 (frame 116/692) /content/potholes_video.mp4: 384x640 10 potholes, 24.4ms\n",
            "video 1/1 (frame 117/692) /content/potholes_video.mp4: 384x640 9 potholes, 14.1ms\n",
            "video 1/1 (frame 118/692) /content/potholes_video.mp4: 384x640 9 potholes, 26.6ms\n",
            "WARNING ⚠️ Video stream unresponsive, please check your IP camera connection.\n",
            "video 1/1 (frame 119/692) /content/potholes_video.mp4: 384x640 13 potholes, 21.0ms\n",
            "video 1/1 (frame 120/692) /content/potholes_video.mp4: 384x640 13 potholes, 14.6ms\n",
            "video 1/1 (frame 121/692) /content/potholes_video.mp4: 384x640 10 potholes, 14.5ms\n",
            "video 1/1 (frame 122/692) /content/potholes_video.mp4: 384x640 11 potholes, 15.5ms\n",
            "WARNING ⚠️ Video stream unresponsive, please check your IP camera connection.\n",
            "video 1/1 (frame 123/692) /content/potholes_video.mp4: 384x640 11 potholes, 15.0ms\n",
            "video 1/1 (frame 124/692) /content/potholes_video.mp4: 384x640 12 potholes, 15.0ms\n",
            "video 1/1 (frame 125/692) /content/potholes_video.mp4: 384x640 13 potholes, 17.0ms\n",
            "WARNING ⚠️ Video stream unresponsive, please check your IP camera connection.\n",
            "video 1/1 (frame 126/692) /content/potholes_video.mp4: 384x640 11 potholes, 15.1ms\n",
            "video 1/1 (frame 127/692) /content/potholes_video.mp4: 384x640 15 potholes, 15.4ms\n",
            "video 1/1 (frame 128/692) /content/potholes_video.mp4: 384x640 11 potholes, 15.7ms\n",
            "WARNING ⚠️ Video stream unresponsive, please check your IP camera connection.\n",
            "video 1/1 (frame 129/692) /content/potholes_video.mp4: 384x640 12 potholes, 15.0ms\n",
            "video 1/1 (frame 130/692) /content/potholes_video.mp4: 384x640 12 potholes, 28.2ms\n",
            "WARNING ⚠️ Video stream unresponsive, please check your IP camera connection.\n",
            "video 1/1 (frame 131/692) /content/potholes_video.mp4: 384x640 11 potholes, 25.3ms\n",
            "video 1/1 (frame 132/692) /content/potholes_video.mp4: 384x640 11 potholes, 15.4ms\n",
            "video 1/1 (frame 133/692) /content/potholes_video.mp4: 384x640 11 potholes, 26.9ms\n",
            "WARNING ⚠️ Video stream unresponsive, please check your IP camera connection.\n",
            "video 1/1 (frame 134/692) /content/potholes_video.mp4: 384x640 8 potholes, 19.4ms\n",
            "video 1/1 (frame 135/692) /content/potholes_video.mp4: 384x640 7 potholes, 16.0ms\n",
            "video 1/1 (frame 136/692) /content/potholes_video.mp4: 384x640 6 potholes, 26.1ms\n",
            "WARNING ⚠️ Video stream unresponsive, please check your IP camera connection.\n",
            "video 1/1 (frame 137/692) /content/potholes_video.mp4: 384x640 6 potholes, 19.3ms\n",
            "video 1/1 (frame 138/692) /content/potholes_video.mp4: 384x640 9 potholes, 16.2ms\n",
            "video 1/1 (frame 139/692) /content/potholes_video.mp4: 384x640 9 potholes, 16.0ms\n",
            "WARNING ⚠️ Video stream unresponsive, please check your IP camera connection.\n",
            "video 1/1 (frame 140/692) /content/potholes_video.mp4: 384x640 9 potholes, 19.9ms\n",
            "video 1/1 (frame 141/692) /content/potholes_video.mp4: 384x640 8 potholes, 16.5ms\n",
            "video 1/1 (frame 142/692) /content/potholes_video.mp4: 384x640 6 potholes, 16.5ms\n",
            "video 1/1 (frame 143/692) /content/potholes_video.mp4: 384x640 6 potholes, 16.4ms\n",
            "WARNING ⚠️ Video stream unresponsive, please check your IP camera connection.\n",
            "video 1/1 (frame 144/692) /content/potholes_video.mp4: 384x640 6 potholes, 17.5ms\n",
            "video 1/1 (frame 145/692) /content/potholes_video.mp4: 384x640 6 potholes, 23.1ms\n",
            "video 1/1 (frame 146/692) /content/potholes_video.mp4: 384x640 7 potholes, 37.7ms\n",
            "WARNING ⚠️ Video stream unresponsive, please check your IP camera connection.\n",
            "video 1/1 (frame 147/692) /content/potholes_video.mp4: 384x640 6 potholes, 27.0ms\n",
            "video 1/1 (frame 148/692) /content/potholes_video.mp4: 384x640 6 potholes, 17.4ms\n",
            "video 1/1 (frame 149/692) /content/potholes_video.mp4: 384x640 7 potholes, 17.1ms\n",
            "WARNING ⚠️ Video stream unresponsive, please check your IP camera connection.\n",
            "video 1/1 (frame 150/692) /content/potholes_video.mp4: 384x640 6 potholes, 21.0ms\n",
            "video 1/1 (frame 151/692) /content/potholes_video.mp4: 384x640 8 potholes, 17.3ms\n",
            "WARNING ⚠️ Video stream unresponsive, please check your IP camera connection.\n",
            "video 1/1 (frame 152/692) /content/potholes_video.mp4: 384x640 10 potholes, 19.2ms\n",
            "video 1/1 (frame 153/692) /content/potholes_video.mp4: 384x640 7 potholes, 17.3ms\n",
            "video 1/1 (frame 154/692) /content/potholes_video.mp4: 384x640 7 potholes, 19.9ms\n",
            "video 1/1 (frame 155/692) /content/potholes_video.mp4: 384x640 5 potholes, 20.1ms\n",
            "WARNING ⚠️ Video stream unresponsive, please check your IP camera connection.\n",
            "video 1/1 (frame 156/692) /content/potholes_video.mp4: 384x640 7 potholes, 21.6ms\n",
            "video 1/1 (frame 157/692) /content/potholes_video.mp4: 384x640 7 potholes, 17.2ms\n",
            "WARNING ⚠️ Video stream unresponsive, please check your IP camera connection.\n",
            "video 1/1 (frame 158/692) /content/potholes_video.mp4: 384x640 9 potholes, 20.2ms\n",
            "video 1/1 (frame 159/692) /content/potholes_video.mp4: 384x640 8 potholes, 20.1ms\n",
            "video 1/1 (frame 160/692) /content/potholes_video.mp4: 384x640 8 potholes, 18.9ms\n",
            "WARNING ⚠️ Video stream unresponsive, please check your IP camera connection.\n",
            "video 1/1 (frame 161/692) /content/potholes_video.mp4: 384x640 6 potholes, 18.1ms\n",
            "video 1/1 (frame 162/692) /content/potholes_video.mp4: 384x640 5 potholes, 17.9ms\n",
            "video 1/1 (frame 163/692) /content/potholes_video.mp4: 384x640 6 potholes, 17.5ms\n",
            "video 1/1 (frame 164/692) /content/potholes_video.mp4: 384x640 9 potholes, 19.0ms\n",
            "WARNING ⚠️ Video stream unresponsive, please check your IP camera connection.\n",
            "video 1/1 (frame 165/692) /content/potholes_video.mp4: 384x640 7 potholes, 26.4ms\n",
            "video 1/1 (frame 166/692) /content/potholes_video.mp4: 384x640 6 potholes, 17.5ms\n",
            "video 1/1 (frame 167/692) /content/potholes_video.mp4: 384x640 7 potholes, 33.7ms\n",
            "WARNING ⚠️ Video stream unresponsive, please check your IP camera connection.\n",
            "video 1/1 (frame 168/692) /content/potholes_video.mp4: 384x640 5 potholes, 17.7ms\n",
            "video 1/1 (frame 169/692) /content/potholes_video.mp4: 384x640 5 potholes, 18.8ms\n",
            "video 1/1 (frame 170/692) /content/potholes_video.mp4: 384x640 7 potholes, 19.8ms\n",
            "WARNING ⚠️ Video stream unresponsive, please check your IP camera connection.\n",
            "video 1/1 (frame 171/692) /content/potholes_video.mp4: 384x640 5 potholes, 41.1ms\n",
            "video 1/1 (frame 172/692) /content/potholes_video.mp4: 384x640 5 potholes, 18.5ms\n",
            "video 1/1 (frame 173/692) /content/potholes_video.mp4: 384x640 6 potholes, 31.1ms\n",
            "WARNING ⚠️ Video stream unresponsive, please check your IP camera connection.\n",
            "video 1/1 (frame 174/692) /content/potholes_video.mp4: 384x640 5 potholes, 33.5ms\n",
            "video 1/1 (frame 175/692) /content/potholes_video.mp4: 384x640 5 potholes, 18.2ms\n",
            "video 1/1 (frame 176/692) /content/potholes_video.mp4: 384x640 6 potholes, 23.6ms\n",
            "WARNING ⚠️ Video stream unresponsive, please check your IP camera connection.\n",
            "video 1/1 (frame 177/692) /content/potholes_video.mp4: 384x640 6 potholes, 24.2ms\n",
            "video 1/1 (frame 178/692) /content/potholes_video.mp4: 384x640 5 potholes, 18.2ms\n",
            "video 1/1 (frame 179/692) /content/potholes_video.mp4: 384x640 6 potholes, 26.9ms\n",
            "WARNING ⚠️ Video stream unresponsive, please check your IP camera connection.\n",
            "video 1/1 (frame 180/692) /content/potholes_video.mp4: 384x640 5 potholes, 18.5ms\n",
            "video 1/1 (frame 181/692) /content/potholes_video.mp4: 384x640 5 potholes, 29.7ms\n",
            "WARNING ⚠️ Video stream unresponsive, please check your IP camera connection.\n",
            "video 1/1 (frame 182/692) /content/potholes_video.mp4: 384x640 4 potholes, 23.4ms\n",
            "video 1/1 (frame 183/692) /content/potholes_video.mp4: 384x640 6 potholes, 18.8ms\n",
            "video 1/1 (frame 184/692) /content/potholes_video.mp4: 384x640 6 potholes, 32.2ms\n",
            "WARNING ⚠️ Video stream unresponsive, please check your IP camera connection.\n",
            "video 1/1 (frame 185/692) /content/potholes_video.mp4: 384x640 5 potholes, 26.8ms\n",
            "video 1/1 (frame 186/692) /content/potholes_video.mp4: 384x640 5 potholes, 19.4ms\n",
            "WARNING ⚠️ Video stream unresponsive, please check your IP camera connection.\n",
            "video 1/1 (frame 187/692) /content/potholes_video.mp4: 384x640 5 potholes, 29.1ms\n",
            "video 1/1 (frame 188/692) /content/potholes_video.mp4: 384x640 5 potholes, 19.1ms\n",
            "video 1/1 (frame 189/692) /content/potholes_video.mp4: 384x640 5 potholes, 32.8ms\n",
            "video 1/1 (frame 190/692) /content/potholes_video.mp4: 384x640 4 potholes, 19.6ms\n",
            "WARNING ⚠️ Video stream unresponsive, please check your IP camera connection.\n",
            "video 1/1 (frame 191/692) /content/potholes_video.mp4: 384x640 3 potholes, 19.1ms\n",
            "video 1/1 (frame 192/692) /content/potholes_video.mp4: 384x640 5 potholes, 19.1ms\n",
            "WARNING ⚠️ Video stream unresponsive, please check your IP camera connection.\n",
            "video 1/1 (frame 193/692) /content/potholes_video.mp4: 384x640 5 potholes, 27.0ms\n",
            "video 1/1 (frame 194/692) /content/potholes_video.mp4: 384x640 4 potholes, 19.1ms\n",
            "video 1/1 (frame 195/692) /content/potholes_video.mp4: 384x640 4 potholes, 19.3ms\n",
            "WARNING ⚠️ Video stream unresponsive, please check your IP camera connection.\n",
            "video 1/1 (frame 196/692) /content/potholes_video.mp4: 384x640 4 potholes, 23.4ms\n",
            "video 1/1 (frame 197/692) /content/potholes_video.mp4: 384x640 5 potholes, 20.5ms\n",
            "WARNING ⚠️ Video stream unresponsive, please check your IP camera connection.\n",
            "video 1/1 (frame 198/692) /content/potholes_video.mp4: 384x640 7 potholes, 19.7ms\n",
            "video 1/1 (frame 199/692) /content/potholes_video.mp4: 384x640 8 potholes, 19.7ms\n",
            "video 1/1 (frame 200/692) /content/potholes_video.mp4: 384x640 7 potholes, 19.2ms\n",
            "WARNING ⚠️ Video stream unresponsive, please check your IP camera connection.\n",
            "video 1/1 (frame 201/692) /content/potholes_video.mp4: 384x640 7 potholes, 19.1ms\n",
            "video 1/1 (frame 202/692) /content/potholes_video.mp4: 384x640 7 potholes, 19.0ms\n",
            "video 1/1 (frame 203/692) /content/potholes_video.mp4: 384x640 6 potholes, 19.0ms\n",
            "WARNING ⚠️ Video stream unresponsive, please check your IP camera connection.\n",
            "video 1/1 (frame 204/692) /content/potholes_video.mp4: 384x640 6 potholes, 22.0ms\n",
            "video 1/1 (frame 205/692) /content/potholes_video.mp4: 384x640 6 potholes, 16.6ms\n",
            "video 1/1 (frame 206/692) /content/potholes_video.mp4: 384x640 7 potholes, 17.5ms\n",
            "WARNING ⚠️ Video stream unresponsive, please check your IP camera connection.\n",
            "video 1/1 (frame 207/692) /content/potholes_video.mp4: 384x640 6 potholes, 16.6ms\n",
            "video 1/1 (frame 208/692) /content/potholes_video.mp4: 384x640 5 potholes, 16.4ms\n",
            "video 1/1 (frame 209/692) /content/potholes_video.mp4: 384x640 6 potholes, 16.3ms\n",
            "WARNING ⚠️ Video stream unresponsive, please check your IP camera connection.\n",
            "video 1/1 (frame 210/692) /content/potholes_video.mp4: 384x640 6 potholes, 15.9ms\n",
            "video 1/1 (frame 211/692) /content/potholes_video.mp4: 384x640 5 potholes, 15.4ms\n",
            "video 1/1 (frame 212/692) /content/potholes_video.mp4: 384x640 8 potholes, 26.3ms\n",
            "WARNING ⚠️ Video stream unresponsive, please check your IP camera connection.\n",
            "video 1/1 (frame 213/692) /content/potholes_video.mp4: 384x640 8 potholes, 15.1ms\n",
            "video 1/1 (frame 214/692) /content/potholes_video.mp4: 384x640 7 potholes, 15.1ms\n",
            "video 1/1 (frame 215/692) /content/potholes_video.mp4: 384x640 6 potholes, 25.5ms\n",
            "video 1/1 (frame 216/692) /content/potholes_video.mp4: 384x640 7 potholes, 15.1ms\n",
            "WARNING ⚠️ Video stream unresponsive, please check your IP camera connection.\n",
            "video 1/1 (frame 217/692) /content/potholes_video.mp4: 384x640 7 potholes, 15.1ms\n",
            "video 1/1 (frame 218/692) /content/potholes_video.mp4: 384x640 6 potholes, 15.1ms\n",
            "video 1/1 (frame 219/692) /content/potholes_video.mp4: 384x640 7 potholes, 16.4ms\n",
            "video 1/1 (frame 220/692) /content/potholes_video.mp4: 384x640 7 potholes, 15.0ms\n",
            "WARNING ⚠️ Video stream unresponsive, please check your IP camera connection.\n",
            "video 1/1 (frame 221/692) /content/potholes_video.mp4: 384x640 9 potholes, 14.7ms\n",
            "video 1/1 (frame 222/692) /content/potholes_video.mp4: 384x640 7 potholes, 14.4ms\n",
            "video 1/1 (frame 223/692) /content/potholes_video.mp4: 384x640 7 potholes, 14.3ms\n",
            "WARNING ⚠️ Video stream unresponsive, please check your IP camera connection.\n",
            "video 1/1 (frame 224/692) /content/potholes_video.mp4: 384x640 8 potholes, 14.4ms\n",
            "video 1/1 (frame 225/692) /content/potholes_video.mp4: 384x640 8 potholes, 14.1ms\n",
            "video 1/1 (frame 226/692) /content/potholes_video.mp4: 384x640 11 potholes, 14.0ms\n",
            "WARNING ⚠️ Video stream unresponsive, please check your IP camera connection.\n",
            "video 1/1 (frame 227/692) /content/potholes_video.mp4: 384x640 7 potholes, 14.1ms\n",
            "video 1/1 (frame 228/692) /content/potholes_video.mp4: 384x640 7 potholes, 14.1ms\n",
            "video 1/1 (frame 229/692) /content/potholes_video.mp4: 384x640 9 potholes, 14.1ms\n",
            "WARNING ⚠️ Video stream unresponsive, please check your IP camera connection.\n",
            "video 1/1 (frame 230/692) /content/potholes_video.mp4: 384x640 10 potholes, 14.1ms\n",
            "video 1/1 (frame 231/692) /content/potholes_video.mp4: 384x640 9 potholes, 14.0ms\n",
            "video 1/1 (frame 232/692) /content/potholes_video.mp4: 384x640 9 potholes, 14.1ms\n",
            "video 1/1 (frame 233/692) /content/potholes_video.mp4: 384x640 7 potholes, 14.0ms\n",
            "WARNING ⚠️ Video stream unresponsive, please check your IP camera connection.\n",
            "video 1/1 (frame 234/692) /content/potholes_video.mp4: 384x640 8 potholes, 14.5ms\n",
            "video 1/1 (frame 235/692) /content/potholes_video.mp4: 384x640 10 potholes, 14.1ms\n",
            "video 1/1 (frame 236/692) /content/potholes_video.mp4: 384x640 8 potholes, 14.1ms\n",
            "WARNING ⚠️ Video stream unresponsive, please check your IP camera connection.\n",
            "video 1/1 (frame 237/692) /content/potholes_video.mp4: 384x640 9 potholes, 14.8ms\n",
            "video 1/1 (frame 238/692) /content/potholes_video.mp4: 384x640 8 potholes, 13.9ms\n",
            "video 1/1 (frame 239/692) /content/potholes_video.mp4: 384x640 6 potholes, 14.5ms\n",
            "WARNING ⚠️ Video stream unresponsive, please check your IP camera connection.\n",
            "video 1/1 (frame 240/692) /content/potholes_video.mp4: 384x640 8 potholes, 13.8ms\n",
            "video 1/1 (frame 241/692) /content/potholes_video.mp4: 384x640 7 potholes, 13.7ms\n",
            "video 1/1 (frame 242/692) /content/potholes_video.mp4: 384x640 7 potholes, 14.7ms\n",
            "video 1/1 (frame 243/692) /content/potholes_video.mp4: 384x640 8 potholes, 13.7ms\n",
            "video 1/1 (frame 244/692) /content/potholes_video.mp4: 384x640 6 potholes, 13.7ms\n",
            "WARNING ⚠️ Video stream unresponsive, please check your IP camera connection.\n",
            "video 1/1 (frame 245/692) /content/potholes_video.mp4: 384x640 6 potholes, 13.7ms\n",
            "video 1/1 (frame 246/692) /content/potholes_video.mp4: 384x640 6 potholes, 13.7ms\n",
            "video 1/1 (frame 247/692) /content/potholes_video.mp4: 384x640 6 potholes, 15.2ms\n",
            "video 1/1 (frame 248/692) /content/potholes_video.mp4: 384x640 6 potholes, 14.0ms\n",
            "WARNING ⚠️ Video stream unresponsive, please check your IP camera connection.\n",
            "video 1/1 (frame 249/692) /content/potholes_video.mp4: 384x640 6 potholes, 15.2ms\n",
            "video 1/1 (frame 250/692) /content/potholes_video.mp4: 384x640 6 potholes, 13.8ms\n",
            "video 1/1 (frame 251/692) /content/potholes_video.mp4: 384x640 7 potholes, 13.7ms\n",
            "WARNING ⚠️ Video stream unresponsive, please check your IP camera connection.\n",
            "video 1/1 (frame 252/692) /content/potholes_video.mp4: 384x640 6 potholes, 13.7ms\n",
            "video 1/1 (frame 253/692) /content/potholes_video.mp4: 384x640 5 potholes, 13.8ms\n",
            "video 1/1 (frame 254/692) /content/potholes_video.mp4: 384x640 5 potholes, 14.5ms\n",
            "video 1/1 (frame 255/692) /content/potholes_video.mp4: 384x640 5 potholes, 13.2ms\n",
            "WARNING ⚠️ Video stream unresponsive, please check your IP camera connection.\n",
            "video 1/1 (frame 256/692) /content/potholes_video.mp4: 384x640 5 potholes, 15.3ms\n",
            "video 1/1 (frame 257/692) /content/potholes_video.mp4: 384x640 5 potholes, 13.0ms\n",
            "video 1/1 (frame 258/692) /content/potholes_video.mp4: 384x640 6 potholes, 13.0ms\n",
            "WARNING ⚠️ Video stream unresponsive, please check your IP camera connection.\n",
            "video 1/1 (frame 259/692) /content/potholes_video.mp4: 384x640 6 potholes, 13.0ms\n",
            "video 1/1 (frame 260/692) /content/potholes_video.mp4: 384x640 5 potholes, 13.0ms\n",
            "video 1/1 (frame 261/692) /content/potholes_video.mp4: 384x640 5 potholes, 13.0ms\n",
            "video 1/1 (frame 262/692) /content/potholes_video.mp4: 384x640 5 potholes, 13.0ms\n",
            "video 1/1 (frame 263/692) /content/potholes_video.mp4: 384x640 6 potholes, 13.0ms\n",
            "video 1/1 (frame 264/692) /content/potholes_video.mp4: 384x640 5 potholes, 13.0ms\n",
            "WARNING ⚠️ Video stream unresponsive, please check your IP camera connection.\n",
            "video 1/1 (frame 265/692) /content/potholes_video.mp4: 384x640 7 potholes, 13.1ms\n",
            "video 1/1 (frame 266/692) /content/potholes_video.mp4: 384x640 5 potholes, 13.0ms\n",
            "video 1/1 (frame 267/692) /content/potholes_video.mp4: 384x640 5 potholes, 13.0ms\n",
            "WARNING ⚠️ Video stream unresponsive, please check your IP camera connection.\n",
            "video 1/1 (frame 268/692) /content/potholes_video.mp4: 384x640 4 potholes, 13.0ms\n",
            "video 1/1 (frame 269/692) /content/potholes_video.mp4: 384x640 5 potholes, 15.4ms\n",
            "video 1/1 (frame 270/692) /content/potholes_video.mp4: 384x640 4 potholes, 13.1ms\n",
            "video 1/1 (frame 271/692) /content/potholes_video.mp4: 384x640 4 potholes, 15.4ms\n",
            "WARNING ⚠️ Video stream unresponsive, please check your IP camera connection.\n",
            "video 1/1 (frame 272/692) /content/potholes_video.mp4: 384x640 4 potholes, 13.1ms\n",
            "video 1/1 (frame 273/692) /content/potholes_video.mp4: 384x640 4 potholes, 13.0ms\n",
            "video 1/1 (frame 274/692) /content/potholes_video.mp4: 384x640 4 potholes, 14.0ms\n",
            "WARNING ⚠️ Video stream unresponsive, please check your IP camera connection.\n",
            "video 1/1 (frame 275/692) /content/potholes_video.mp4: 384x640 4 potholes, 14.0ms\n",
            "video 1/1 (frame 276/692) /content/potholes_video.mp4: 384x640 2 potholes, 13.0ms\n",
            "video 1/1 (frame 277/692) /content/potholes_video.mp4: 384x640 2 potholes, 13.0ms\n",
            "WARNING ⚠️ Video stream unresponsive, please check your IP camera connection.\n",
            "video 1/1 (frame 278/692) /content/potholes_video.mp4: 384x640 2 potholes, 14.1ms\n",
            "video 1/1 (frame 279/692) /content/potholes_video.mp4: 384x640 3 potholes, 13.0ms\n",
            "video 1/1 (frame 280/692) /content/potholes_video.mp4: 384x640 2 potholes, 13.0ms\n",
            "video 1/1 (frame 281/692) /content/potholes_video.mp4: 384x640 2 potholes, 13.1ms\n",
            "WARNING ⚠️ Video stream unresponsive, please check your IP camera connection.\n",
            "video 1/1 (frame 282/692) /content/potholes_video.mp4: 384x640 2 potholes, 13.0ms\n",
            "video 1/1 (frame 283/692) /content/potholes_video.mp4: 384x640 2 potholes, 13.0ms\n",
            "video 1/1 (frame 284/692) /content/potholes_video.mp4: 384x640 3 potholes, 13.1ms\n",
            "video 1/1 (frame 285/692) /content/potholes_video.mp4: 384x640 3 potholes, 13.0ms\n",
            "WARNING ⚠️ Video stream unresponsive, please check your IP camera connection.\n",
            "video 1/1 (frame 286/692) /content/potholes_video.mp4: 384x640 2 potholes, 15.1ms\n",
            "video 1/1 (frame 287/692) /content/potholes_video.mp4: 384x640 3 potholes, 13.0ms\n",
            "video 1/1 (frame 288/692) /content/potholes_video.mp4: 384x640 5 potholes, 13.0ms\n",
            "WARNING ⚠️ Video stream unresponsive, please check your IP camera connection.\n",
            "video 1/1 (frame 289/692) /content/potholes_video.mp4: 384x640 3 potholes, 13.7ms\n",
            "video 1/1 (frame 290/692) /content/potholes_video.mp4: 384x640 4 potholes, 13.0ms\n",
            "video 1/1 (frame 291/692) /content/potholes_video.mp4: 384x640 3 potholes, 13.0ms\n",
            "WARNING ⚠️ Video stream unresponsive, please check your IP camera connection.\n",
            "video 1/1 (frame 292/692) /content/potholes_video.mp4: 384x640 3 potholes, 13.1ms\n",
            "video 1/1 (frame 293/692) /content/potholes_video.mp4: 384x640 2 potholes, 13.0ms\n",
            "video 1/1 (frame 294/692) /content/potholes_video.mp4: 384x640 2 potholes, 13.1ms\n",
            "video 1/1 (frame 295/692) /content/potholes_video.mp4: 384x640 3 potholes, 13.0ms\n",
            "WARNING ⚠️ Video stream unresponsive, please check your IP camera connection.\n",
            "video 1/1 (frame 296/692) /content/potholes_video.mp4: 384x640 2 potholes, 15.6ms\n",
            "video 1/1 (frame 297/692) /content/potholes_video.mp4: 384x640 4 potholes, 13.0ms\n",
            "video 1/1 (frame 298/692) /content/potholes_video.mp4: 384x640 2 potholes, 13.2ms\n",
            "video 1/1 (frame 299/692) /content/potholes_video.mp4: 384x640 3 potholes, 15.3ms\n",
            "WARNING ⚠️ Video stream unresponsive, please check your IP camera connection.\n",
            "video 1/1 (frame 300/692) /content/potholes_video.mp4: 384x640 2 potholes, 14.8ms\n",
            "video 1/1 (frame 301/692) /content/potholes_video.mp4: 384x640 2 potholes, 13.9ms\n",
            "video 1/1 (frame 302/692) /content/potholes_video.mp4: 384x640 2 potholes, 13.2ms\n",
            "WARNING ⚠️ Video stream unresponsive, please check your IP camera connection.\n",
            "video 1/1 (frame 303/692) /content/potholes_video.mp4: 384x640 2 potholes, 13.0ms\n",
            "video 1/1 (frame 304/692) /content/potholes_video.mp4: 384x640 2 potholes, 14.2ms\n",
            "video 1/1 (frame 305/692) /content/potholes_video.mp4: 384x640 3 potholes, 13.9ms\n",
            "video 1/1 (frame 306/692) /content/potholes_video.mp4: 384x640 5 potholes, 13.3ms\n",
            "WARNING ⚠️ Video stream unresponsive, please check your IP camera connection.\n",
            "video 1/1 (frame 307/692) /content/potholes_video.mp4: 384x640 4 potholes, 14.3ms\n",
            "video 1/1 (frame 308/692) /content/potholes_video.mp4: 384x640 4 potholes, 12.9ms\n",
            "video 1/1 (frame 309/692) /content/potholes_video.mp4: 384x640 4 potholes, 14.3ms\n",
            "video 1/1 (frame 310/692) /content/potholes_video.mp4: 384x640 4 potholes, 12.8ms\n",
            "WARNING ⚠️ Video stream unresponsive, please check your IP camera connection.\n",
            "video 1/1 (frame 311/692) /content/potholes_video.mp4: 384x640 3 potholes, 12.9ms\n",
            "video 1/1 (frame 312/692) /content/potholes_video.mp4: 384x640 5 potholes, 12.9ms\n",
            "video 1/1 (frame 313/692) /content/potholes_video.mp4: 384x640 5 potholes, 13.1ms\n",
            "WARNING ⚠️ Video stream unresponsive, please check your IP camera connection.\n",
            "video 1/1 (frame 314/692) /content/potholes_video.mp4: 384x640 6 potholes, 15.6ms\n",
            "video 1/1 (frame 315/692) /content/potholes_video.mp4: 384x640 5 potholes, 12.8ms\n",
            "video 1/1 (frame 316/692) /content/potholes_video.mp4: 384x640 6 potholes, 12.8ms\n",
            "WARNING ⚠️ Video stream unresponsive, please check your IP camera connection.\n",
            "video 1/1 (frame 317/692) /content/potholes_video.mp4: 384x640 5 potholes, 14.7ms\n",
            "video 1/1 (frame 318/692) /content/potholes_video.mp4: 384x640 3 potholes, 12.8ms\n",
            "video 1/1 (frame 319/692) /content/potholes_video.mp4: 384x640 3 potholes, 12.8ms\n",
            "WARNING ⚠️ Video stream unresponsive, please check your IP camera connection.\n",
            "video 1/1 (frame 320/692) /content/potholes_video.mp4: 384x640 2 potholes, 13.0ms\n",
            "video 1/1 (frame 321/692) /content/potholes_video.mp4: 384x640 2 potholes, 12.9ms\n",
            "video 1/1 (frame 322/692) /content/potholes_video.mp4: 384x640 2 potholes, 12.8ms\n",
            "video 1/1 (frame 323/692) /content/potholes_video.mp4: 384x640 2 potholes, 12.8ms\n",
            "video 1/1 (frame 324/692) /content/potholes_video.mp4: 384x640 2 potholes, 12.8ms\n",
            "video 1/1 (frame 325/692) /content/potholes_video.mp4: 384x640 2 potholes, 12.8ms\n",
            "WARNING ⚠️ Video stream unresponsive, please check your IP camera connection.\n",
            "video 1/1 (frame 326/692) /content/potholes_video.mp4: 384x640 3 potholes, 15.1ms\n",
            "video 1/1 (frame 327/692) /content/potholes_video.mp4: 384x640 2 potholes, 12.8ms\n",
            "video 1/1 (frame 328/692) /content/potholes_video.mp4: 384x640 4 potholes, 12.8ms\n",
            "WARNING ⚠️ Video stream unresponsive, please check your IP camera connection.\n",
            "video 1/1 (frame 329/692) /content/potholes_video.mp4: 384x640 1 pothole, 12.8ms\n",
            "video 1/1 (frame 330/692) /content/potholes_video.mp4: 384x640 3 potholes, 13.4ms\n",
            "video 1/1 (frame 331/692) /content/potholes_video.mp4: 384x640 3 potholes, 12.7ms\n",
            "WARNING ⚠️ Video stream unresponsive, please check your IP camera connection.\n",
            "video 1/1 (frame 332/692) /content/potholes_video.mp4: 384x640 3 potholes, 12.6ms\n",
            "video 1/1 (frame 333/692) /content/potholes_video.mp4: 384x640 4 potholes, 12.7ms\n",
            "video 1/1 (frame 334/692) /content/potholes_video.mp4: 384x640 3 potholes, 12.6ms\n",
            "video 1/1 (frame 335/692) /content/potholes_video.mp4: 384x640 5 potholes, 12.6ms\n",
            "WARNING ⚠️ Video stream unresponsive, please check your IP camera connection.\n",
            "video 1/1 (frame 336/692) /content/potholes_video.mp4: 384x640 5 potholes, 13.2ms\n",
            "video 1/1 (frame 337/692) /content/potholes_video.mp4: 384x640 3 potholes, 12.6ms\n",
            "video 1/1 (frame 338/692) /content/potholes_video.mp4: 384x640 4 potholes, 12.9ms\n",
            "video 1/1 (frame 339/692) /content/potholes_video.mp4: 384x640 6 potholes, 12.6ms\n",
            "WARNING ⚠️ Video stream unresponsive, please check your IP camera connection.\n",
            "video 1/1 (frame 340/692) /content/potholes_video.mp4: 384x640 4 potholes, 13.9ms\n",
            "video 1/1 (frame 341/692) /content/potholes_video.mp4: 384x640 3 potholes, 12.6ms\n",
            "video 1/1 (frame 342/692) /content/potholes_video.mp4: 384x640 4 potholes, 12.6ms\n",
            "WARNING ⚠️ Video stream unresponsive, please check your IP camera connection.\n",
            "video 1/1 (frame 343/692) /content/potholes_video.mp4: 384x640 3 potholes, 12.6ms\n",
            "video 1/1 (frame 344/692) /content/potholes_video.mp4: 384x640 4 potholes, 12.5ms\n",
            "video 1/1 (frame 345/692) /content/potholes_video.mp4: 384x640 4 potholes, 12.6ms\n",
            "video 1/1 (frame 346/692) /content/potholes_video.mp4: 384x640 4 potholes, 12.5ms\n",
            "WARNING ⚠️ Video stream unresponsive, please check your IP camera connection.\n",
            "video 1/1 (frame 347/692) /content/potholes_video.mp4: 384x640 3 potholes, 12.7ms\n",
            "video 1/1 (frame 348/692) /content/potholes_video.mp4: 384x640 4 potholes, 12.7ms\n",
            "video 1/1 (frame 349/692) /content/potholes_video.mp4: 384x640 2 potholes, 12.6ms\n",
            "WARNING ⚠️ Video stream unresponsive, please check your IP camera connection.\n",
            "video 1/1 (frame 350/692) /content/potholes_video.mp4: 384x640 3 potholes, 12.7ms\n",
            "video 1/1 (frame 351/692) /content/potholes_video.mp4: 384x640 2 potholes, 12.6ms\n",
            "video 1/1 (frame 352/692) /content/potholes_video.mp4: 384x640 2 potholes, 12.6ms\n",
            "video 1/1 (frame 353/692) /content/potholes_video.mp4: 384x640 2 potholes, 20.1ms\n",
            "WARNING ⚠️ Video stream unresponsive, please check your IP camera connection.\n",
            "video 1/1 (frame 354/692) /content/potholes_video.mp4: 384x640 2 potholes, 14.6ms\n",
            "video 1/1 (frame 355/692) /content/potholes_video.mp4: 384x640 3 potholes, 13.5ms\n",
            "video 1/1 (frame 356/692) /content/potholes_video.mp4: 384x640 3 potholes, 12.5ms\n",
            "WARNING ⚠️ Video stream unresponsive, please check your IP camera connection.\n",
            "video 1/1 (frame 357/692) /content/potholes_video.mp4: 384x640 3 potholes, 18.1ms\n",
            "video 1/1 (frame 358/692) /content/potholes_video.mp4: 384x640 3 potholes, 14.9ms\n",
            "video 1/1 (frame 359/692) /content/potholes_video.mp4: 384x640 4 potholes, 12.8ms\n",
            "WARNING ⚠️ Video stream unresponsive, please check your IP camera connection.\n",
            "video 1/1 (frame 360/692) /content/potholes_video.mp4: 384x640 4 potholes, 12.6ms\n",
            "video 1/1 (frame 361/692) /content/potholes_video.mp4: 384x640 4 potholes, 12.6ms\n",
            "video 1/1 (frame 362/692) /content/potholes_video.mp4: 384x640 4 potholes, 12.6ms\n",
            "video 1/1 (frame 363/692) /content/potholes_video.mp4: 384x640 4 potholes, 12.5ms\n",
            "WARNING ⚠️ Video stream unresponsive, please check your IP camera connection.\n",
            "video 1/1 (frame 364/692) /content/potholes_video.mp4: 384x640 4 potholes, 14.9ms\n",
            "video 1/1 (frame 365/692) /content/potholes_video.mp4: 384x640 4 potholes, 13.5ms\n",
            "video 1/1 (frame 366/692) /content/potholes_video.mp4: 384x640 3 potholes, 12.6ms\n",
            "WARNING ⚠️ Video stream unresponsive, please check your IP camera connection.\n",
            "video 1/1 (frame 367/692) /content/potholes_video.mp4: 384x640 2 potholes, 12.6ms\n",
            "video 1/1 (frame 368/692) /content/potholes_video.mp4: 384x640 4 potholes, 12.5ms\n",
            "video 1/1 (frame 369/692) /content/potholes_video.mp4: 384x640 3 potholes, 12.5ms\n",
            "video 1/1 (frame 370/692) /content/potholes_video.mp4: 384x640 3 potholes, 12.6ms\n",
            "WARNING ⚠️ Video stream unresponsive, please check your IP camera connection.\n",
            "video 1/1 (frame 371/692) /content/potholes_video.mp4: 384x640 3 potholes, 12.8ms\n",
            "video 1/1 (frame 372/692) /content/potholes_video.mp4: 384x640 2 potholes, 12.7ms\n",
            "video 1/1 (frame 373/692) /content/potholes_video.mp4: 384x640 2 potholes, 12.7ms\n",
            "WARNING ⚠️ Video stream unresponsive, please check your IP camera connection.\n",
            "video 1/1 (frame 374/692) /content/potholes_video.mp4: 384x640 2 potholes, 12.6ms\n",
            "video 1/1 (frame 375/692) /content/potholes_video.mp4: 384x640 1 pothole, 12.5ms\n",
            "video 1/1 (frame 376/692) /content/potholes_video.mp4: 384x640 3 potholes, 12.5ms\n",
            "video 1/1 (frame 377/692) /content/potholes_video.mp4: 384x640 1 pothole, 12.6ms\n",
            "WARNING ⚠️ Video stream unresponsive, please check your IP camera connection.\n",
            "video 1/1 (frame 378/692) /content/potholes_video.mp4: 384x640 1 pothole, 12.6ms\n",
            "video 1/1 (frame 379/692) /content/potholes_video.mp4: 384x640 1 pothole, 13.4ms\n",
            "video 1/1 (frame 380/692) /content/potholes_video.mp4: 384x640 1 pothole, 12.5ms\n",
            "video 1/1 (frame 381/692) /content/potholes_video.mp4: 384x640 1 pothole, 14.5ms\n",
            "WARNING ⚠️ Video stream unresponsive, please check your IP camera connection.\n",
            "video 1/1 (frame 382/692) /content/potholes_video.mp4: 384x640 1 pothole, 16.0ms\n",
            "video 1/1 (frame 383/692) /content/potholes_video.mp4: 384x640 1 pothole, 12.9ms\n",
            "video 1/1 (frame 384/692) /content/potholes_video.mp4: 384x640 1 pothole, 13.7ms\n",
            "WARNING ⚠️ Video stream unresponsive, please check your IP camera connection.\n",
            "video 1/1 (frame 385/692) /content/potholes_video.mp4: 384x640 1 pothole, 13.0ms\n",
            "video 1/1 (frame 386/692) /content/potholes_video.mp4: 384x640 1 pothole, 12.8ms\n",
            "video 1/1 (frame 387/692) /content/potholes_video.mp4: 384x640 1 pothole, 12.8ms\n",
            "video 1/1 (frame 388/692) /content/potholes_video.mp4: 384x640 1 pothole, 13.4ms\n",
            "WARNING ⚠️ Video stream unresponsive, please check your IP camera connection.\n",
            "video 1/1 (frame 389/692) /content/potholes_video.mp4: 384x640 2 potholes, 15.2ms\n",
            "video 1/1 (frame 390/692) /content/potholes_video.mp4: 384x640 1 pothole, 13.4ms\n",
            "video 1/1 (frame 391/692) /content/potholes_video.mp4: 384x640 1 pothole, 12.8ms\n",
            "WARNING ⚠️ Video stream unresponsive, please check your IP camera connection.\n",
            "video 1/1 (frame 392/692) /content/potholes_video.mp4: 384x640 1 pothole, 13.3ms\n",
            "video 1/1 (frame 393/692) /content/potholes_video.mp4: 384x640 1 pothole, 13.2ms\n",
            "video 1/1 (frame 394/692) /content/potholes_video.mp4: 384x640 1 pothole, 13.2ms\n",
            "WARNING ⚠️ Video stream unresponsive, please check your IP camera connection.\n",
            "video 1/1 (frame 395/692) /content/potholes_video.mp4: 384x640 1 pothole, 14.7ms\n",
            "video 1/1 (frame 396/692) /content/potholes_video.mp4: 384x640 1 pothole, 13.9ms\n",
            "video 1/1 (frame 397/692) /content/potholes_video.mp4: 384x640 1 pothole, 13.0ms\n",
            "video 1/1 (frame 398/692) /content/potholes_video.mp4: 384x640 1 pothole, 13.8ms\n",
            "WARNING ⚠️ Video stream unresponsive, please check your IP camera connection.\n",
            "video 1/1 (frame 399/692) /content/potholes_video.mp4: 384x640 1 pothole, 14.4ms\n",
            "video 1/1 (frame 400/692) /content/potholes_video.mp4: 384x640 1 pothole, 13.0ms\n",
            "video 1/1 (frame 401/692) /content/potholes_video.mp4: 384x640 1 pothole, 13.0ms\n",
            "WARNING ⚠️ Video stream unresponsive, please check your IP camera connection.\n",
            "video 1/1 (frame 402/692) /content/potholes_video.mp4: 384x640 1 pothole, 13.0ms\n",
            "video 1/1 (frame 403/692) /content/potholes_video.mp4: 384x640 1 pothole, 13.0ms\n",
            "video 1/1 (frame 404/692) /content/potholes_video.mp4: 384x640 1 pothole, 13.0ms\n",
            "video 1/1 (frame 405/692) /content/potholes_video.mp4: 384x640 3 potholes, 13.0ms\n",
            "WARNING ⚠️ Video stream unresponsive, please check your IP camera connection.\n",
            "video 1/1 (frame 406/692) /content/potholes_video.mp4: 384x640 1 pothole, 13.0ms\n",
            "video 1/1 (frame 407/692) /content/potholes_video.mp4: 384x640 1 pothole, 13.0ms\n",
            "video 1/1 (frame 408/692) /content/potholes_video.mp4: 384x640 2 potholes, 13.0ms\n",
            "video 1/1 (frame 409/692) /content/potholes_video.mp4: 384x640 3 potholes, 13.0ms\n",
            "WARNING ⚠️ Video stream unresponsive, please check your IP camera connection.\n",
            "video 1/1 (frame 410/692) /content/potholes_video.mp4: 384x640 3 potholes, 13.0ms\n",
            "video 1/1 (frame 411/692) /content/potholes_video.mp4: 384x640 3 potholes, 13.0ms\n",
            "video 1/1 (frame 412/692) /content/potholes_video.mp4: 384x640 1 pothole, 13.0ms\n",
            "WARNING ⚠️ Video stream unresponsive, please check your IP camera connection.\n",
            "video 1/1 (frame 413/692) /content/potholes_video.mp4: 384x640 3 potholes, 17.6ms\n",
            "video 1/1 (frame 414/692) /content/potholes_video.mp4: 384x640 3 potholes, 13.0ms\n",
            "video 1/1 (frame 415/692) /content/potholes_video.mp4: 384x640 3 potholes, 14.0ms\n",
            "WARNING ⚠️ Video stream unresponsive, please check your IP camera connection.\n",
            "video 1/1 (frame 416/692) /content/potholes_video.mp4: 384x640 3 potholes, 13.7ms\n",
            "video 1/1 (frame 417/692) /content/potholes_video.mp4: 384x640 4 potholes, 13.0ms\n",
            "video 1/1 (frame 418/692) /content/potholes_video.mp4: 384x640 3 potholes, 16.8ms\n",
            "WARNING ⚠️ Video stream unresponsive, please check your IP camera connection.\n",
            "video 1/1 (frame 419/692) /content/potholes_video.mp4: 384x640 3 potholes, 13.2ms\n",
            "video 1/1 (frame 420/692) /content/potholes_video.mp4: 384x640 3 potholes, 13.0ms\n",
            "video 1/1 (frame 421/692) /content/potholes_video.mp4: 384x640 3 potholes, 13.4ms\n",
            "WARNING ⚠️ Video stream unresponsive, please check your IP camera connection.\n",
            "video 1/1 (frame 422/692) /content/potholes_video.mp4: 384x640 3 potholes, 18.5ms\n",
            "video 1/1 (frame 423/692) /content/potholes_video.mp4: 384x640 3 potholes, 13.4ms\n",
            "video 1/1 (frame 424/692) /content/potholes_video.mp4: 384x640 3 potholes, 13.1ms\n",
            "video 1/1 (frame 425/692) /content/potholes_video.mp4: 384x640 3 potholes, 13.1ms\n",
            "WARNING ⚠️ Video stream unresponsive, please check your IP camera connection.\n",
            "video 1/1 (frame 426/692) /content/potholes_video.mp4: 384x640 3 potholes, 15.6ms\n",
            "video 1/1 (frame 427/692) /content/potholes_video.mp4: 384x640 2 potholes, 13.1ms\n",
            "video 1/1 (frame 428/692) /content/potholes_video.mp4: 384x640 2 potholes, 13.1ms\n",
            "WARNING ⚠️ Video stream unresponsive, please check your IP camera connection.\n",
            "video 1/1 (frame 429/692) /content/potholes_video.mp4: 384x640 2 potholes, 13.1ms\n",
            "video 1/1 (frame 430/692) /content/potholes_video.mp4: 384x640 2 potholes, 13.1ms\n",
            "video 1/1 (frame 431/692) /content/potholes_video.mp4: 384x640 3 potholes, 13.1ms\n",
            "video 1/1 (frame 432/692) /content/potholes_video.mp4: 384x640 3 potholes, 13.1ms\n",
            "WARNING ⚠️ Video stream unresponsive, please check your IP camera connection.\n",
            "video 1/1 (frame 433/692) /content/potholes_video.mp4: 384x640 2 potholes, 13.2ms\n",
            "video 1/1 (frame 434/692) /content/potholes_video.mp4: 384x640 2 potholes, 13.1ms\n",
            "video 1/1 (frame 435/692) /content/potholes_video.mp4: 384x640 3 potholes, 13.1ms\n",
            "WARNING ⚠️ Video stream unresponsive, please check your IP camera connection.\n",
            "video 1/1 (frame 436/692) /content/potholes_video.mp4: 384x640 3 potholes, 14.5ms\n",
            "video 1/1 (frame 437/692) /content/potholes_video.mp4: 384x640 4 potholes, 13.8ms\n",
            "video 1/1 (frame 438/692) /content/potholes_video.mp4: 384x640 3 potholes, 13.5ms\n",
            "WARNING ⚠️ Video stream unresponsive, please check your IP camera connection.\n",
            "video 1/1 (frame 439/692) /content/potholes_video.mp4: 384x640 4 potholes, 13.5ms\n",
            "video 1/1 (frame 440/692) /content/potholes_video.mp4: 384x640 4 potholes, 13.5ms\n",
            "video 1/1 (frame 441/692) /content/potholes_video.mp4: 384x640 3 potholes, 13.2ms\n",
            "video 1/1 (frame 442/692) /content/potholes_video.mp4: 384x640 5 potholes, 13.9ms\n",
            "WARNING ⚠️ Video stream unresponsive, please check your IP camera connection.\n",
            "video 1/1 (frame 443/692) /content/potholes_video.mp4: 384x640 4 potholes, 13.2ms\n",
            "video 1/1 (frame 444/692) /content/potholes_video.mp4: 384x640 6 potholes, 13.2ms\n",
            "video 1/1 (frame 445/692) /content/potholes_video.mp4: 384x640 4 potholes, 13.3ms\n",
            "WARNING ⚠️ Video stream unresponsive, please check your IP camera connection.\n",
            "video 1/1 (frame 446/692) /content/potholes_video.mp4: 384x640 4 potholes, 13.7ms\n",
            "video 1/1 (frame 447/692) /content/potholes_video.mp4: 384x640 5 potholes, 13.2ms\n",
            "video 1/1 (frame 448/692) /content/potholes_video.mp4: 384x640 5 potholes, 13.2ms\n",
            "video 1/1 (frame 449/692) /content/potholes_video.mp4: 384x640 5 potholes, 13.5ms\n",
            "WARNING ⚠️ Video stream unresponsive, please check your IP camera connection.\n",
            "video 1/1 (frame 450/692) /content/potholes_video.mp4: 384x640 5 potholes, 13.6ms\n",
            "video 1/1 (frame 451/692) /content/potholes_video.mp4: 384x640 5 potholes, 13.6ms\n",
            "video 1/1 (frame 452/692) /content/potholes_video.mp4: 384x640 7 potholes, 13.4ms\n",
            "video 1/1 (frame 453/692) /content/potholes_video.mp4: 384x640 5 potholes, 13.6ms\n",
            "WARNING ⚠️ Video stream unresponsive, please check your IP camera connection.\n",
            "video 1/1 (frame 454/692) /content/potholes_video.mp4: 384x640 6 potholes, 13.5ms\n",
            "video 1/1 (frame 455/692) /content/potholes_video.mp4: 384x640 7 potholes, 13.5ms\n",
            "video 1/1 (frame 456/692) /content/potholes_video.mp4: 384x640 6 potholes, 13.5ms\n",
            "WARNING ⚠️ Video stream unresponsive, please check your IP camera connection.\n",
            "video 1/1 (frame 457/692) /content/potholes_video.mp4: 384x640 5 potholes, 21.1ms\n",
            "video 1/1 (frame 458/692) /content/potholes_video.mp4: 384x640 6 potholes, 13.6ms\n",
            "video 1/1 (frame 459/692) /content/potholes_video.mp4: 384x640 5 potholes, 13.5ms\n",
            "WARNING ⚠️ Video stream unresponsive, please check your IP camera connection.\n",
            "video 1/1 (frame 460/692) /content/potholes_video.mp4: 384x640 5 potholes, 13.5ms\n",
            "video 1/1 (frame 461/692) /content/potholes_video.mp4: 384x640 5 potholes, 13.5ms\n",
            "video 1/1 (frame 462/692) /content/potholes_video.mp4: 384x640 6 potholes, 13.5ms\n",
            "WARNING ⚠️ Video stream unresponsive, please check your IP camera connection.\n",
            "video 1/1 (frame 463/692) /content/potholes_video.mp4: 384x640 5 potholes, 13.6ms\n",
            "video 1/1 (frame 464/692) /content/potholes_video.mp4: 384x640 5 potholes, 13.5ms\n",
            "video 1/1 (frame 465/692) /content/potholes_video.mp4: 384x640 7 potholes, 13.5ms\n",
            "video 1/1 (frame 466/692) /content/potholes_video.mp4: 384x640 7 potholes, 13.4ms\n",
            "WARNING ⚠️ Video stream unresponsive, please check your IP camera connection.\n",
            "video 1/1 (frame 467/692) /content/potholes_video.mp4: 384x640 6 potholes, 13.2ms\n",
            "video 1/1 (frame 468/692) /content/potholes_video.mp4: 384x640 6 potholes, 13.2ms\n",
            "video 1/1 (frame 469/692) /content/potholes_video.mp4: 384x640 5 potholes, 13.0ms\n",
            "WARNING ⚠️ Video stream unresponsive, please check your IP camera connection.\n",
            "video 1/1 (frame 470/692) /content/potholes_video.mp4: 384x640 4 potholes, 13.0ms\n",
            "video 1/1 (frame 471/692) /content/potholes_video.mp4: 384x640 6 potholes, 13.0ms\n",
            "video 1/1 (frame 472/692) /content/potholes_video.mp4: 384x640 5 potholes, 13.0ms\n",
            "video 1/1 (frame 473/692) /content/potholes_video.mp4: 384x640 6 potholes, 13.0ms\n",
            "WARNING ⚠️ Video stream unresponsive, please check your IP camera connection.\n",
            "video 1/1 (frame 474/692) /content/potholes_video.mp4: 384x640 5 potholes, 13.1ms\n",
            "video 1/1 (frame 475/692) /content/potholes_video.mp4: 384x640 5 potholes, 15.2ms\n",
            "video 1/1 (frame 476/692) /content/potholes_video.mp4: 384x640 5 potholes, 13.0ms\n",
            "WARNING ⚠️ Video stream unresponsive, please check your IP camera connection.\n",
            "video 1/1 (frame 477/692) /content/potholes_video.mp4: 384x640 4 potholes, 13.0ms\n",
            "video 1/1 (frame 478/692) /content/potholes_video.mp4: 384x640 4 potholes, 13.0ms\n",
            "video 1/1 (frame 479/692) /content/potholes_video.mp4: 384x640 5 potholes, 17.2ms\n",
            "WARNING ⚠️ Video stream unresponsive, please check your IP camera connection.\n",
            "video 1/1 (frame 480/692) /content/potholes_video.mp4: 384x640 4 potholes, 26.2ms\n",
            "video 1/1 (frame 481/692) /content/potholes_video.mp4: 384x640 4 potholes, 17.0ms\n",
            "video 1/1 (frame 482/692) /content/potholes_video.mp4: 384x640 4 potholes, 29.6ms\n",
            "video 1/1 (frame 483/692) /content/potholes_video.mp4: 384x640 3 potholes, 13.0ms\n",
            "WARNING ⚠️ Video stream unresponsive, please check your IP camera connection.\n",
            "video 1/1 (frame 484/692) /content/potholes_video.mp4: 384x640 2 potholes, 13.0ms\n",
            "video 1/1 (frame 485/692) /content/potholes_video.mp4: 384x640 2 potholes, 17.1ms\n",
            "video 1/1 (frame 486/692) /content/potholes_video.mp4: 384x640 3 potholes, 25.7ms\n",
            "WARNING ⚠️ Video stream unresponsive, please check your IP camera connection.\n",
            "video 1/1 (frame 487/692) /content/potholes_video.mp4: 384x640 4 potholes, 13.6ms\n",
            "video 1/1 (frame 488/692) /content/potholes_video.mp4: 384x640 2 potholes, 13.3ms\n",
            "WARNING ⚠️ Video stream unresponsive, please check your IP camera connection.\n",
            "video 1/1 (frame 489/692) /content/potholes_video.mp4: 384x640 3 potholes, 18.3ms\n",
            "video 1/1 (frame 490/692) /content/potholes_video.mp4: 384x640 3 potholes, 14.5ms\n",
            "video 1/1 (frame 491/692) /content/potholes_video.mp4: 384x640 3 potholes, 14.8ms\n",
            "WARNING ⚠️ Video stream unresponsive, please check your IP camera connection.\n",
            "video 1/1 (frame 492/692) /content/potholes_video.mp4: 384x640 1 pothole, 23.9ms\n",
            "video 1/1 (frame 493/692) /content/potholes_video.mp4: 384x640 2 potholes, 13.5ms\n",
            "video 1/1 (frame 494/692) /content/potholes_video.mp4: 384x640 1 pothole, 20.1ms\n",
            "WARNING ⚠️ Video stream unresponsive, please check your IP camera connection.\n",
            "video 1/1 (frame 495/692) /content/potholes_video.mp4: 384x640 (no detections), 20.3ms\n",
            "video 1/1 (frame 496/692) /content/potholes_video.mp4: 384x640 2 potholes, 13.1ms\n",
            "video 1/1 (frame 497/692) /content/potholes_video.mp4: 384x640 1 pothole, 24.2ms\n",
            "WARNING ⚠️ Video stream unresponsive, please check your IP camera connection.\n",
            "video 1/1 (frame 498/692) /content/potholes_video.mp4: 384x640 (no detections), 21.6ms\n",
            "video 1/1 (frame 499/692) /content/potholes_video.mp4: 384x640 (no detections), 13.7ms\n",
            "video 1/1 (frame 500/692) /content/potholes_video.mp4: 384x640 (no detections), 21.1ms\n",
            "video 1/1 (frame 501/692) /content/potholes_video.mp4: 384x640 (no detections), 13.0ms\n",
            "WARNING ⚠️ Video stream unresponsive, please check your IP camera connection.\n",
            "video 1/1 (frame 502/692) /content/potholes_video.mp4: 384x640 1 pothole, 17.7ms\n",
            "video 1/1 (frame 503/692) /content/potholes_video.mp4: 384x640 1 pothole, 13.0ms\n",
            "video 1/1 (frame 504/692) /content/potholes_video.mp4: 384x640 1 pothole, 13.0ms\n",
            "WARNING ⚠️ Video stream unresponsive, please check your IP camera connection.\n",
            "video 1/1 (frame 505/692) /content/potholes_video.mp4: 384x640 1 pothole, 18.3ms\n",
            "video 1/1 (frame 506/692) /content/potholes_video.mp4: 384x640 2 potholes, 15.1ms\n",
            "video 1/1 (frame 507/692) /content/potholes_video.mp4: 384x640 2 potholes, 15.0ms\n",
            "WARNING ⚠️ Video stream unresponsive, please check your IP camera connection.\n",
            "video 1/1 (frame 508/692) /content/potholes_video.mp4: 384x640 3 potholes, 42.7ms\n",
            "video 1/1 (frame 509/692) /content/potholes_video.mp4: 384x640 3 potholes, 26.8ms\n",
            "video 1/1 (frame 510/692) /content/potholes_video.mp4: 384x640 2 potholes, 29.8ms\n",
            "WARNING ⚠️ Video stream unresponsive, please check your IP camera connection.\n",
            "video 1/1 (frame 511/692) /content/potholes_video.mp4: 384x640 3 potholes, 30.9ms\n",
            "video 1/1 (frame 512/692) /content/potholes_video.mp4: 384x640 3 potholes, 15.3ms\n",
            "video 1/1 (frame 513/692) /content/potholes_video.mp4: 384x640 4 potholes, 21.7ms\n",
            "WARNING ⚠️ Video stream unresponsive, please check your IP camera connection.\n",
            "video 1/1 (frame 514/692) /content/potholes_video.mp4: 384x640 3 potholes, 25.1ms\n",
            "video 1/1 (frame 515/692) /content/potholes_video.mp4: 384x640 3 potholes, 15.9ms\n",
            "video 1/1 (frame 516/692) /content/potholes_video.mp4: 384x640 3 potholes, 15.6ms\n",
            "WARNING ⚠️ Video stream unresponsive, please check your IP camera connection.\n",
            "video 1/1 (frame 517/692) /content/potholes_video.mp4: 384x640 3 potholes, 23.6ms\n",
            "video 1/1 (frame 518/692) /content/potholes_video.mp4: 384x640 3 potholes, 18.6ms\n",
            "video 1/1 (frame 519/692) /content/potholes_video.mp4: 384x640 4 potholes, 15.9ms\n",
            "video 1/1 (frame 520/692) /content/potholes_video.mp4: 384x640 4 potholes, 15.9ms\n",
            "WARNING ⚠️ Video stream unresponsive, please check your IP camera connection.\n",
            "video 1/1 (frame 521/692) /content/potholes_video.mp4: 384x640 4 potholes, 25.0ms\n",
            "video 1/1 (frame 522/692) /content/potholes_video.mp4: 384x640 3 potholes, 15.9ms\n",
            "video 1/1 (frame 523/692) /content/potholes_video.mp4: 384x640 3 potholes, 19.7ms\n",
            "WARNING ⚠️ Video stream unresponsive, please check your IP camera connection.\n",
            "video 1/1 (frame 524/692) /content/potholes_video.mp4: 384x640 3 potholes, 22.2ms\n",
            "video 1/1 (frame 525/692) /content/potholes_video.mp4: 384x640 2 potholes, 17.7ms\n",
            "video 1/1 (frame 526/692) /content/potholes_video.mp4: 384x640 2 potholes, 24.2ms\n",
            "WARNING ⚠️ Video stream unresponsive, please check your IP camera connection.\n",
            "video 1/1 (frame 527/692) /content/potholes_video.mp4: 384x640 2 potholes, 25.7ms\n",
            "video 1/1 (frame 528/692) /content/potholes_video.mp4: 384x640 4 potholes, 17.0ms\n",
            "video 1/1 (frame 529/692) /content/potholes_video.mp4: 384x640 2 potholes, 19.1ms\n",
            "WARNING ⚠️ Video stream unresponsive, please check your IP camera connection.\n",
            "video 1/1 (frame 530/692) /content/potholes_video.mp4: 384x640 2 potholes, 16.8ms\n",
            "video 1/1 (frame 531/692) /content/potholes_video.mp4: 384x640 2 potholes, 16.8ms\n",
            "video 1/1 (frame 532/692) /content/potholes_video.mp4: 384x640 1 pothole, 17.1ms\n",
            "WARNING ⚠️ Video stream unresponsive, please check your IP camera connection.\n",
            "video 1/1 (frame 533/692) /content/potholes_video.mp4: 384x640 1 pothole, 17.8ms\n",
            "video 1/1 (frame 534/692) /content/potholes_video.mp4: 384x640 2 potholes, 18.1ms\n",
            "video 1/1 (frame 535/692) /content/potholes_video.mp4: 384x640 1 pothole, 20.2ms\n",
            "WARNING ⚠️ Video stream unresponsive, please check your IP camera connection.\n",
            "video 1/1 (frame 536/692) /content/potholes_video.mp4: 384x640 1 pothole, 32.7ms\n",
            "video 1/1 (frame 537/692) /content/potholes_video.mp4: 384x640 1 pothole, 17.6ms\n",
            "video 1/1 (frame 538/692) /content/potholes_video.mp4: 384x640 1 pothole, 29.5ms\n",
            "WARNING ⚠️ Video stream unresponsive, please check your IP camera connection.\n",
            "video 1/1 (frame 539/692) /content/potholes_video.mp4: 384x640 2 potholes, 17.9ms\n",
            "video 1/1 (frame 540/692) /content/potholes_video.mp4: 384x640 1 pothole, 17.5ms\n",
            "video 1/1 (frame 541/692) /content/potholes_video.mp4: 384x640 1 pothole, 19.0ms\n",
            "WARNING ⚠️ Video stream unresponsive, please check your IP camera connection.\n",
            "video 1/1 (frame 542/692) /content/potholes_video.mp4: 384x640 (no detections), 28.5ms\n",
            "video 1/1 (frame 543/692) /content/potholes_video.mp4: 384x640 1 pothole, 17.7ms\n",
            "video 1/1 (frame 544/692) /content/potholes_video.mp4: 384x640 (no detections), 29.6ms\n",
            "WARNING ⚠️ Video stream unresponsive, please check your IP camera connection.\n",
            "video 1/1 (frame 545/692) /content/potholes_video.mp4: 384x640 (no detections), 25.8ms\n",
            "video 1/1 (frame 546/692) /content/potholes_video.mp4: 384x640 (no detections), 18.2ms\n",
            "video 1/1 (frame 547/692) /content/potholes_video.mp4: 384x640 1 pothole, 24.2ms\n",
            "WARNING ⚠️ Video stream unresponsive, please check your IP camera connection.\n",
            "video 1/1 (frame 548/692) /content/potholes_video.mp4: 384x640 1 pothole, 23.0ms\n",
            "video 1/1 (frame 549/692) /content/potholes_video.mp4: 384x640 2 potholes, 18.2ms\n",
            "video 1/1 (frame 550/692) /content/potholes_video.mp4: 384x640 2 potholes, 18.2ms\n",
            "video 1/1 (frame 551/692) /content/potholes_video.mp4: 384x640 1 pothole, 18.9ms\n",
            "WARNING ⚠️ Video stream unresponsive, please check your IP camera connection.\n",
            "video 1/1 (frame 552/692) /content/potholes_video.mp4: 384x640 1 pothole, 18.3ms\n",
            "video 1/1 (frame 553/692) /content/potholes_video.mp4: 384x640 1 pothole, 18.5ms\n",
            "WARNING ⚠️ Video stream unresponsive, please check your IP camera connection.\n",
            "video 1/1 (frame 554/692) /content/potholes_video.mp4: 384x640 1 pothole, 24.5ms\n",
            "video 1/1 (frame 555/692) /content/potholes_video.mp4: 384x640 1 pothole, 18.3ms\n",
            "video 1/1 (frame 556/692) /content/potholes_video.mp4: 384x640 1 pothole, 21.2ms\n",
            "video 1/1 (frame 557/692) /content/potholes_video.mp4: 384x640 1 pothole, 19.4ms\n",
            "WARNING ⚠️ Video stream unresponsive, please check your IP camera connection.\n",
            "video 1/1 (frame 558/692) /content/potholes_video.mp4: 384x640 2 potholes, 18.8ms\n",
            "video 1/1 (frame 559/692) /content/potholes_video.mp4: 384x640 2 potholes, 18.8ms\n",
            "WARNING ⚠️ Video stream unresponsive, please check your IP camera connection.\n",
            "video 1/1 (frame 560/692) /content/potholes_video.mp4: 384x640 2 potholes, 31.6ms\n",
            "video 1/1 (frame 561/692) /content/potholes_video.mp4: 384x640 2 potholes, 18.8ms\n",
            "video 1/1 (frame 562/692) /content/potholes_video.mp4: 384x640 (no detections), 18.8ms\n",
            "WARNING ⚠️ Video stream unresponsive, please check your IP camera connection.\n",
            "video 1/1 (frame 563/692) /content/potholes_video.mp4: 384x640 2 potholes, 22.8ms\n",
            "video 1/1 (frame 564/692) /content/potholes_video.mp4: 384x640 1 pothole, 19.0ms\n",
            "video 1/1 (frame 565/692) /content/potholes_video.mp4: 384x640 (no detections), 19.2ms\n",
            "WARNING ⚠️ Video stream unresponsive, please check your IP camera connection.\n",
            "video 1/1 (frame 566/692) /content/potholes_video.mp4: 384x640 1 pothole, 35.0ms\n",
            "video 1/1 (frame 567/692) /content/potholes_video.mp4: 384x640 1 pothole, 19.5ms\n",
            "video 1/1 (frame 568/692) /content/potholes_video.mp4: 384x640 1 pothole, 29.3ms\n",
            "WARNING ⚠️ Video stream unresponsive, please check your IP camera connection.\n",
            "video 1/1 (frame 569/692) /content/potholes_video.mp4: 384x640 1 pothole, 24.3ms\n",
            "video 1/1 (frame 570/692) /content/potholes_video.mp4: 384x640 1 pothole, 19.1ms\n",
            "video 1/1 (frame 571/692) /content/potholes_video.mp4: 384x640 2 potholes, 19.1ms\n",
            "WARNING ⚠️ Video stream unresponsive, please check your IP camera connection.\n",
            "video 1/1 (frame 572/692) /content/potholes_video.mp4: 384x640 1 pothole, 26.9ms\n",
            "video 1/1 (frame 573/692) /content/potholes_video.mp4: 384x640 1 pothole, 19.4ms\n",
            "WARNING ⚠️ Video stream unresponsive, please check your IP camera connection.\n",
            "video 1/1 (frame 574/692) /content/potholes_video.mp4: 384x640 1 pothole, 19.4ms\n",
            "video 1/1 (frame 575/692) /content/potholes_video.mp4: 384x640 1 pothole, 19.4ms\n",
            "video 1/1 (frame 576/692) /content/potholes_video.mp4: 384x640 1 pothole, 19.4ms\n",
            "WARNING ⚠️ Video stream unresponsive, please check your IP camera connection.\n",
            "video 1/1 (frame 577/692) /content/potholes_video.mp4: 384x640 2 potholes, 19.4ms\n",
            "video 1/1 (frame 578/692) /content/potholes_video.mp4: 384x640 2 potholes, 19.4ms\n",
            "video 1/1 (frame 579/692) /content/potholes_video.mp4: 384x640 1 pothole, 19.5ms\n",
            "WARNING ⚠️ Video stream unresponsive, please check your IP camera connection.\n",
            "video 1/1 (frame 580/692) /content/potholes_video.mp4: 384x640 1 pothole, 19.1ms\n",
            "video 1/1 (frame 581/692) /content/potholes_video.mp4: 384x640 4 potholes, 18.0ms\n",
            "video 1/1 (frame 582/692) /content/potholes_video.mp4: 384x640 3 potholes, 18.1ms\n",
            "WARNING ⚠️ Video stream unresponsive, please check your IP camera connection.\n",
            "video 1/1 (frame 583/692) /content/potholes_video.mp4: 384x640 3 potholes, 18.0ms\n",
            "video 1/1 (frame 584/692) /content/potholes_video.mp4: 384x640 3 potholes, 18.1ms\n",
            "video 1/1 (frame 585/692) /content/potholes_video.mp4: 384x640 3 potholes, 18.0ms\n",
            "WARNING ⚠️ Video stream unresponsive, please check your IP camera connection.\n",
            "video 1/1 (frame 586/692) /content/potholes_video.mp4: 384x640 1 pothole, 14.9ms\n",
            "video 1/1 (frame 587/692) /content/potholes_video.mp4: 384x640 (no detections), 14.8ms\n",
            "video 1/1 (frame 588/692) /content/potholes_video.mp4: 384x640 4 potholes, 14.9ms\n",
            "WARNING ⚠️ Video stream unresponsive, please check your IP camera connection.\n",
            "video 1/1 (frame 589/692) /content/potholes_video.mp4: 384x640 3 potholes, 14.6ms\n",
            "video 1/1 (frame 590/692) /content/potholes_video.mp4: 384x640 3 potholes, 14.6ms\n",
            "video 1/1 (frame 591/692) /content/potholes_video.mp4: 384x640 2 potholes, 14.6ms\n",
            "WARNING ⚠️ Video stream unresponsive, please check your IP camera connection.\n",
            "video 1/1 (frame 592/692) /content/potholes_video.mp4: 384x640 2 potholes, 15.3ms\n",
            "video 1/1 (frame 593/692) /content/potholes_video.mp4: 384x640 3 potholes, 14.6ms\n",
            "video 1/1 (frame 594/692) /content/potholes_video.mp4: 384x640 3 potholes, 14.6ms\n",
            "video 1/1 (frame 595/692) /content/potholes_video.mp4: 384x640 2 potholes, 14.6ms\n",
            "WARNING ⚠️ Video stream unresponsive, please check your IP camera connection.\n",
            "video 1/1 (frame 596/692) /content/potholes_video.mp4: 384x640 5 potholes, 14.6ms\n",
            "video 1/1 (frame 597/692) /content/potholes_video.mp4: 384x640 2 potholes, 14.6ms\n",
            "WARNING ⚠️ Video stream unresponsive, please check your IP camera connection.\n",
            "video 1/1 (frame 598/692) /content/potholes_video.mp4: 384x640 2 potholes, 15.2ms\n",
            "video 1/1 (frame 599/692) /content/potholes_video.mp4: 384x640 3 potholes, 14.6ms\n",
            "video 1/1 (frame 600/692) /content/potholes_video.mp4: 384x640 3 potholes, 14.9ms\n",
            "video 1/1 (frame 601/692) /content/potholes_video.mp4: 384x640 5 potholes, 18.6ms\n",
            "WARNING ⚠️ Video stream unresponsive, please check your IP camera connection.\n",
            "video 1/1 (frame 602/692) /content/potholes_video.mp4: 384x640 6 potholes, 18.1ms\n",
            "video 1/1 (frame 603/692) /content/potholes_video.mp4: 384x640 7 potholes, 14.7ms\n",
            "video 1/1 (frame 604/692) /content/potholes_video.mp4: 384x640 5 potholes, 14.5ms\n",
            "WARNING ⚠️ Video stream unresponsive, please check your IP camera connection.\n",
            "video 1/1 (frame 605/692) /content/potholes_video.mp4: 384x640 3 potholes, 14.5ms\n",
            "video 1/1 (frame 606/692) /content/potholes_video.mp4: 384x640 3 potholes, 14.5ms\n",
            "video 1/1 (frame 607/692) /content/potholes_video.mp4: 384x640 3 potholes, 14.5ms\n",
            "WARNING ⚠️ Video stream unresponsive, please check your IP camera connection.\n",
            "video 1/1 (frame 608/692) /content/potholes_video.mp4: 384x640 5 potholes, 16.4ms\n",
            "video 1/1 (frame 609/692) /content/potholes_video.mp4: 384x640 4 potholes, 14.6ms\n",
            "video 1/1 (frame 610/692) /content/potholes_video.mp4: 384x640 5 potholes, 14.6ms\n",
            "WARNING ⚠️ Video stream unresponsive, please check your IP camera connection.\n",
            "video 1/1 (frame 611/692) /content/potholes_video.mp4: 384x640 6 potholes, 14.6ms\n",
            "video 1/1 (frame 612/692) /content/potholes_video.mp4: 384x640 4 potholes, 14.6ms\n",
            "video 1/1 (frame 613/692) /content/potholes_video.mp4: 384x640 5 potholes, 14.5ms\n",
            "video 1/1 (frame 614/692) /content/potholes_video.mp4: 384x640 3 potholes, 14.5ms\n",
            "WARNING ⚠️ Video stream unresponsive, please check your IP camera connection.\n",
            "video 1/1 (frame 615/692) /content/potholes_video.mp4: 384x640 4 potholes, 14.5ms\n",
            "video 1/1 (frame 616/692) /content/potholes_video.mp4: 384x640 4 potholes, 14.5ms\n",
            "video 1/1 (frame 617/692) /content/potholes_video.mp4: 384x640 3 potholes, 13.4ms\n",
            "WARNING ⚠️ Video stream unresponsive, please check your IP camera connection.\n",
            "video 1/1 (frame 618/692) /content/potholes_video.mp4: 384x640 4 potholes, 20.1ms\n",
            "video 1/1 (frame 619/692) /content/potholes_video.mp4: 384x640 4 potholes, 13.4ms\n",
            "video 1/1 (frame 620/692) /content/potholes_video.mp4: 384x640 4 potholes, 13.1ms\n",
            "WARNING ⚠️ Video stream unresponsive, please check your IP camera connection.\n",
            "video 1/1 (frame 621/692) /content/potholes_video.mp4: 384x640 4 potholes, 13.1ms\n",
            "video 1/1 (frame 622/692) /content/potholes_video.mp4: 384x640 4 potholes, 13.1ms\n",
            "video 1/1 (frame 623/692) /content/potholes_video.mp4: 384x640 5 potholes, 13.1ms\n",
            "WARNING ⚠️ Video stream unresponsive, please check your IP camera connection.\n",
            "video 1/1 (frame 624/692) /content/potholes_video.mp4: 384x640 4 potholes, 13.1ms\n",
            "video 1/1 (frame 625/692) /content/potholes_video.mp4: 384x640 4 potholes, 13.1ms\n",
            "video 1/1 (frame 626/692) /content/potholes_video.mp4: 384x640 4 potholes, 13.1ms\n",
            "WARNING ⚠️ Video stream unresponsive, please check your IP camera connection.\n",
            "video 1/1 (frame 627/692) /content/potholes_video.mp4: 384x640 4 potholes, 13.1ms\n",
            "video 1/1 (frame 628/692) /content/potholes_video.mp4: 384x640 3 potholes, 18.3ms\n",
            "video 1/1 (frame 629/692) /content/potholes_video.mp4: 384x640 4 potholes, 13.1ms\n",
            "video 1/1 (frame 630/692) /content/potholes_video.mp4: 384x640 3 potholes, 13.1ms\n",
            "WARNING ⚠️ Video stream unresponsive, please check your IP camera connection.\n",
            "video 1/1 (frame 631/692) /content/potholes_video.mp4: 384x640 2 potholes, 13.1ms\n",
            "video 1/1 (frame 632/692) /content/potholes_video.mp4: 384x640 2 potholes, 13.4ms\n",
            "video 1/1 (frame 633/692) /content/potholes_video.mp4: 384x640 4 potholes, 13.1ms\n",
            "WARNING ⚠️ Video stream unresponsive, please check your IP camera connection.\n",
            "video 1/1 (frame 634/692) /content/potholes_video.mp4: 384x640 2 potholes, 13.1ms\n",
            "video 1/1 (frame 635/692) /content/potholes_video.mp4: 384x640 4 potholes, 13.1ms\n",
            "video 1/1 (frame 636/692) /content/potholes_video.mp4: 384x640 3 potholes, 13.1ms\n",
            "video 1/1 (frame 637/692) /content/potholes_video.mp4: 384x640 4 potholes, 14.3ms\n",
            "WARNING ⚠️ Video stream unresponsive, please check your IP camera connection.\n",
            "video 1/1 (frame 638/692) /content/potholes_video.mp4: 384x640 4 potholes, 15.3ms\n",
            "video 1/1 (frame 639/692) /content/potholes_video.mp4: 384x640 3 potholes, 13.1ms\n",
            "video 1/1 (frame 640/692) /content/potholes_video.mp4: 384x640 4 potholes, 13.3ms\n",
            "WARNING ⚠️ Video stream unresponsive, please check your IP camera connection.\n",
            "video 1/1 (frame 641/692) /content/potholes_video.mp4: 384x640 3 potholes, 13.6ms\n",
            "video 1/1 (frame 642/692) /content/potholes_video.mp4: 384x640 2 potholes, 13.1ms\n",
            "video 1/1 (frame 643/692) /content/potholes_video.mp4: 384x640 2 potholes, 13.1ms\n",
            "video 1/1 (frame 644/692) /content/potholes_video.mp4: 384x640 2 potholes, 13.1ms\n",
            "WARNING ⚠️ Video stream unresponsive, please check your IP camera connection.\n",
            "video 1/1 (frame 645/692) /content/potholes_video.mp4: 384x640 2 potholes, 13.9ms\n",
            "video 1/1 (frame 646/692) /content/potholes_video.mp4: 384x640 3 potholes, 13.1ms\n",
            "video 1/1 (frame 647/692) /content/potholes_video.mp4: 384x640 3 potholes, 13.1ms\n",
            "WARNING ⚠️ Video stream unresponsive, please check your IP camera connection.\n",
            "video 1/1 (frame 648/692) /content/potholes_video.mp4: 384x640 3 potholes, 13.1ms\n",
            "video 1/1 (frame 649/692) /content/potholes_video.mp4: 384x640 2 potholes, 13.1ms\n",
            "video 1/1 (frame 650/692) /content/potholes_video.mp4: 384x640 2 potholes, 13.1ms\n",
            "video 1/1 (frame 651/692) /content/potholes_video.mp4: 384x640 4 potholes, 13.3ms\n",
            "WARNING ⚠️ Video stream unresponsive, please check your IP camera connection.\n",
            "video 1/1 (frame 652/692) /content/potholes_video.mp4: 384x640 1 pothole, 13.1ms\n",
            "video 1/1 (frame 653/692) /content/potholes_video.mp4: 384x640 2 potholes, 13.5ms\n",
            "video 1/1 (frame 654/692) /content/potholes_video.mp4: 384x640 3 potholes, 13.1ms\n",
            "WARNING ⚠️ Video stream unresponsive, please check your IP camera connection.\n",
            "video 1/1 (frame 655/692) /content/potholes_video.mp4: 384x640 4 potholes, 13.1ms\n",
            "video 1/1 (frame 656/692) /content/potholes_video.mp4: 384x640 4 potholes, 13.1ms\n",
            "video 1/1 (frame 657/692) /content/potholes_video.mp4: 384x640 4 potholes, 19.2ms\n",
            "video 1/1 (frame 658/692) /content/potholes_video.mp4: 384x640 3 potholes, 13.1ms\n",
            "video 1/1 (frame 659/692) /content/potholes_video.mp4: 384x640 4 potholes, 13.1ms\n",
            "video 1/1 (frame 660/692) /content/potholes_video.mp4: 384x640 4 potholes, 13.1ms\n",
            "video 1/1 (frame 661/692) /content/potholes_video.mp4: 384x640 2 potholes, 13.2ms\n",
            "WARNING ⚠️ Video stream unresponsive, please check your IP camera connection.\n",
            "video 1/1 (frame 662/692) /content/potholes_video.mp4: 384x640 2 potholes, 13.1ms\n",
            "video 1/1 (frame 663/692) /content/potholes_video.mp4: 384x640 1 pothole, 13.1ms\n",
            "video 1/1 (frame 664/692) /content/potholes_video.mp4: 384x640 1 pothole, 13.2ms\n",
            "WARNING ⚠️ Video stream unresponsive, please check your IP camera connection.\n",
            "video 1/1 (frame 665/692) /content/potholes_video.mp4: 384x640 1 pothole, 13.1ms\n",
            "video 1/1 (frame 666/692) /content/potholes_video.mp4: 384x640 2 potholes, 13.4ms\n",
            "video 1/1 (frame 667/692) /content/potholes_video.mp4: 384x640 2 potholes, 13.5ms\n",
            "video 1/1 (frame 668/692) /content/potholes_video.mp4: 384x640 3 potholes, 14.1ms\n",
            "WARNING ⚠️ Video stream unresponsive, please check your IP camera connection.\n",
            "video 1/1 (frame 669/692) /content/potholes_video.mp4: 384x640 3 potholes, 16.0ms\n",
            "video 1/1 (frame 670/692) /content/potholes_video.mp4: 384x640 2 potholes, 13.3ms\n",
            "video 1/1 (frame 671/692) /content/potholes_video.mp4: 384x640 2 potholes, 14.6ms\n",
            "WARNING ⚠️ Video stream unresponsive, please check your IP camera connection.\n",
            "video 1/1 (frame 672/692) /content/potholes_video.mp4: 384x640 2 potholes, 13.3ms\n",
            "video 1/1 (frame 673/692) /content/potholes_video.mp4: 384x640 2 potholes, 13.2ms\n",
            "video 1/1 (frame 674/692) /content/potholes_video.mp4: 384x640 3 potholes, 13.2ms\n",
            "video 1/1 (frame 675/692) /content/potholes_video.mp4: 384x640 2 potholes, 13.2ms\n",
            "WARNING ⚠️ Video stream unresponsive, please check your IP camera connection.\n",
            "video 1/1 (frame 676/692) /content/potholes_video.mp4: 384x640 2 potholes, 13.2ms\n",
            "video 1/1 (frame 677/692) /content/potholes_video.mp4: 384x640 2 potholes, 13.0ms\n",
            "video 1/1 (frame 678/692) /content/potholes_video.mp4: 384x640 2 potholes, 13.0ms\n",
            "video 1/1 (frame 679/692) /content/potholes_video.mp4: 384x640 2 potholes, 13.0ms\n",
            "WARNING ⚠️ Video stream unresponsive, please check your IP camera connection.\n",
            "video 1/1 (frame 680/692) /content/potholes_video.mp4: 384x640 2 potholes, 13.5ms\n",
            "video 1/1 (frame 681/692) /content/potholes_video.mp4: 384x640 1 pothole, 13.0ms\n",
            "video 1/1 (frame 682/692) /content/potholes_video.mp4: 384x640 1 pothole, 13.1ms\n",
            "video 1/1 (frame 683/692) /content/potholes_video.mp4: 384x640 1 pothole, 13.0ms\n",
            "WARNING ⚠️ Video stream unresponsive, please check your IP camera connection.\n",
            "video 1/1 (frame 684/692) /content/potholes_video.mp4: 384x640 2 potholes, 14.2ms\n",
            "video 1/1 (frame 685/692) /content/potholes_video.mp4: 384x640 2 potholes, 13.0ms\n",
            "video 1/1 (frame 686/692) /content/potholes_video.mp4: 384x640 (no detections), 13.0ms\n",
            "video 1/1 (frame 687/692) /content/potholes_video.mp4: 384x640 (no detections), 13.1ms\n",
            "video 1/1 (frame 688/692) /content/potholes_video.mp4: 384x640 1 pothole, 13.4ms\n",
            "video 1/1 (frame 689/692) /content/potholes_video.mp4: 384x640 1 pothole, 13.1ms\n",
            "video 1/1 (frame 690/692) /content/potholes_video.mp4: 384x640 (no detections), 13.2ms\n",
            "WARNING ⚠️ Video stream unresponsive, please check your IP camera connection.\n",
            "video 1/1 (frame 691/692) /content/potholes_video.mp4: 384x640 (no detections), 13.5ms\n",
            "video 1/1 (frame 692/692) /content/potholes_video.mp4: 384x640 1 pothole, 13.0ms\n",
            "Speed: 2.9ms preprocess, 19.5ms inference, 1.8ms postprocess per image at shape (1, 3, 384, 640)\n",
            "Results saved to \u001b[1mruns/detect/train27\u001b[0m\n"
          ]
        }
      ],
      "source": [
        "image_path = \"/content/potholes_video.mp4\"\n",
        "results = model.predict(source=image_path, save=True)"
      ]
    },
    {
      "cell_type": "code",
      "execution_count": null,
      "metadata": {
        "id": "ZDE-bACf00Z3"
      },
      "outputs": [],
      "source": [
        "import cv2\n",
        "\n",
        "\n",
        "results = model.predict(source=\"path/to/your/image.jpg\", save=False)\n",
        "\n",
        "custom_color = (0, 255, 0)\n",
        "\n",
        "image_path = \"path/to/your/image.jpg\"\n",
        "image = cv2.imread(image_path)\n",
        "\n",
        "for result in results:\n",
        "    for box in result.boxes:\n",
        "        x1, y1, x2, y2 = map(int, box.xyxy[0])  # Get bounding box coordinates\n",
        "        confidence = box.conf[0]  # Get confidence score\n",
        "        class_id = int(box.cls[0])  # Get class ID\n",
        "        label = f\"{model.names[class_id]} {confidence:.2f}\"  # Get class label and confidence score\n",
        "\n",
        "        # Draw the bounding box with the custom color\n",
        "        cv2.rectangle(image, (x1, y1), (x2, y2), custom_color, 2)\n",
        "        cv2.putText(image, label, (x1, y1 - 10), cv2.FONT_HERSHEY_SIMPLEX, 0.5, custom_color, 2)\n",
        "\n",
        "result_image_path = \"path/to/your/custom_result_image.jpg\"\n",
        "cv2.imwrite(result_image_path, image)\n",
        "cv2.imshow(\"Result\", image)\n",
        "cv2.waitKey(0)\n",
        "cv2.destroyAllWindows()\n"
      ]
    },
    {
      "cell_type": "code",
      "execution_count": null,
      "metadata": {
        "id": "YP5K4xo3tQ_p"
      },
      "outputs": [],
      "source": [
        "from google.colab import files\n",
        "\n",
        "weight_path = '/content/runs/detect/train2/weights/best.pt'\n",
        "\n",
        "files.download(weight_path)"
      ]
    },
    {
      "cell_type": "code",
      "execution_count": null,
      "metadata": {
        "colab": {
          "base_uri": "https://localhost:8080/"
        },
        "id": "OwMwgEoYWeeM",
        "outputId": "2133e5e6-6854-476d-8562-62dd519873a2"
      },
      "outputs": [
        {
          "name": "stdout",
          "output_type": "stream",
          "text": [
            "\n",
            "image 1/1 /content/WhatsApp Image 2024-05-28 at 23.50.40.jpeg: 480x640 3 potholes, 1447.9ms\n",
            "Speed: 5.9ms preprocess, 1447.9ms inference, 2.2ms postprocess per image at shape (1, 3, 480, 640)\n",
            "Results saved to \u001b[1mruns/detect/predict\u001b[0m\n"
          ]
        }
      ],
      "source": [
        "result = trained_model.predict(source =\"/content/WhatsApp Image 2024-05-28 at 23.50.40.jpeg\" ,save = True )"
      ]
    },
    {
      "cell_type": "code",
      "execution_count": null,
      "metadata": {
        "colab": {
          "base_uri": "https://localhost:8080/",
          "height": 1000
        },
        "id": "huaVuz-xQtiH",
        "outputId": "222e3a43-a431-4835-ac75-b9fd0ea6026a"
      },
      "outputs": [
        {
          "name": "stdout",
          "output_type": "stream",
          "text": [
            "Ultralytics YOLOv8.2.24 🚀 Python-3.10.12 torch-2.3.0+cu121 CPU (Intel Xeon 2.20GHz)\n",
            "Model summary (fused): 218 layers, 25840339 parameters, 0 gradients, 78.7 GFLOPs\n",
            "\n",
            "\u001b[34m\u001b[1mPyTorch:\u001b[0m starting from '/content/drive/MyDrive/Pothole.v1-raw.yolov8/best.pt' with input shape (1, 3, 640, 640) BCHW and output shape(s) (1, 5, 8400) (49.6 MB)\n",
            "\u001b[31m\u001b[1mrequirements:\u001b[0m Ultralytics requirements ['onnx>=1.12.0', 'onnx2tf>=1.15.4,<=1.17.5', 'sng4onnx>=1.0.1', 'onnxsim>=0.4.33', 'onnx_graphsurgeon>=0.3.26', 'tflite_support', 'onnxruntime'] not found, attempting AutoUpdate...\n",
            "Looking in indexes: https://pypi.org/simple, https://pypi.ngc.nvidia.com\n",
            "Collecting onnx>=1.12.0\n",
            "  Downloading onnx-1.16.1-cp310-cp310-manylinux_2_17_x86_64.manylinux2014_x86_64.whl (15.9 MB)\n",
            "     ━━━━━━━━━━━━━━━━━━━━━━━━━━━━━━━━━━━━━━━━ 15.9/15.9 MB 145.3 MB/s eta 0:00:00\n",
            "Collecting onnx2tf<=1.17.5,>=1.15.4\n",
            "  Downloading onnx2tf-1.17.5-py3-none-any.whl (400 kB)\n",
            "     ━━━━━━━━━━━━━━━━━━━━━━━━━━━━━━━━━━━━━━━━ 400.4/400.4 kB 175.8 MB/s eta 0:00:00\n",
            "Collecting sng4onnx>=1.0.1\n",
            "  Downloading sng4onnx-1.0.4-py3-none-any.whl (5.9 kB)\n",
            "Collecting onnxsim>=0.4.33\n",
            "  Downloading onnxsim-0.4.36-cp310-cp310-manylinux_2_17_x86_64.manylinux2014_x86_64.whl (2.3 MB)\n",
            "     ━━━━━━━━━━━━━━━━━━━━━━━━━━━━━━━━━━━━━━━━ 2.3/2.3 MB 214.3 MB/s eta 0:00:00\n",
            "Collecting onnx_graphsurgeon>=0.3.26\n",
            "  Downloading onnx_graphsurgeon-0.5.2-py2.py3-none-any.whl (56 kB)\n",
            "     ━━━━━━━━━━━━━━━━━━━━━━━━━━━━━━━━━━━━━━━━ 56.4/56.4 kB 88.9 MB/s eta 0:00:00\n",
            "Collecting tflite_support\n",
            "  Downloading tflite_support-0.4.4-cp310-cp310-manylinux2014_x86_64.whl (60.8 MB)\n",
            "     ━━━━━━━━━━━━━━━━━━━━━━━━━━━━━━━━━━━━━━━━ 60.8/60.8 MB 213.6 MB/s eta 0:00:00\n",
            "Collecting onnxruntime\n",
            "  Downloading onnxruntime-1.18.0-cp310-cp310-manylinux_2_27_x86_64.manylinux_2_28_x86_64.whl (6.8 MB)\n",
            "     ━━━━━━━━━━━━━━━━━━━━━━━━━━━━━━━━━━━━━━━━ 6.8/6.8 MB 243.9 MB/s eta 0:00:00\n",
            "Requirement already satisfied: numpy>=1.20 in /usr/local/lib/python3.10/dist-packages (from onnx>=1.12.0) (1.25.2)\n",
            "Requirement already satisfied: protobuf>=3.20.2 in /usr/local/lib/python3.10/dist-packages (from onnx>=1.12.0) (3.20.3)\n",
            "Requirement already satisfied: rich in /usr/local/lib/python3.10/dist-packages (from onnxsim>=0.4.33) (13.7.1)\n",
            "Requirement already satisfied: absl-py>=0.7.0 in /usr/local/lib/python3.10/dist-packages (from tflite_support) (1.4.0)\n",
            "Requirement already satisfied: flatbuffers>=2.0 in /usr/local/lib/python3.10/dist-packages (from tflite_support) (24.3.25)\n",
            "Collecting sounddevice>=0.4.4 (from tflite_support)\n",
            "  Downloading sounddevice-0.4.7-py3-none-any.whl (32 kB)\n",
            "Collecting pybind11>=2.6.0 (from tflite_support)\n",
            "  Downloading pybind11-2.12.0-py3-none-any.whl (234 kB)\n",
            "     ━━━━━━━━━━━━━━━━━━━━━━━━━━━━━━━━━━━━━━━━ 235.0/235.0 kB 256.3 MB/s eta 0:00:00\n",
            "Collecting coloredlogs (from onnxruntime)\n",
            "  Downloading coloredlogs-15.0.1-py2.py3-none-any.whl (46 kB)\n",
            "     ━━━━━━━━━━━━━━━━━━━━━━━━━━━━━━━━━━━━━━━━ 46.0/46.0 kB 145.3 MB/s eta 0:00:00\n",
            "Requirement already satisfied: packaging in /usr/local/lib/python3.10/dist-packages (from onnxruntime) (24.0)\n",
            "Requirement already satisfied: sympy in /usr/local/lib/python3.10/dist-packages (from onnxruntime) (1.12)\n",
            "Requirement already satisfied: CFFI>=1.0 in /usr/local/lib/python3.10/dist-packages (from sounddevice>=0.4.4->tflite_support) (1.16.0)\n",
            "Collecting humanfriendly>=9.1 (from coloredlogs->onnxruntime)\n",
            "  Downloading humanfriendly-10.0-py2.py3-none-any.whl (86 kB)\n",
            "     ━━━━━━━━━━━━━━━━━━━━━━━━━━━━━━━━━━━━━━━━ 86.8/86.8 kB 226.3 MB/s eta 0:00:00\n",
            "Requirement already satisfied: markdown-it-py>=2.2.0 in /usr/local/lib/python3.10/dist-packages (from rich->onnxsim>=0.4.33) (3.0.0)\n",
            "Requirement already satisfied: pygments<3.0.0,>=2.13.0 in /usr/local/lib/python3.10/dist-packages (from rich->onnxsim>=0.4.33) (2.16.1)\n",
            "Requirement already satisfied: mpmath>=0.19 in /usr/local/lib/python3.10/dist-packages (from sympy->onnxruntime) (1.3.0)\n",
            "Requirement already satisfied: pycparser in /usr/local/lib/python3.10/dist-packages (from CFFI>=1.0->sounddevice>=0.4.4->tflite_support) (2.22)\n",
            "Requirement already satisfied: mdurl~=0.1 in /usr/local/lib/python3.10/dist-packages (from markdown-it-py>=2.2.0->rich->onnxsim>=0.4.33) (0.1.2)\n",
            "Installing collected packages: sng4onnx, pybind11, onnx2tf, onnx, humanfriendly, sounddevice, onnx_graphsurgeon, coloredlogs, tflite_support, onnxsim, onnxruntime\n",
            "Successfully installed coloredlogs-15.0.1 humanfriendly-10.0 onnx-1.16.1 onnx2tf-1.17.5 onnx_graphsurgeon-0.5.2 onnxruntime-1.18.0 onnxsim-0.4.36 pybind11-2.12.0 sng4onnx-1.0.4 sounddevice-0.4.7 tflite_support-0.4.4\n",
            "\n",
            "\u001b[31m\u001b[1mrequirements:\u001b[0m AutoUpdate success ✅ 20.8s, installed 7 packages: ['onnx>=1.12.0', 'onnx2tf>=1.15.4,<=1.17.5', 'sng4onnx>=1.0.1', 'onnxsim>=0.4.33', 'onnx_graphsurgeon>=0.3.26', 'tflite_support', 'onnxruntime']\n",
            "\u001b[31m\u001b[1mrequirements:\u001b[0m ⚠️ \u001b[1mRestart runtime or rerun command for updates to take effect\u001b[0m\n",
            "\n",
            "\n",
            "\u001b[34m\u001b[1mTensorFlow SavedModel:\u001b[0m starting export with tensorflow 2.15.0...\n",
            "WARNING ⚠️ tensorflow<=2.13.1 is required, but tensorflow==2.15.0 is currently installed https://github.com/ultralytics/ultralytics/issues/5161\n",
            "Downloading https://github.com/ultralytics/assets/releases/download/v8.2.0/calibration_image_sample_data_20x128x128x3_float32.npy.zip to 'calibration_image_sample_data_20x128x128x3_float32.npy.zip'...\n"
          ]
        },
        {
          "name": "stderr",
          "output_type": "stream",
          "text": [
            "100%|██████████| 1.11M/1.11M [00:00<00:00, 101MB/s]\n",
            "Unzipping calibration_image_sample_data_20x128x128x3_float32.npy.zip to /content/calibration_image_sample_data_20x128x128x3_float32.npy...: 100%|██████████| 1/1 [00:00<00:00, 37.43file/s]\n"
          ]
        },
        {
          "name": "stdout",
          "output_type": "stream",
          "text": [
            "\n",
            "\u001b[34m\u001b[1mONNX:\u001b[0m starting export with onnx 1.16.1 opset 17...\n",
            "\u001b[34m\u001b[1mONNX:\u001b[0m simplifying with onnxsim 0.4.36...\n",
            "\u001b[34m\u001b[1mONNX:\u001b[0m export success ✅ 7.8s, saved as '/content/drive/MyDrive/Pothole.v1-raw.yolov8/best.onnx' (98.8 MB)\n",
            "\u001b[34m\u001b[1mTensorFlow SavedModel:\u001b[0m starting TFLite export with onnx2tf 1.17.5...\n",
            "\u001b[34m\u001b[1mTensorFlow SavedModel:\u001b[0m export success ✅ 61.4s, saved as '/content/drive/MyDrive/Pothole.v1-raw.yolov8/best_saved_model' (247.3 MB)\n",
            "\n",
            "\u001b[34m\u001b[1mTensorFlow Lite:\u001b[0m starting export with tensorflow 2.15.0...\n",
            "\u001b[34m\u001b[1mTensorFlow Lite:\u001b[0m export success ✅ 0.0s, saved as '/content/drive/MyDrive/Pothole.v1-raw.yolov8/best_saved_model/best_float32.tflite' (98.8 MB)\n",
            "\n",
            "Export complete (67.1s)\n",
            "Results saved to \u001b[1m/content/drive/MyDrive/Pothole.v1-raw.yolov8\u001b[0m\n",
            "Predict:         yolo predict task=detect model=/content/drive/MyDrive/Pothole.v1-raw.yolov8/best_saved_model/best_float32.tflite imgsz=640  \n",
            "Validate:        yolo val task=detect model=/content/drive/MyDrive/Pothole.v1-raw.yolov8/best_saved_model/best_float32.tflite imgsz=640 data=/content/drive/MyDrive/Pothole.v1-raw.yolov8/data.yaml  \n",
            "Visualize:       https://netron.app\n"
          ]
        },
        {
          "data": {
            "application/vnd.google.colaboratory.intrinsic+json": {
              "type": "string"
            },
            "text/plain": [
              "'/content/drive/MyDrive/Pothole.v1-raw.yolov8/best_saved_model/best_float32.tflite'"
            ]
          },
          "execution_count": 11,
          "metadata": {},
          "output_type": "execute_result"
        }
      ],
      "source": [
        "trained_model.export(format = \"tflite\")"
      ]
    },
    {
      "cell_type": "code",
      "execution_count": 1,
      "metadata": {
        "colab": {
          "background_save": true
        },
        "id": "0kJCI5xn1GIK",
        "outputId": "31923197-3776-4142-c420-eb53c47fbf23"
      },
      "outputs": [],
      "source": [
        "#running the model using a webcam\n",
        "! pip install --upgrade --quiet ultralytics"
      ]
    },
    {
      "cell_type": "code",
      "execution_count": null,
      "metadata": {},
      "outputs": [],
      "source": [
        "from base64 import b64decode, b64encode\n",
        "from google.colab.output import eval_js\n",
        "from IPython.display import display, Javascript\n",
        "from PIL import Image\n",
        "from ultralytics import YOLO\n",
        "from ultralytics.engine.results import Results\n",
        "import io\n",
        "import numpy as np\n",
        "\n",
        "MODEL_NAMES = ['yolov8n.pt', 'yolov8s.pt', 'yolov8m.pt', 'yolov8l.pt', 'yolov8x.pt']\n",
        "PRE_TRAINED_MODEL = YOLO(MODEL_NAMES[0])\n",
        "IMG_SHAPE = [640, 480]\n",
        "IMG_QUALITY = 0.8"
      ]
    },
    {
      "cell_type": "code",
      "execution_count": null,
      "metadata": {},
      "outputs": [],
      "source": [
        "def start_stream():\n",
        "    js = Javascript(f'''\n",
        "    const IMG_SHAPE = {IMG_SHAPE};\n",
        "    const IMG_QUALITY = {IMG_QUALITY};\n",
        "    ''' + '''\n",
        "    var video;\n",
        "    var div = null;\n",
        "    var stream;\n",
        "    var captureCanvas;\n",
        "    var imgElement;\n",
        "    var labelElement;\n",
        "\n",
        "    var pendingResolve = null;\n",
        "    var shutdown = false;\n",
        "\n",
        "    function removeDom() {\n",
        "        stream.getVideoTracks()[0].stop();\n",
        "        video.remove();\n",
        "        div.remove();\n",
        "        video = null;\n",
        "        div = null;\n",
        "        stream = null;\n",
        "        imgElement = null;\n",
        "        captureCanvas = null;\n",
        "        labelElement = null;\n",
        "    }\n",
        "\n",
        "    function onAnimationFrame() {\n",
        "        if (!shutdown) {\n",
        "            window.requestAnimationFrame(onAnimationFrame);\n",
        "        }\n",
        "        if (pendingResolve) {\n",
        "            var result = \"\";\n",
        "            if (!shutdown) {\n",
        "                captureCanvas.getContext('2d').drawImage(video, 0, 0, IMG_SHAPE[0], IMG_SHAPE[1]);\n",
        "                result = captureCanvas.toDataURL('image/jpeg', IMG_QUALITY)\n",
        "            }\n",
        "            var lp = pendingResolve;\n",
        "            pendingResolve = null;\n",
        "            lp(result);\n",
        "        }\n",
        "    }\n",
        "\n",
        "    async function createDom() {\n",
        "        if (div !== null) {\n",
        "            return stream;\n",
        "        }\n",
        "\n",
        "        div = document.createElement('div');\n",
        "        div.style.border = '2px solid black';\n",
        "        div.style.padding = '3px';\n",
        "        div.style.width = '100%';\n",
        "        div.style.maxWidth = '600px';\n",
        "        document.body.appendChild(div);\n",
        "\n",
        "        const modelOut = document.createElement('div');\n",
        "        modelOut.innerHTML = \"<span>Status: </span>\";\n",
        "        labelElement = document.createElement('span');\n",
        "        labelElement.innerText = 'No data';\n",
        "        labelElement.style.fontWeight = 'bold';\n",
        "        modelOut.appendChild(labelElement);\n",
        "        div.appendChild(modelOut);\n",
        "\n",
        "        video = document.createElement('video');\n",
        "        video.style.display = 'block';\n",
        "        video.width = div.clientWidth - 6;\n",
        "        video.setAttribute('playsinline', '');\n",
        "        video.onclick = () => { shutdown = true; };\n",
        "        stream = await navigator.mediaDevices.getUserMedia(\n",
        "            {video: { facingMode: \"environment\"}});\n",
        "        div.appendChild(video);\n",
        "\n",
        "        imgElement = document.createElement('img');\n",
        "        imgElement.style.position = 'absolute';\n",
        "        imgElement.style.zIndex = 1;\n",
        "        imgElement.onclick = () => { shutdown = true; };\n",
        "        div.appendChild(imgElement);\n",
        "\n",
        "        const instruction = document.createElement('div');\n",
        "        instruction.innerHTML =\n",
        "            '<span style=\"color: red; font-weight: bold;\">' +\n",
        "            'When finished, click here or on the video to stop this demo</span>';\n",
        "        div.appendChild(instruction);\n",
        "        instruction.onclick = () => { shutdown = true; };\n",
        "\n",
        "        video.srcObject = stream;\n",
        "        await video.play();\n",
        "\n",
        "        captureCanvas = document.createElement('canvas');\n",
        "        captureCanvas.width = IMG_SHAPE[0]; //video.videoWidth;\n",
        "        captureCanvas.height = IMG_SHAPE[1]; //video.videoHeight;\n",
        "        window.requestAnimationFrame(onAnimationFrame);\n",
        "\n",
        "        return stream;\n",
        "    }\n",
        "    async function takePhoto(label, imgData) {\n",
        "        if (shutdown) {\n",
        "            removeDom();\n",
        "            shutdown = false;\n",
        "            return '';\n",
        "        }\n",
        "\n",
        "        var preCreate = Date.now();\n",
        "        stream = await createDom();\n",
        "\n",
        "        var preShow = Date.now();\n",
        "        if (label != \"\") {\n",
        "            labelElement.innerHTML = label;\n",
        "        }\n",
        "\n",
        "        if (imgData != \"\") {\n",
        "            var videoRect = video.getClientRects()[0];\n",
        "            imgElement.style.top = videoRect.top + \"px\";\n",
        "            imgElement.style.left = videoRect.left + \"px\";\n",
        "            imgElement.style.width = videoRect.width + \"px\";\n",
        "            imgElement.style.height = videoRect.height + \"px\";\n",
        "            imgElement.src = imgData;\n",
        "        }\n",
        "\n",
        "        var preCapture = Date.now();\n",
        "        var result = await new Promise((resolve, reject) => pendingResolve = resolve);\n",
        "        shutdown = false;\n",
        "\n",
        "        return {\n",
        "            'create': preShow - preCreate,\n",
        "            'show': preCapture - preShow,\n",
        "            'capture': Date.now() - preCapture,\n",
        "            'img': result,\n",
        "        };\n",
        "    }\n",
        "    ''')\n",
        "    display(js)\n",
        "\n",
        "def take_photo(label, img_data):\n",
        "    data = eval_js(f'takePhoto(\"{label}\", \"{img_data}\")')\n",
        "    return data"
      ]
    },
    {
      "cell_type": "code",
      "execution_count": null,
      "metadata": {},
      "outputs": [],
      "source": [
        "def js_response_to_image(js_response) -> Image.Image:\n",
        "    _, b64_str = js_response['img'].split(',')\n",
        "    jpeg_bytes = b64decode(b64_str)\n",
        "    image = Image.open(io.BytesIO(jpeg_bytes))\n",
        "    return image\n",
        "\n",
        "def turn_non_black_pixels_visible(rgba_compatible_array: np.ndarray) -> np.ndarray:\n",
        "    rgba_compatible_array[:, :, 3] = (rgba_compatible_array.max(axis=2) > 0).astype(int) * 255\n",
        "    return rgba_compatible_array\n",
        "\n",
        "def black_transparent_rgba_canvas(w, h) -> np.ndarray:\n",
        "    return np.zeros([w, h, 4], dtype=np.uint8)\n",
        "\n",
        "def draw_annotations_on_transparent_bg(detection_result: Results) -> Image.Image:\n",
        "    black_rgba_canvas = black_transparent_rgba_canvas(*detection_result.orig_shape)\n",
        "    transparent_canvas_with_boxes_invisible = detection_result.plot(font='verdana', masks=False, img=black_rgba_canvas)\n",
        "    transparent_canvas_with_boxes_visible = turn_non_black_pixels_visible(transparent_canvas_with_boxes_invisible)\n",
        "    image = Image.fromarray(transparent_canvas_with_boxes_visible, 'RGBA')\n",
        "    return image"
      ]
    },
    {
      "cell_type": "code",
      "execution_count": null,
      "metadata": {},
      "outputs": [],
      "source": [
        "start_stream()\n",
        "img_data = ''\n",
        "while True:\n",
        "    js_response = take_photo('Capturing...', img_data)\n",
        "    if not js_response:\n",
        "        break\n",
        "    captured_img = js_response_to_image(js_response)\n",
        "    for detection_result in PRE_TRAINED_MODEL(source=np.array(captured_img), verbose=False):\n",
        "        annotations_img = draw_annotations_on_transparent_bg(detection_result)\n",
        "        with io.BytesIO() as buffer:\n",
        "            annotations_img.save(buffer, format='png')\n",
        "            img_as_base64_str = str(b64encode(buffer.getvalue()), 'utf-8')\n",
        "            img_data = f'data:image/png;base64,{img_as_base64_str}'"
      ]
    }
  ],
  "metadata": {
    "accelerator": "TPU",
    "colab": {
      "include_colab_link": true,
      "provenance": []
    },
    "kernelspec": {
      "display_name": "Python 3",
      "name": "python3"
    },
    "language_info": {
      "codemirror_mode": {
        "name": "ipython",
        "version": 3
      },
      "file_extension": ".py",
      "mimetype": "text/x-python",
      "name": "python",
      "nbconvert_exporter": "python",
      "pygments_lexer": "ipython3",
      "version": "3.10.10"
    }
  },
  "nbformat": 4,
  "nbformat_minor": 0
}
